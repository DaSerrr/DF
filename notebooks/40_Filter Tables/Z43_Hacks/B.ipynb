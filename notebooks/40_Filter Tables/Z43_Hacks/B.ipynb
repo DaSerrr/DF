{
 "cells": [
  {
   "attachments": {},
   "cell_type": "markdown",
   "id": "c0bac076",
   "metadata": {
    "papermill": {
     "duration": 0.005667,
     "end_time": "2024-04-10T10:53:49.214013",
     "exception": false,
     "start_time": "2024-04-10T10:53:49.208346",
     "status": "completed"
    },
    "tags": []
   },
   "source": [
    "# Hacking with pandas: dummy vs proficient solutions"
   ]
  },
  {
   "attachments": {},
   "cell_type": "markdown",
   "id": "fac07ba7",
   "metadata": {
    "papermill": {
     "duration": 0.004286,
     "end_time": "2024-04-10T10:53:49.224511",
     "exception": false,
     "start_time": "2024-04-10T10:53:49.220225",
     "status": "completed"
    },
    "tags": []
   },
   "source": [
    "## df[mask] vs df.query"
   ]
  },
  {
   "attachments": {},
   "cell_type": "markdown",
   "id": "84733a0b",
   "metadata": {
    "papermill": {
     "duration": 0.005796,
     "end_time": "2024-04-10T10:53:49.235699",
     "exception": false,
     "start_time": "2024-04-10T10:53:49.229903",
     "status": "completed"
    },
    "tags": []
   },
   "source": [
    "**Exercise**: Filter the year 2021."
   ]
  },
  {
   "cell_type": "code",
   "execution_count": 1,
   "id": "77b1a443",
   "metadata": {
    "execution": {
     "iopub.execute_input": "2024-04-10T10:53:49.244294Z",
     "iopub.status.busy": "2024-04-10T10:53:49.244033Z",
     "iopub.status.idle": "2024-04-10T10:53:49.849472Z",
     "shell.execute_reply": "2024-04-10T10:53:49.848496Z"
    },
    "papermill": {
     "duration": 0.612227,
     "end_time": "2024-04-10T10:53:49.851796",
     "exception": false,
     "start_time": "2024-04-10T10:53:49.239569",
     "status": "completed"
    },
    "tags": []
   },
   "outputs": [
    {
     "data": {
      "text/html": [
       "<div>\n",
       "<style scoped>\n",
       "    .dataframe tbody tr th:only-of-type {\n",
       "        vertical-align: middle;\n",
       "    }\n",
       "\n",
       "    .dataframe tbody tr th {\n",
       "        vertical-align: top;\n",
       "    }\n",
       "\n",
       "    .dataframe thead th {\n",
       "        text-align: right;\n",
       "    }\n",
       "</style>\n",
       "<table border=\"1\" class=\"dataframe\">\n",
       "  <thead>\n",
       "    <tr style=\"text-align: right;\">\n",
       "      <th></th>\n",
       "      <th>technology</th>\n",
       "      <th>year</th>\n",
       "      <th>month</th>\n",
       "      <th>day</th>\n",
       "      <th>hour</th>\n",
       "      <th>generation_mwh</th>\n",
       "    </tr>\n",
       "  </thead>\n",
       "  <tbody>\n",
       "    <tr>\n",
       "      <th>0</th>\n",
       "      <td>Carbon</td>\n",
       "      <td>2019</td>\n",
       "      <td>1</td>\n",
       "      <td>1</td>\n",
       "      <td>0</td>\n",
       "      <td>1867.0</td>\n",
       "    </tr>\n",
       "    <tr>\n",
       "      <th>1</th>\n",
       "      <td>Carbon</td>\n",
       "      <td>2019</td>\n",
       "      <td>1</td>\n",
       "      <td>1</td>\n",
       "      <td>1</td>\n",
       "      <td>1618.0</td>\n",
       "    </tr>\n",
       "    <tr>\n",
       "      <th>...</th>\n",
       "      <td>...</td>\n",
       "      <td>...</td>\n",
       "      <td>...</td>\n",
       "      <td>...</td>\n",
       "      <td>...</td>\n",
       "      <td>...</td>\n",
       "    </tr>\n",
       "    <tr>\n",
       "      <th>420862</th>\n",
       "      <td>Other Renewables</td>\n",
       "      <td>2021</td>\n",
       "      <td>12</td>\n",
       "      <td>31</td>\n",
       "      <td>22</td>\n",
       "      <td>607.5</td>\n",
       "    </tr>\n",
       "    <tr>\n",
       "      <th>420863</th>\n",
       "      <td>Other Renewables</td>\n",
       "      <td>2021</td>\n",
       "      <td>12</td>\n",
       "      <td>31</td>\n",
       "      <td>23</td>\n",
       "      <td>591.6</td>\n",
       "    </tr>\n",
       "  </tbody>\n",
       "</table>\n",
       "<p>420864 rows × 6 columns</p>\n",
       "</div>"
      ],
      "text/plain": [
       "              technology  year  month  day  hour  generation_mwh\n",
       "0                 Carbon  2019      1    1     0          1867.0\n",
       "1                 Carbon  2019      1    1     1          1618.0\n",
       "...                  ...   ...    ...  ...   ...             ...\n",
       "420862  Other Renewables  2021     12   31    22           607.5\n",
       "420863  Other Renewables  2021     12   31    23           591.6\n",
       "\n",
       "[420864 rows x 6 columns]"
      ]
     },
     "execution_count": 1,
     "metadata": {},
     "output_type": "execute_result"
    }
   ],
   "source": [
    "import pandas as pd\n",
    "\n",
    "df_energy = pd.read_csv('../../../data/raw/energy_generation_spain_2019_2021.csv')\n",
    "df_energy"
   ]
  },
  {
   "attachments": {},
   "cell_type": "markdown",
   "id": "1b1350ee",
   "metadata": {
    "papermill": {
     "duration": 0.004993,
     "end_time": "2024-04-10T10:53:49.861268",
     "exception": false,
     "start_time": "2024-04-10T10:53:49.856275",
     "status": "completed"
    },
    "tags": []
   },
   "source": [
    "### Dummy"
   ]
  },
  {
   "cell_type": "code",
   "execution_count": 2,
   "id": "d2a025fa",
   "metadata": {
    "execution": {
     "iopub.execute_input": "2024-04-10T10:53:49.872627Z",
     "iopub.status.busy": "2024-04-10T10:53:49.872324Z",
     "iopub.status.idle": "2024-04-10T10:53:49.888020Z",
     "shell.execute_reply": "2024-04-10T10:53:49.887358Z"
    },
    "papermill": {
     "duration": 0.023676,
     "end_time": "2024-04-10T10:53:49.889920",
     "exception": false,
     "start_time": "2024-04-10T10:53:49.866244",
     "status": "completed"
    },
    "tags": []
   },
   "outputs": [
    {
     "data": {
      "text/html": [
       "<div>\n",
       "<style scoped>\n",
       "    .dataframe tbody tr th:only-of-type {\n",
       "        vertical-align: middle;\n",
       "    }\n",
       "\n",
       "    .dataframe tbody tr th {\n",
       "        vertical-align: top;\n",
       "    }\n",
       "\n",
       "    .dataframe thead th {\n",
       "        text-align: right;\n",
       "    }\n",
       "</style>\n",
       "<table border=\"1\" class=\"dataframe\">\n",
       "  <thead>\n",
       "    <tr style=\"text-align: right;\">\n",
       "      <th></th>\n",
       "      <th>technology</th>\n",
       "      <th>year</th>\n",
       "      <th>month</th>\n",
       "      <th>day</th>\n",
       "      <th>hour</th>\n",
       "      <th>generation_mwh</th>\n",
       "    </tr>\n",
       "  </thead>\n",
       "  <tbody>\n",
       "    <tr>\n",
       "      <th>17544</th>\n",
       "      <td>Carbon</td>\n",
       "      <td>2021</td>\n",
       "      <td>1</td>\n",
       "      <td>1</td>\n",
       "      <td>0</td>\n",
       "      <td>250.0</td>\n",
       "    </tr>\n",
       "    <tr>\n",
       "      <th>17545</th>\n",
       "      <td>Carbon</td>\n",
       "      <td>2021</td>\n",
       "      <td>1</td>\n",
       "      <td>1</td>\n",
       "      <td>1</td>\n",
       "      <td>250.0</td>\n",
       "    </tr>\n",
       "    <tr>\n",
       "      <th>...</th>\n",
       "      <td>...</td>\n",
       "      <td>...</td>\n",
       "      <td>...</td>\n",
       "      <td>...</td>\n",
       "      <td>...</td>\n",
       "      <td>...</td>\n",
       "    </tr>\n",
       "    <tr>\n",
       "      <th>420862</th>\n",
       "      <td>Other Renewables</td>\n",
       "      <td>2021</td>\n",
       "      <td>12</td>\n",
       "      <td>31</td>\n",
       "      <td>22</td>\n",
       "      <td>607.5</td>\n",
       "    </tr>\n",
       "    <tr>\n",
       "      <th>420863</th>\n",
       "      <td>Other Renewables</td>\n",
       "      <td>2021</td>\n",
       "      <td>12</td>\n",
       "      <td>31</td>\n",
       "      <td>23</td>\n",
       "      <td>591.6</td>\n",
       "    </tr>\n",
       "  </tbody>\n",
       "</table>\n",
       "<p>140160 rows × 6 columns</p>\n",
       "</div>"
      ],
      "text/plain": [
       "              technology  year  month  day  hour  generation_mwh\n",
       "17544             Carbon  2021      1    1     0           250.0\n",
       "17545             Carbon  2021      1    1     1           250.0\n",
       "...                  ...   ...    ...  ...   ...             ...\n",
       "420862  Other Renewables  2021     12   31    22           607.5\n",
       "420863  Other Renewables  2021     12   31    23           591.6\n",
       "\n",
       "[140160 rows x 6 columns]"
      ]
     },
     "execution_count": 2,
     "metadata": {},
     "output_type": "execute_result"
    }
   ],
   "source": [
    "mask_year = df_energy.year == 2021\n",
    "df_energy[mask_year]"
   ]
  },
  {
   "attachments": {},
   "cell_type": "markdown",
   "id": "922b3df8",
   "metadata": {
    "papermill": {
     "duration": 0.025468,
     "end_time": "2024-04-10T10:53:49.920704",
     "exception": false,
     "start_time": "2024-04-10T10:53:49.895236",
     "status": "completed"
    },
    "tags": []
   },
   "source": [
    "### Proficient"
   ]
  },
  {
   "cell_type": "code",
   "execution_count": 3,
   "id": "e494415a",
   "metadata": {
    "execution": {
     "iopub.execute_input": "2024-04-10T10:53:49.930241Z",
     "iopub.status.busy": "2024-04-10T10:53:49.929766Z",
     "iopub.status.idle": "2024-04-10T10:53:49.949823Z",
     "shell.execute_reply": "2024-04-10T10:53:49.949191Z"
    },
    "papermill": {
     "duration": 0.02707,
     "end_time": "2024-04-10T10:53:49.951784",
     "exception": false,
     "start_time": "2024-04-10T10:53:49.924714",
     "status": "completed"
    },
    "tags": []
   },
   "outputs": [
    {
     "data": {
      "text/html": [
       "<div>\n",
       "<style scoped>\n",
       "    .dataframe tbody tr th:only-of-type {\n",
       "        vertical-align: middle;\n",
       "    }\n",
       "\n",
       "    .dataframe tbody tr th {\n",
       "        vertical-align: top;\n",
       "    }\n",
       "\n",
       "    .dataframe thead th {\n",
       "        text-align: right;\n",
       "    }\n",
       "</style>\n",
       "<table border=\"1\" class=\"dataframe\">\n",
       "  <thead>\n",
       "    <tr style=\"text-align: right;\">\n",
       "      <th></th>\n",
       "      <th>technology</th>\n",
       "      <th>year</th>\n",
       "      <th>month</th>\n",
       "      <th>day</th>\n",
       "      <th>hour</th>\n",
       "      <th>generation_mwh</th>\n",
       "    </tr>\n",
       "  </thead>\n",
       "  <tbody>\n",
       "    <tr>\n",
       "      <th>17544</th>\n",
       "      <td>Carbon</td>\n",
       "      <td>2021</td>\n",
       "      <td>1</td>\n",
       "      <td>1</td>\n",
       "      <td>0</td>\n",
       "      <td>250.0</td>\n",
       "    </tr>\n",
       "    <tr>\n",
       "      <th>17545</th>\n",
       "      <td>Carbon</td>\n",
       "      <td>2021</td>\n",
       "      <td>1</td>\n",
       "      <td>1</td>\n",
       "      <td>1</td>\n",
       "      <td>250.0</td>\n",
       "    </tr>\n",
       "    <tr>\n",
       "      <th>...</th>\n",
       "      <td>...</td>\n",
       "      <td>...</td>\n",
       "      <td>...</td>\n",
       "      <td>...</td>\n",
       "      <td>...</td>\n",
       "      <td>...</td>\n",
       "    </tr>\n",
       "    <tr>\n",
       "      <th>420862</th>\n",
       "      <td>Other Renewables</td>\n",
       "      <td>2021</td>\n",
       "      <td>12</td>\n",
       "      <td>31</td>\n",
       "      <td>22</td>\n",
       "      <td>607.5</td>\n",
       "    </tr>\n",
       "    <tr>\n",
       "      <th>420863</th>\n",
       "      <td>Other Renewables</td>\n",
       "      <td>2021</td>\n",
       "      <td>12</td>\n",
       "      <td>31</td>\n",
       "      <td>23</td>\n",
       "      <td>591.6</td>\n",
       "    </tr>\n",
       "  </tbody>\n",
       "</table>\n",
       "<p>140160 rows × 6 columns</p>\n",
       "</div>"
      ],
      "text/plain": [
       "              technology  year  month  day  hour  generation_mwh\n",
       "17544             Carbon  2021      1    1     0           250.0\n",
       "17545             Carbon  2021      1    1     1           250.0\n",
       "...                  ...   ...    ...  ...   ...             ...\n",
       "420862  Other Renewables  2021     12   31    22           607.5\n",
       "420863  Other Renewables  2021     12   31    23           591.6\n",
       "\n",
       "[140160 rows x 6 columns]"
      ]
     },
     "execution_count": 3,
     "metadata": {},
     "output_type": "execute_result"
    }
   ],
   "source": [
    "df_energy.query('year == 2021')"
   ]
  },
  {
   "attachments": {},
   "cell_type": "markdown",
   "id": "a8492d2b",
   "metadata": {
    "papermill": {
     "duration": 0.00464,
     "end_time": "2024-04-10T10:53:49.961024",
     "exception": false,
     "start_time": "2024-04-10T10:53:49.956384",
     "status": "completed"
    },
    "tags": []
   },
   "source": [
    "## Query with multiple conditions"
   ]
  },
  {
   "attachments": {},
   "cell_type": "markdown",
   "id": "e41ffe57",
   "metadata": {
    "papermill": {
     "duration": 0.005618,
     "end_time": "2024-04-10T10:53:49.972654",
     "exception": false,
     "start_time": "2024-04-10T10:53:49.967036",
     "status": "completed"
    },
    "tags": []
   },
   "source": [
    "**Exercise**: Filter the year `2021` and `Eolic` technology."
   ]
  },
  {
   "attachments": {},
   "cell_type": "markdown",
   "id": "ad1aa53e",
   "metadata": {
    "papermill": {
     "duration": 0.025365,
     "end_time": "2024-04-10T10:53:50.018974",
     "exception": false,
     "start_time": "2024-04-10T10:53:49.993609",
     "status": "completed"
    },
    "tags": []
   },
   "source": [
    "### Dummy"
   ]
  },
  {
   "cell_type": "code",
   "execution_count": 4,
   "id": "e6dfeb4c",
   "metadata": {
    "execution": {
     "iopub.execute_input": "2024-04-10T10:53:50.045134Z",
     "iopub.status.busy": "2024-04-10T10:53:50.044821Z",
     "iopub.status.idle": "2024-04-10T10:53:50.078689Z",
     "shell.execute_reply": "2024-04-10T10:53:50.078141Z"
    },
    "papermill": {
     "duration": 0.041537,
     "end_time": "2024-04-10T10:53:50.081135",
     "exception": false,
     "start_time": "2024-04-10T10:53:50.039598",
     "status": "completed"
    },
    "tags": []
   },
   "outputs": [
    {
     "data": {
      "text/html": [
       "<div>\n",
       "<style scoped>\n",
       "    .dataframe tbody tr th:only-of-type {\n",
       "        vertical-align: middle;\n",
       "    }\n",
       "\n",
       "    .dataframe tbody tr th {\n",
       "        vertical-align: top;\n",
       "    }\n",
       "\n",
       "    .dataframe thead th {\n",
       "        text-align: right;\n",
       "    }\n",
       "</style>\n",
       "<table border=\"1\" class=\"dataframe\">\n",
       "  <thead>\n",
       "    <tr style=\"text-align: right;\">\n",
       "      <th></th>\n",
       "      <th>technology</th>\n",
       "      <th>year</th>\n",
       "      <th>month</th>\n",
       "      <th>day</th>\n",
       "      <th>hour</th>\n",
       "      <th>generation_mwh</th>\n",
       "    </tr>\n",
       "  </thead>\n",
       "  <tbody>\n",
       "    <tr>\n",
       "      <th>122760</th>\n",
       "      <td>Eolic</td>\n",
       "      <td>2021</td>\n",
       "      <td>1</td>\n",
       "      <td>1</td>\n",
       "      <td>0</td>\n",
       "      <td>8557.5</td>\n",
       "    </tr>\n",
       "    <tr>\n",
       "      <th>122761</th>\n",
       "      <td>Eolic</td>\n",
       "      <td>2021</td>\n",
       "      <td>1</td>\n",
       "      <td>1</td>\n",
       "      <td>1</td>\n",
       "      <td>8661.6</td>\n",
       "    </tr>\n",
       "    <tr>\n",
       "      <th>...</th>\n",
       "      <td>...</td>\n",
       "      <td>...</td>\n",
       "      <td>...</td>\n",
       "      <td>...</td>\n",
       "      <td>...</td>\n",
       "      <td>...</td>\n",
       "    </tr>\n",
       "    <tr>\n",
       "      <th>131518</th>\n",
       "      <td>Eolic</td>\n",
       "      <td>2021</td>\n",
       "      <td>12</td>\n",
       "      <td>31</td>\n",
       "      <td>22</td>\n",
       "      <td>6081.8</td>\n",
       "    </tr>\n",
       "    <tr>\n",
       "      <th>131519</th>\n",
       "      <td>Eolic</td>\n",
       "      <td>2021</td>\n",
       "      <td>12</td>\n",
       "      <td>31</td>\n",
       "      <td>23</td>\n",
       "      <td>6255.3</td>\n",
       "    </tr>\n",
       "  </tbody>\n",
       "</table>\n",
       "<p>8760 rows × 6 columns</p>\n",
       "</div>"
      ],
      "text/plain": [
       "       technology  year  month  day  hour  generation_mwh\n",
       "122760      Eolic  2021      1    1     0          8557.5\n",
       "122761      Eolic  2021      1    1     1          8661.6\n",
       "...           ...   ...    ...  ...   ...             ...\n",
       "131518      Eolic  2021     12   31    22          6081.8\n",
       "131519      Eolic  2021     12   31    23          6255.3\n",
       "\n",
       "[8760 rows x 6 columns]"
      ]
     },
     "execution_count": 4,
     "metadata": {},
     "output_type": "execute_result"
    }
   ],
   "source": [
    "mask_2021 = df_energy.year == 2021\n",
    "mask_eolic = df_energy.technology == 'Eolic'\n",
    "\n",
    "df_energy[mask_2021 & mask_eolic]"
   ]
  },
  {
   "attachments": {},
   "cell_type": "markdown",
   "id": "44ce7c3c",
   "metadata": {
    "papermill": {
     "duration": 0.024093,
     "end_time": "2024-04-10T10:53:50.117018",
     "exception": false,
     "start_time": "2024-04-10T10:53:50.092925",
     "status": "completed"
    },
    "tags": []
   },
   "source": [
    "### Proficient"
   ]
  },
  {
   "cell_type": "code",
   "execution_count": 5,
   "id": "0f6223ad",
   "metadata": {
    "execution": {
     "iopub.execute_input": "2024-04-10T10:53:50.127237Z",
     "iopub.status.busy": "2024-04-10T10:53:50.126751Z",
     "iopub.status.idle": "2024-04-10T10:53:50.149404Z",
     "shell.execute_reply": "2024-04-10T10:53:50.148644Z"
    },
    "papermill": {
     "duration": 0.029655,
     "end_time": "2024-04-10T10:53:50.151303",
     "exception": false,
     "start_time": "2024-04-10T10:53:50.121648",
     "status": "completed"
    },
    "tags": []
   },
   "outputs": [
    {
     "data": {
      "text/html": [
       "<div>\n",
       "<style scoped>\n",
       "    .dataframe tbody tr th:only-of-type {\n",
       "        vertical-align: middle;\n",
       "    }\n",
       "\n",
       "    .dataframe tbody tr th {\n",
       "        vertical-align: top;\n",
       "    }\n",
       "\n",
       "    .dataframe thead th {\n",
       "        text-align: right;\n",
       "    }\n",
       "</style>\n",
       "<table border=\"1\" class=\"dataframe\">\n",
       "  <thead>\n",
       "    <tr style=\"text-align: right;\">\n",
       "      <th></th>\n",
       "      <th>technology</th>\n",
       "      <th>year</th>\n",
       "      <th>month</th>\n",
       "      <th>day</th>\n",
       "      <th>hour</th>\n",
       "      <th>generation_mwh</th>\n",
       "    </tr>\n",
       "  </thead>\n",
       "  <tbody>\n",
       "    <tr>\n",
       "      <th>122760</th>\n",
       "      <td>Eolic</td>\n",
       "      <td>2021</td>\n",
       "      <td>1</td>\n",
       "      <td>1</td>\n",
       "      <td>0</td>\n",
       "      <td>8557.5</td>\n",
       "    </tr>\n",
       "    <tr>\n",
       "      <th>122761</th>\n",
       "      <td>Eolic</td>\n",
       "      <td>2021</td>\n",
       "      <td>1</td>\n",
       "      <td>1</td>\n",
       "      <td>1</td>\n",
       "      <td>8661.6</td>\n",
       "    </tr>\n",
       "    <tr>\n",
       "      <th>...</th>\n",
       "      <td>...</td>\n",
       "      <td>...</td>\n",
       "      <td>...</td>\n",
       "      <td>...</td>\n",
       "      <td>...</td>\n",
       "      <td>...</td>\n",
       "    </tr>\n",
       "    <tr>\n",
       "      <th>131518</th>\n",
       "      <td>Eolic</td>\n",
       "      <td>2021</td>\n",
       "      <td>12</td>\n",
       "      <td>31</td>\n",
       "      <td>22</td>\n",
       "      <td>6081.8</td>\n",
       "    </tr>\n",
       "    <tr>\n",
       "      <th>131519</th>\n",
       "      <td>Eolic</td>\n",
       "      <td>2021</td>\n",
       "      <td>12</td>\n",
       "      <td>31</td>\n",
       "      <td>23</td>\n",
       "      <td>6255.3</td>\n",
       "    </tr>\n",
       "  </tbody>\n",
       "</table>\n",
       "<p>8760 rows × 6 columns</p>\n",
       "</div>"
      ],
      "text/plain": [
       "       technology  year  month  day  hour  generation_mwh\n",
       "122760      Eolic  2021      1    1     0          8557.5\n",
       "122761      Eolic  2021      1    1     1          8661.6\n",
       "...           ...   ...    ...  ...   ...             ...\n",
       "131518      Eolic  2021     12   31    22          6081.8\n",
       "131519      Eolic  2021     12   31    23          6255.3\n",
       "\n",
       "[8760 rows x 6 columns]"
      ]
     },
     "execution_count": 5,
     "metadata": {},
     "output_type": "execute_result"
    }
   ],
   "source": [
    "df_energy.query('year == 2021 & technology == \"Eolic\"')"
   ]
  },
  {
   "attachments": {},
   "cell_type": "markdown",
   "id": "bdfa4086",
   "metadata": {
    "papermill": {
     "duration": 0.007698,
     "end_time": "2024-04-10T10:53:50.166972",
     "exception": false,
     "start_time": "2024-04-10T10:53:50.159274",
     "status": "completed"
    },
    "tags": []
   },
   "source": [
    "## Filter rows with regular expressions"
   ]
  },
  {
   "attachments": {},
   "cell_type": "markdown",
   "id": "8d053246",
   "metadata": {
    "papermill": {
     "duration": 0.005486,
     "end_time": "2024-04-10T10:53:50.178334",
     "exception": false,
     "start_time": "2024-04-10T10:53:50.172848",
     "status": "completed"
    },
    "tags": []
   },
   "source": [
    "**Exercise**: Filter all `fiat` from the following `DataFrame`."
   ]
  },
  {
   "cell_type": "code",
   "execution_count": 6,
   "id": "73155c8f",
   "metadata": {
    "execution": {
     "iopub.execute_input": "2024-04-10T10:53:50.209059Z",
     "iopub.status.busy": "2024-04-10T10:53:50.208741Z",
     "iopub.status.idle": "2024-04-10T10:53:51.677170Z",
     "shell.execute_reply": "2024-04-10T10:53:51.676346Z"
    },
    "papermill": {
     "duration": 1.476833,
     "end_time": "2024-04-10T10:53:51.679247",
     "exception": false,
     "start_time": "2024-04-10T10:53:50.202414",
     "status": "completed"
    },
    "tags": []
   },
   "outputs": [
    {
     "data": {
      "text/html": [
       "<div>\n",
       "<style scoped>\n",
       "    .dataframe tbody tr th:only-of-type {\n",
       "        vertical-align: middle;\n",
       "    }\n",
       "\n",
       "    .dataframe tbody tr th {\n",
       "        vertical-align: top;\n",
       "    }\n",
       "\n",
       "    .dataframe thead th {\n",
       "        text-align: right;\n",
       "    }\n",
       "</style>\n",
       "<table border=\"1\" class=\"dataframe\">\n",
       "  <thead>\n",
       "    <tr style=\"text-align: right;\">\n",
       "      <th></th>\n",
       "      <th>mpg</th>\n",
       "      <th>cylinders</th>\n",
       "      <th>displacement</th>\n",
       "      <th>horsepower</th>\n",
       "      <th>weight</th>\n",
       "      <th>acceleration</th>\n",
       "      <th>model_year</th>\n",
       "      <th>origin</th>\n",
       "      <th>name</th>\n",
       "    </tr>\n",
       "  </thead>\n",
       "  <tbody>\n",
       "    <tr>\n",
       "      <th>0</th>\n",
       "      <td>18.0</td>\n",
       "      <td>8</td>\n",
       "      <td>307.0</td>\n",
       "      <td>130.0</td>\n",
       "      <td>3504</td>\n",
       "      <td>12.0</td>\n",
       "      <td>70</td>\n",
       "      <td>usa</td>\n",
       "      <td>Chevrolet Chevelle Malibu</td>\n",
       "    </tr>\n",
       "    <tr>\n",
       "      <th>1</th>\n",
       "      <td>15.0</td>\n",
       "      <td>8</td>\n",
       "      <td>350.0</td>\n",
       "      <td>165.0</td>\n",
       "      <td>3693</td>\n",
       "      <td>11.5</td>\n",
       "      <td>70</td>\n",
       "      <td>usa</td>\n",
       "      <td>Buick Skylark 320</td>\n",
       "    </tr>\n",
       "    <tr>\n",
       "      <th>...</th>\n",
       "      <td>...</td>\n",
       "      <td>...</td>\n",
       "      <td>...</td>\n",
       "      <td>...</td>\n",
       "      <td>...</td>\n",
       "      <td>...</td>\n",
       "      <td>...</td>\n",
       "      <td>...</td>\n",
       "      <td>...</td>\n",
       "    </tr>\n",
       "    <tr>\n",
       "      <th>396</th>\n",
       "      <td>28.0</td>\n",
       "      <td>4</td>\n",
       "      <td>120.0</td>\n",
       "      <td>79.0</td>\n",
       "      <td>2625</td>\n",
       "      <td>18.6</td>\n",
       "      <td>82</td>\n",
       "      <td>usa</td>\n",
       "      <td>Ford Ranger</td>\n",
       "    </tr>\n",
       "    <tr>\n",
       "      <th>397</th>\n",
       "      <td>31.0</td>\n",
       "      <td>4</td>\n",
       "      <td>119.0</td>\n",
       "      <td>82.0</td>\n",
       "      <td>2720</td>\n",
       "      <td>19.4</td>\n",
       "      <td>82</td>\n",
       "      <td>usa</td>\n",
       "      <td>Chevy S-10</td>\n",
       "    </tr>\n",
       "  </tbody>\n",
       "</table>\n",
       "<p>398 rows × 9 columns</p>\n",
       "</div>"
      ],
      "text/plain": [
       "      mpg  cylinders  displacement  horsepower  weight  acceleration  \\\n",
       "0    18.0          8         307.0       130.0    3504          12.0   \n",
       "1    15.0          8         350.0       165.0    3693          11.5   \n",
       "..    ...        ...           ...         ...     ...           ...   \n",
       "396  28.0          4         120.0        79.0    2625          18.6   \n",
       "397  31.0          4         119.0        82.0    2720          19.4   \n",
       "\n",
       "     model_year origin                       name  \n",
       "0            70    usa  Chevrolet Chevelle Malibu  \n",
       "1            70    usa          Buick Skylark 320  \n",
       "..          ...    ...                        ...  \n",
       "396          82    usa                Ford Ranger  \n",
       "397          82    usa                 Chevy S-10  \n",
       "\n",
       "[398 rows x 9 columns]"
      ]
     },
     "execution_count": 6,
     "metadata": {},
     "output_type": "execute_result"
    }
   ],
   "source": [
    "import seaborn as sns\n",
    "\n",
    "df_mpg = sns.load_dataset('mpg')\n",
    "df_mpg.name = df_mpg.name.str.title()\n",
    "df_mpg"
   ]
  },
  {
   "attachments": {},
   "cell_type": "markdown",
   "id": "dd87ac9c",
   "metadata": {
    "papermill": {
     "duration": 0.004639,
     "end_time": "2024-04-10T10:53:51.689169",
     "exception": false,
     "start_time": "2024-04-10T10:53:51.684530",
     "status": "completed"
    },
    "tags": []
   },
   "source": [
    "### Dummy"
   ]
  },
  {
   "cell_type": "code",
   "execution_count": 7,
   "id": "c5739062",
   "metadata": {
    "execution": {
     "iopub.execute_input": "2024-04-10T10:53:51.700435Z",
     "iopub.status.busy": "2024-04-10T10:53:51.700106Z",
     "iopub.status.idle": "2024-04-10T10:53:51.712199Z",
     "shell.execute_reply": "2024-04-10T10:53:51.711652Z"
    },
    "papermill": {
     "duration": 0.020787,
     "end_time": "2024-04-10T10:53:51.714402",
     "exception": false,
     "start_time": "2024-04-10T10:53:51.693615",
     "status": "completed"
    },
    "tags": []
   },
   "outputs": [
    {
     "data": {
      "text/html": [
       "<div>\n",
       "<style scoped>\n",
       "    .dataframe tbody tr th:only-of-type {\n",
       "        vertical-align: middle;\n",
       "    }\n",
       "\n",
       "    .dataframe tbody tr th {\n",
       "        vertical-align: top;\n",
       "    }\n",
       "\n",
       "    .dataframe thead th {\n",
       "        text-align: right;\n",
       "    }\n",
       "</style>\n",
       "<table border=\"1\" class=\"dataframe\">\n",
       "  <thead>\n",
       "    <tr style=\"text-align: right;\">\n",
       "      <th></th>\n",
       "      <th>mpg</th>\n",
       "      <th>cylinders</th>\n",
       "      <th>displacement</th>\n",
       "      <th>horsepower</th>\n",
       "      <th>weight</th>\n",
       "      <th>acceleration</th>\n",
       "      <th>model_year</th>\n",
       "      <th>origin</th>\n",
       "      <th>name</th>\n",
       "    </tr>\n",
       "  </thead>\n",
       "  <tbody>\n",
       "    <tr>\n",
       "      <th>114</th>\n",
       "      <td>26.0</td>\n",
       "      <td>4</td>\n",
       "      <td>98.0</td>\n",
       "      <td>90.0</td>\n",
       "      <td>2265</td>\n",
       "      <td>15.5</td>\n",
       "      <td>73</td>\n",
       "      <td>europe</td>\n",
       "      <td>Fiat 124 Sport Coupe</td>\n",
       "    </tr>\n",
       "    <tr>\n",
       "      <th>117</th>\n",
       "      <td>29.0</td>\n",
       "      <td>4</td>\n",
       "      <td>68.0</td>\n",
       "      <td>49.0</td>\n",
       "      <td>1867</td>\n",
       "      <td>19.5</td>\n",
       "      <td>73</td>\n",
       "      <td>europe</td>\n",
       "      <td>Fiat 128</td>\n",
       "    </tr>\n",
       "    <tr>\n",
       "      <th>147</th>\n",
       "      <td>24.0</td>\n",
       "      <td>4</td>\n",
       "      <td>90.0</td>\n",
       "      <td>75.0</td>\n",
       "      <td>2108</td>\n",
       "      <td>15.5</td>\n",
       "      <td>74</td>\n",
       "      <td>europe</td>\n",
       "      <td>Fiat 128</td>\n",
       "    </tr>\n",
       "    <tr>\n",
       "      <th>148</th>\n",
       "      <td>26.0</td>\n",
       "      <td>4</td>\n",
       "      <td>116.0</td>\n",
       "      <td>75.0</td>\n",
       "      <td>2246</td>\n",
       "      <td>14.0</td>\n",
       "      <td>74</td>\n",
       "      <td>europe</td>\n",
       "      <td>Fiat 124 Tc</td>\n",
       "    </tr>\n",
       "    <tr>\n",
       "      <th>151</th>\n",
       "      <td>31.0</td>\n",
       "      <td>4</td>\n",
       "      <td>79.0</td>\n",
       "      <td>67.0</td>\n",
       "      <td>2000</td>\n",
       "      <td>16.0</td>\n",
       "      <td>74</td>\n",
       "      <td>europe</td>\n",
       "      <td>Fiat X1.9</td>\n",
       "    </tr>\n",
       "    <tr>\n",
       "      <th>182</th>\n",
       "      <td>28.0</td>\n",
       "      <td>4</td>\n",
       "      <td>107.0</td>\n",
       "      <td>86.0</td>\n",
       "      <td>2464</td>\n",
       "      <td>15.5</td>\n",
       "      <td>76</td>\n",
       "      <td>europe</td>\n",
       "      <td>Fiat 131</td>\n",
       "    </tr>\n",
       "    <tr>\n",
       "      <th>304</th>\n",
       "      <td>37.3</td>\n",
       "      <td>4</td>\n",
       "      <td>91.0</td>\n",
       "      <td>69.0</td>\n",
       "      <td>2130</td>\n",
       "      <td>14.7</td>\n",
       "      <td>79</td>\n",
       "      <td>europe</td>\n",
       "      <td>Fiat Strada Custom</td>\n",
       "    </tr>\n",
       "  </tbody>\n",
       "</table>\n",
       "</div>"
      ],
      "text/plain": [
       "      mpg  cylinders  displacement  horsepower  weight  acceleration  \\\n",
       "114  26.0          4          98.0        90.0    2265          15.5   \n",
       "117  29.0          4          68.0        49.0    1867          19.5   \n",
       "147  24.0          4          90.0        75.0    2108          15.5   \n",
       "148  26.0          4         116.0        75.0    2246          14.0   \n",
       "151  31.0          4          79.0        67.0    2000          16.0   \n",
       "182  28.0          4         107.0        86.0    2464          15.5   \n",
       "304  37.3          4          91.0        69.0    2130          14.7   \n",
       "\n",
       "     model_year  origin                  name  \n",
       "114          73  europe  Fiat 124 Sport Coupe  \n",
       "117          73  europe              Fiat 128  \n",
       "147          74  europe              Fiat 128  \n",
       "148          74  europe           Fiat 124 Tc  \n",
       "151          74  europe             Fiat X1.9  \n",
       "182          76  europe              Fiat 131  \n",
       "304          79  europe    Fiat Strada Custom  "
      ]
     },
     "execution_count": 7,
     "metadata": {},
     "output_type": "execute_result"
    }
   ],
   "source": [
    "list_fiat = ['Fiat 124b', 'Fiat 124 Sport Coupe', 'Fiat 128', 'Fiat 128', 'Fiat 124 Tc', 'Fiat X1.9', 'Fiat 131', 'Fiat Strada Custom']\n",
    "\n",
    "mask_fiat = df_mpg.name.isin(list_fiat)\n",
    "df_mpg[mask_fiat]"
   ]
  },
  {
   "attachments": {},
   "cell_type": "markdown",
   "id": "6917bc9f",
   "metadata": {
    "papermill": {
     "duration": 0.005424,
     "end_time": "2024-04-10T10:53:51.725522",
     "exception": false,
     "start_time": "2024-04-10T10:53:51.720098",
     "status": "completed"
    },
    "tags": []
   },
   "source": [
    "### Proficient"
   ]
  },
  {
   "cell_type": "code",
   "execution_count": 8,
   "id": "cc685414",
   "metadata": {
    "execution": {
     "iopub.execute_input": "2024-04-10T10:53:51.737991Z",
     "iopub.status.busy": "2024-04-10T10:53:51.737710Z",
     "iopub.status.idle": "2024-04-10T10:53:51.749741Z",
     "shell.execute_reply": "2024-04-10T10:53:51.749011Z"
    },
    "papermill": {
     "duration": 0.020525,
     "end_time": "2024-04-10T10:53:51.752000",
     "exception": false,
     "start_time": "2024-04-10T10:53:51.731475",
     "status": "completed"
    },
    "tags": []
   },
   "outputs": [
    {
     "data": {
      "text/html": [
       "<div>\n",
       "<style scoped>\n",
       "    .dataframe tbody tr th:only-of-type {\n",
       "        vertical-align: middle;\n",
       "    }\n",
       "\n",
       "    .dataframe tbody tr th {\n",
       "        vertical-align: top;\n",
       "    }\n",
       "\n",
       "    .dataframe thead th {\n",
       "        text-align: right;\n",
       "    }\n",
       "</style>\n",
       "<table border=\"1\" class=\"dataframe\">\n",
       "  <thead>\n",
       "    <tr style=\"text-align: right;\">\n",
       "      <th></th>\n",
       "      <th>mpg</th>\n",
       "      <th>cylinders</th>\n",
       "      <th>displacement</th>\n",
       "      <th>horsepower</th>\n",
       "      <th>weight</th>\n",
       "      <th>acceleration</th>\n",
       "      <th>model_year</th>\n",
       "      <th>origin</th>\n",
       "      <th>name</th>\n",
       "    </tr>\n",
       "  </thead>\n",
       "  <tbody>\n",
       "    <tr>\n",
       "      <th>52</th>\n",
       "      <td>30.0</td>\n",
       "      <td>4</td>\n",
       "      <td>88.0</td>\n",
       "      <td>76.0</td>\n",
       "      <td>2065</td>\n",
       "      <td>14.5</td>\n",
       "      <td>71</td>\n",
       "      <td>europe</td>\n",
       "      <td>Fiat 124B</td>\n",
       "    </tr>\n",
       "    <tr>\n",
       "      <th>114</th>\n",
       "      <td>26.0</td>\n",
       "      <td>4</td>\n",
       "      <td>98.0</td>\n",
       "      <td>90.0</td>\n",
       "      <td>2265</td>\n",
       "      <td>15.5</td>\n",
       "      <td>73</td>\n",
       "      <td>europe</td>\n",
       "      <td>Fiat 124 Sport Coupe</td>\n",
       "    </tr>\n",
       "    <tr>\n",
       "      <th>117</th>\n",
       "      <td>29.0</td>\n",
       "      <td>4</td>\n",
       "      <td>68.0</td>\n",
       "      <td>49.0</td>\n",
       "      <td>1867</td>\n",
       "      <td>19.5</td>\n",
       "      <td>73</td>\n",
       "      <td>europe</td>\n",
       "      <td>Fiat 128</td>\n",
       "    </tr>\n",
       "    <tr>\n",
       "      <th>147</th>\n",
       "      <td>24.0</td>\n",
       "      <td>4</td>\n",
       "      <td>90.0</td>\n",
       "      <td>75.0</td>\n",
       "      <td>2108</td>\n",
       "      <td>15.5</td>\n",
       "      <td>74</td>\n",
       "      <td>europe</td>\n",
       "      <td>Fiat 128</td>\n",
       "    </tr>\n",
       "    <tr>\n",
       "      <th>148</th>\n",
       "      <td>26.0</td>\n",
       "      <td>4</td>\n",
       "      <td>116.0</td>\n",
       "      <td>75.0</td>\n",
       "      <td>2246</td>\n",
       "      <td>14.0</td>\n",
       "      <td>74</td>\n",
       "      <td>europe</td>\n",
       "      <td>Fiat 124 Tc</td>\n",
       "    </tr>\n",
       "    <tr>\n",
       "      <th>151</th>\n",
       "      <td>31.0</td>\n",
       "      <td>4</td>\n",
       "      <td>79.0</td>\n",
       "      <td>67.0</td>\n",
       "      <td>2000</td>\n",
       "      <td>16.0</td>\n",
       "      <td>74</td>\n",
       "      <td>europe</td>\n",
       "      <td>Fiat X1.9</td>\n",
       "    </tr>\n",
       "    <tr>\n",
       "      <th>182</th>\n",
       "      <td>28.0</td>\n",
       "      <td>4</td>\n",
       "      <td>107.0</td>\n",
       "      <td>86.0</td>\n",
       "      <td>2464</td>\n",
       "      <td>15.5</td>\n",
       "      <td>76</td>\n",
       "      <td>europe</td>\n",
       "      <td>Fiat 131</td>\n",
       "    </tr>\n",
       "    <tr>\n",
       "      <th>304</th>\n",
       "      <td>37.3</td>\n",
       "      <td>4</td>\n",
       "      <td>91.0</td>\n",
       "      <td>69.0</td>\n",
       "      <td>2130</td>\n",
       "      <td>14.7</td>\n",
       "      <td>79</td>\n",
       "      <td>europe</td>\n",
       "      <td>Fiat Strada Custom</td>\n",
       "    </tr>\n",
       "  </tbody>\n",
       "</table>\n",
       "</div>"
      ],
      "text/plain": [
       "      mpg  cylinders  displacement  horsepower  weight  acceleration  \\\n",
       "52   30.0          4          88.0        76.0    2065          14.5   \n",
       "114  26.0          4          98.0        90.0    2265          15.5   \n",
       "117  29.0          4          68.0        49.0    1867          19.5   \n",
       "147  24.0          4          90.0        75.0    2108          15.5   \n",
       "148  26.0          4         116.0        75.0    2246          14.0   \n",
       "151  31.0          4          79.0        67.0    2000          16.0   \n",
       "182  28.0          4         107.0        86.0    2464          15.5   \n",
       "304  37.3          4          91.0        69.0    2130          14.7   \n",
       "\n",
       "     model_year  origin                  name  \n",
       "52           71  europe             Fiat 124B  \n",
       "114          73  europe  Fiat 124 Sport Coupe  \n",
       "117          73  europe              Fiat 128  \n",
       "147          74  europe              Fiat 128  \n",
       "148          74  europe           Fiat 124 Tc  \n",
       "151          74  europe             Fiat X1.9  \n",
       "182          76  europe              Fiat 131  \n",
       "304          79  europe    Fiat Strada Custom  "
      ]
     },
     "execution_count": 8,
     "metadata": {},
     "output_type": "execute_result"
    }
   ],
   "source": [
    "mask_fiat = df_mpg.name.str.contains('Fiat')\n",
    "df_mpg[mask_fiat]"
   ]
  },
  {
   "attachments": {},
   "cell_type": "markdown",
   "id": "5143d063",
   "metadata": {
    "papermill": {
     "duration": 0.005036,
     "end_time": "2024-04-10T10:53:51.762187",
     "exception": false,
     "start_time": "2024-04-10T10:53:51.757151",
     "status": "completed"
    },
    "tags": []
   },
   "source": [
    "## Regex flag to IGNORECASE"
   ]
  },
  {
   "attachments": {},
   "cell_type": "markdown",
   "id": "46a461d4",
   "metadata": {
    "papermill": {
     "duration": 0.005191,
     "end_time": "2024-04-10T10:53:51.773165",
     "exception": false,
     "start_time": "2024-04-10T10:53:51.767974",
     "status": "completed"
    },
    "tags": []
   },
   "source": [
    "**Exercise**: Select all `sport` cars from the `name` column."
   ]
  },
  {
   "attachments": {},
   "cell_type": "markdown",
   "id": "9ea2626c",
   "metadata": {
    "papermill": {
     "duration": 0.00576,
     "end_time": "2024-04-10T10:53:51.783786",
     "exception": false,
     "start_time": "2024-04-10T10:53:51.778026",
     "status": "completed"
    },
    "tags": []
   },
   "source": [
    "### Dummy"
   ]
  },
  {
   "cell_type": "code",
   "execution_count": 9,
   "id": "e8f5100f",
   "metadata": {
    "execution": {
     "iopub.execute_input": "2024-04-10T10:53:51.794879Z",
     "iopub.status.busy": "2024-04-10T10:53:51.794630Z",
     "iopub.status.idle": "2024-04-10T10:53:51.805553Z",
     "shell.execute_reply": "2024-04-10T10:53:51.805075Z"
    },
    "papermill": {
     "duration": 0.01821,
     "end_time": "2024-04-10T10:53:51.807061",
     "exception": false,
     "start_time": "2024-04-10T10:53:51.788851",
     "status": "completed"
    },
    "tags": []
   },
   "outputs": [
    {
     "data": {
      "text/html": [
       "<div>\n",
       "<style scoped>\n",
       "    .dataframe tbody tr th:only-of-type {\n",
       "        vertical-align: middle;\n",
       "    }\n",
       "\n",
       "    .dataframe tbody tr th {\n",
       "        vertical-align: top;\n",
       "    }\n",
       "\n",
       "    .dataframe thead th {\n",
       "        text-align: right;\n",
       "    }\n",
       "</style>\n",
       "<table border=\"1\" class=\"dataframe\">\n",
       "  <thead>\n",
       "    <tr style=\"text-align: right;\">\n",
       "      <th></th>\n",
       "      <th>mpg</th>\n",
       "      <th>cylinders</th>\n",
       "      <th>displacement</th>\n",
       "      <th>horsepower</th>\n",
       "      <th>weight</th>\n",
       "      <th>acceleration</th>\n",
       "      <th>model_year</th>\n",
       "      <th>origin</th>\n",
       "      <th>name</th>\n",
       "    </tr>\n",
       "  </thead>\n",
       "  <tbody>\n",
       "    <tr>\n",
       "      <th>45</th>\n",
       "      <td>18.0</td>\n",
       "      <td>6</td>\n",
       "      <td>258.0</td>\n",
       "      <td>110.0</td>\n",
       "      <td>2962</td>\n",
       "      <td>13.5</td>\n",
       "      <td>71</td>\n",
       "      <td>usa</td>\n",
       "      <td>Amc Hornet Sportabout (Sw)</td>\n",
       "    </tr>\n",
       "    <tr>\n",
       "      <th>114</th>\n",
       "      <td>26.0</td>\n",
       "      <td>4</td>\n",
       "      <td>98.0</td>\n",
       "      <td>90.0</td>\n",
       "      <td>2265</td>\n",
       "      <td>15.5</td>\n",
       "      <td>73</td>\n",
       "      <td>europe</td>\n",
       "      <td>Fiat 124 Sport Coupe</td>\n",
       "    </tr>\n",
       "    <tr>\n",
       "      <th>263</th>\n",
       "      <td>17.7</td>\n",
       "      <td>6</td>\n",
       "      <td>231.0</td>\n",
       "      <td>165.0</td>\n",
       "      <td>3445</td>\n",
       "      <td>13.4</td>\n",
       "      <td>78</td>\n",
       "      <td>usa</td>\n",
       "      <td>Buick Regal Sport Coupe (Turbo)</td>\n",
       "    </tr>\n",
       "  </tbody>\n",
       "</table>\n",
       "</div>"
      ],
      "text/plain": [
       "      mpg  cylinders  displacement  horsepower  weight  acceleration  \\\n",
       "45   18.0          6         258.0       110.0    2962          13.5   \n",
       "114  26.0          4          98.0        90.0    2265          15.5   \n",
       "263  17.7          6         231.0       165.0    3445          13.4   \n",
       "\n",
       "     model_year  origin                             name  \n",
       "45           71     usa       Amc Hornet Sportabout (Sw)  \n",
       "114          73  europe             Fiat 124 Sport Coupe  \n",
       "263          78     usa  Buick Regal Sport Coupe (Turbo)  "
      ]
     },
     "execution_count": 9,
     "metadata": {},
     "output_type": "execute_result"
    }
   ],
   "source": [
    "mask_sport = df_mpg.name.str.contains('Sport|sport|SPORT')\n",
    "df_mpg[mask_sport]"
   ]
  },
  {
   "attachments": {},
   "cell_type": "markdown",
   "id": "5c379bed",
   "metadata": {
    "papermill": {
     "duration": 0.023844,
     "end_time": "2024-04-10T10:53:51.846166",
     "exception": false,
     "start_time": "2024-04-10T10:53:51.822322",
     "status": "completed"
    },
    "tags": []
   },
   "source": [
    "### Proficient"
   ]
  },
  {
   "cell_type": "code",
   "execution_count": 10,
   "id": "e2b39e79",
   "metadata": {
    "execution": {
     "iopub.execute_input": "2024-04-10T10:53:51.859700Z",
     "iopub.status.busy": "2024-04-10T10:53:51.859373Z",
     "iopub.status.idle": "2024-04-10T10:53:51.871493Z",
     "shell.execute_reply": "2024-04-10T10:53:51.870974Z"
    },
    "papermill": {
     "duration": 0.020581,
     "end_time": "2024-04-10T10:53:51.873143",
     "exception": false,
     "start_time": "2024-04-10T10:53:51.852562",
     "status": "completed"
    },
    "tags": []
   },
   "outputs": [
    {
     "data": {
      "text/html": [
       "<div>\n",
       "<style scoped>\n",
       "    .dataframe tbody tr th:only-of-type {\n",
       "        vertical-align: middle;\n",
       "    }\n",
       "\n",
       "    .dataframe tbody tr th {\n",
       "        vertical-align: top;\n",
       "    }\n",
       "\n",
       "    .dataframe thead th {\n",
       "        text-align: right;\n",
       "    }\n",
       "</style>\n",
       "<table border=\"1\" class=\"dataframe\">\n",
       "  <thead>\n",
       "    <tr style=\"text-align: right;\">\n",
       "      <th></th>\n",
       "      <th>mpg</th>\n",
       "      <th>cylinders</th>\n",
       "      <th>displacement</th>\n",
       "      <th>horsepower</th>\n",
       "      <th>weight</th>\n",
       "      <th>acceleration</th>\n",
       "      <th>model_year</th>\n",
       "      <th>origin</th>\n",
       "      <th>name</th>\n",
       "    </tr>\n",
       "  </thead>\n",
       "  <tbody>\n",
       "    <tr>\n",
       "      <th>45</th>\n",
       "      <td>18.0</td>\n",
       "      <td>6</td>\n",
       "      <td>258.0</td>\n",
       "      <td>110.0</td>\n",
       "      <td>2962</td>\n",
       "      <td>13.5</td>\n",
       "      <td>71</td>\n",
       "      <td>usa</td>\n",
       "      <td>Amc Hornet Sportabout (Sw)</td>\n",
       "    </tr>\n",
       "    <tr>\n",
       "      <th>114</th>\n",
       "      <td>26.0</td>\n",
       "      <td>4</td>\n",
       "      <td>98.0</td>\n",
       "      <td>90.0</td>\n",
       "      <td>2265</td>\n",
       "      <td>15.5</td>\n",
       "      <td>73</td>\n",
       "      <td>europe</td>\n",
       "      <td>Fiat 124 Sport Coupe</td>\n",
       "    </tr>\n",
       "    <tr>\n",
       "      <th>263</th>\n",
       "      <td>17.7</td>\n",
       "      <td>6</td>\n",
       "      <td>231.0</td>\n",
       "      <td>165.0</td>\n",
       "      <td>3445</td>\n",
       "      <td>13.4</td>\n",
       "      <td>78</td>\n",
       "      <td>usa</td>\n",
       "      <td>Buick Regal Sport Coupe (Turbo)</td>\n",
       "    </tr>\n",
       "  </tbody>\n",
       "</table>\n",
       "</div>"
      ],
      "text/plain": [
       "      mpg  cylinders  displacement  horsepower  weight  acceleration  \\\n",
       "45   18.0          6         258.0       110.0    2962          13.5   \n",
       "114  26.0          4          98.0        90.0    2265          15.5   \n",
       "263  17.7          6         231.0       165.0    3445          13.4   \n",
       "\n",
       "     model_year  origin                             name  \n",
       "45           71     usa       Amc Hornet Sportabout (Sw)  \n",
       "114          73  europe             Fiat 124 Sport Coupe  \n",
       "263          78     usa  Buick Regal Sport Coupe (Turbo)  "
      ]
     },
     "execution_count": 10,
     "metadata": {},
     "output_type": "execute_result"
    }
   ],
   "source": [
    "import re\n",
    "\n",
    "mask_sport = df_mpg.name.str.contains('sport', flags=re.IGNORECASE)\n",
    "df_mpg[mask_sport]"
   ]
  }
 ],
 "metadata": {
  "kernelspec": {
   "display_name": "Python 3 (ipykernel)",
   "language": "python",
   "name": "python3"
  },
  "language_info": {
   "codemirror_mode": {
    "name": "ipython",
    "version": 3
   },
   "file_extension": ".py",
   "mimetype": "text/x-python",
   "name": "python",
   "nbconvert_exporter": "python",
   "pygments_lexer": "ipython3",
   "version": "3.12.0"
  },
  "papermill": {
   "default_parameters": {},
   "duration": 4.103882,
   "end_time": "2024-04-10T10:53:52.305671",
   "environment_variables": {},
   "exception": null,
   "input_path": "/Users/sota/Dropbox/2 Business/2 Areas/datons.academy/2 Areas/Products/Digital Courses/DAV/course-maven/solutions/notebooks/40_Data Operations/46_Hacks/B.ipynb",
   "output_path": "/Users/sota/Dropbox/2 Business/2 Areas/datons.academy/2 Areas/Products/Digital Courses/DAV/course-maven/solutions/notebooks/40_Data Operations/46_Hacks/B.ipynb",
   "parameters": {},
   "start_time": "2024-04-10T10:53:48.201789",
   "version": "2.5.0"
  }
 },
 "nbformat": 4,
 "nbformat_minor": 5
}