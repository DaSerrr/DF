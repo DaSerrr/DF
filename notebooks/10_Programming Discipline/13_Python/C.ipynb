{
 "cells": [
  {
   "attachments": {},
   "cell_type": "markdown",
   "id": "e28a92a6-69c3-4da3-84d8-078b370825b2",
   "metadata": {
    "papermill": {
     "duration": 0.00926,
     "end_time": "2024-04-10T10:49:38.694244",
     "exception": false,
     "start_time": "2024-04-10T10:49:38.684984",
     "status": "completed"
    },
    "tags": []
   },
   "source": [
    "# Discover Function without Memorization"
   ]
  },
  {
   "attachments": {},
   "cell_type": "markdown",
   "id": "449dc956",
   "metadata": {
    "papermill": {
     "duration": 0.006826,
     "end_time": "2024-04-10T10:49:38.707466",
     "exception": false,
     "start_time": "2024-04-10T10:49:38.700640",
     "status": "completed"
    },
    "tags": []
   },
   "source": [
    "## Load Excel file\n",
    "\n",
    "To do things in programming, you need a function.\n",
    "\n",
    "In this case, you need a function that loads an Excel file in Python.\n",
    "\n",
    "Functions are stored in libraries (also called modules or packages), which organize functions by topic.\n",
    "\n",
    "The `pandas` library is used for data manipulation and analysis.\n",
    "\n",
    "Let's find a function in the `pandas` library that loads an Excel file.\n",
    "\n",
    "- `tsla_stock.xlsx`"
   ]
  },
  {
   "attachments": {},
   "cell_type": "markdown",
   "id": "aca7eb6e",
   "metadata": {
    "papermill": {
     "duration": 0.003701,
     "end_time": "2024-04-10T10:49:38.715695",
     "exception": false,
     "start_time": "2024-04-10T10:49:38.711994",
     "status": "completed"
    },
    "tags": []
   },
   "source": [
    "### Import library\n",
    "\n",
    "```python\n",
    "import library_name\n",
    "```"
   ]
  },
  {
   "cell_type": "code",
   "execution_count": null,
   "id": "83b79ec0",
   "metadata": {
    "execution": {
     "iopub.execute_input": "2024-04-10T10:49:38.724428Z",
     "iopub.status.busy": "2024-04-10T10:49:38.724138Z",
     "iopub.status.idle": "2024-04-10T10:49:39.326529Z",
     "shell.execute_reply": "2024-04-10T10:49:39.325925Z"
    },
    "papermill": {
     "duration": 0.609555,
     "end_time": "2024-04-10T10:49:39.328732",
     "exception": false,
     "start_time": "2024-04-10T10:49:38.719177",
     "status": "completed"
    },
    "tags": []
   },
   "outputs": [],
   "source": []
  },
  {
   "attachments": {},
   "cell_type": "markdown",
   "id": "553d3cb8",
   "metadata": {
    "papermill": {
     "duration": 0.009982,
     "end_time": "2024-04-10T10:49:39.344642",
     "exception": false,
     "start_time": "2024-04-10T10:49:39.334660",
     "status": "completed"
    },
    "tags": []
   },
   "source": [
    "### Find function within library with dot notation\n",
    "\n",
    "```python\n",
    "library.<TAB>\n",
    "```"
   ]
  },
  {
   "attachments": {},
   "cell_type": "markdown",
   "id": "e2222603",
   "metadata": {
    "papermill": {
     "duration": 0.005195,
     "end_time": "2024-04-10T10:49:39.356095",
     "exception": false,
     "start_time": "2024-04-10T10:49:39.350900",
     "status": "completed"
    },
    "tags": []
   },
   "source": [
    "![](src/suggestion-pandas.png)"
   ]
  },
  {
   "attachments": {},
   "cell_type": "markdown",
   "id": "8ba44c7d",
   "metadata": {
    "papermill": {
     "duration": 0.003745,
     "end_time": "2024-04-10T10:49:39.364714",
     "exception": false,
     "start_time": "2024-04-10T10:49:39.360969",
     "status": "completed"
    },
    "tags": []
   },
   "source": [
    "![](src/suggestion-excel.png)"
   ]
  },
  {
   "cell_type": "code",
   "execution_count": null,
   "id": "0b4b118a",
   "metadata": {
    "execution": {
     "iopub.execute_input": "2024-04-10T10:49:39.373933Z",
     "iopub.status.busy": "2024-04-10T10:49:39.373592Z",
     "iopub.status.idle": "2024-04-10T10:49:39.381065Z",
     "shell.execute_reply": "2024-04-10T10:49:39.380548Z"
    },
    "papermill": {
     "duration": 0.014437,
     "end_time": "2024-04-10T10:49:39.382679",
     "exception": false,
     "start_time": "2024-04-10T10:49:39.368242",
     "status": "completed"
    },
    "tags": []
   },
   "outputs": [],
   "source": []
  },
  {
   "attachments": {},
   "cell_type": "markdown",
   "id": "e3b4e009",
   "metadata": {
    "papermill": {
     "duration": 0.024218,
     "end_time": "2024-04-10T10:49:39.419005",
     "exception": false,
     "start_time": "2024-04-10T10:49:39.394787",
     "status": "completed"
    },
    "tags": []
   },
   "source": [
    "### Execute function\n",
    "\n",
    "```python\n",
    "library.function_name(object) # <CTRL> + <ENTER>\n",
    "```"
   ]
  },
  {
   "cell_type": "code",
   "execution_count": null,
   "id": "2180dc1e",
   "metadata": {
    "execution": {
     "iopub.execute_input": "2024-04-10T10:49:39.455419Z",
     "iopub.status.busy": "2024-04-10T10:49:39.454892Z",
     "iopub.status.idle": "2024-04-10T10:49:39.756246Z",
     "shell.execute_reply": "2024-04-10T10:49:39.755317Z"
    },
    "papermill": {
     "duration": 0.313117,
     "end_time": "2024-04-10T10:49:39.758535",
     "exception": false,
     "start_time": "2024-04-10T10:49:39.445418",
     "status": "completed"
    },
    "tags": []
   },
   "outputs": [],
   "source": []
  },
  {
   "attachments": {},
   "cell_type": "markdown",
   "id": "a920dab9",
   "metadata": {
    "papermill": {
     "duration": 0.003467,
     "end_time": "2024-04-10T10:49:39.766003",
     "exception": false,
     "start_time": "2024-04-10T10:49:39.762536",
     "status": "completed"
    },
    "tags": []
   },
   "source": [
    "## Load specific sheet from Excel\n",
    "\n",
    "### Excel with multiple sheets"
   ]
  },
  {
   "attachments": {},
   "cell_type": "markdown",
   "id": "9acd6031",
   "metadata": {
    "papermill": {
     "duration": 0.00486,
     "end_time": "2024-04-10T10:49:39.774422",
     "exception": false,
     "start_time": "2024-04-10T10:49:39.769562",
     "status": "completed"
    },
    "tags": []
   },
   "source": [
    "The following data represents the stock price of Tesla Inc."
   ]
  },
  {
   "attachments": {},
   "cell_type": "markdown",
   "id": "31c48abe",
   "metadata": {
    "papermill": {
     "duration": 0.004005,
     "end_time": "2024-04-10T10:49:39.782567",
     "exception": false,
     "start_time": "2024-04-10T10:49:39.778562",
     "status": "completed"
    },
    "tags": []
   },
   "source": [
    "![](src/excel_file.png)"
   ]
  },
  {
   "attachments": {},
   "cell_type": "markdown",
   "id": "fcea554a",
   "metadata": {
    "papermill": {
     "duration": 0.004513,
     "end_time": "2024-04-10T10:49:39.791636",
     "exception": false,
     "start_time": "2024-04-10T10:49:39.787123",
     "status": "completed"
    },
    "tags": []
   },
   "source": [
    "By default, the function `pandas.read_excel` reads the first sheet, which represents another table."
   ]
  },
  {
   "attachments": {},
   "cell_type": "markdown",
   "id": "9304f68f",
   "metadata": {
    "papermill": {
     "duration": 0.003798,
     "end_time": "2024-04-10T10:49:39.799093",
     "exception": false,
     "start_time": "2024-04-10T10:49:39.795295",
     "status": "completed"
    },
    "tags": []
   },
   "source": [
    "![](src/excel-two-tables.png)"
   ]
  },
  {
   "attachments": {},
   "cell_type": "markdown",
   "id": "6b97e10e",
   "metadata": {
    "papermill": {
     "duration": 0.004331,
     "end_time": "2024-04-10T10:49:39.806927",
     "exception": false,
     "start_time": "2024-04-10T10:49:39.802596",
     "status": "completed"
    },
    "tags": []
   },
   "source": [
    "### Function parameters\n",
    "\n",
    "To modify the default behaviour, you need to add new parameters to the function.\n",
    "\n",
    "To ask Python for help, you can use the `<SHIFT> + <TAB>` keys.\n",
    "\n",
    "```python\n",
    "library.function_name(object, <SHIFT> + <TAB>)\n",
    "```"
   ]
  },
  {
   "attachments": {},
   "cell_type": "markdown",
   "id": "a954be30",
   "metadata": {
    "papermill": {
     "duration": 0.004495,
     "end_time": "2024-04-10T10:49:39.814935",
     "exception": false,
     "start_time": "2024-04-10T10:49:39.810440",
     "status": "completed"
    },
    "tags": []
   },
   "source": [
    "![](src/doc-excel.png)"
   ]
  },
  {
   "cell_type": "code",
   "execution_count": null,
   "id": "bb23f74b",
   "metadata": {
    "execution": {
     "iopub.execute_input": "2024-04-10T10:49:39.824467Z",
     "iopub.status.busy": "2024-04-10T10:49:39.824156Z",
     "iopub.status.idle": "2024-04-10T10:49:39.855826Z",
     "shell.execute_reply": "2024-04-10T10:49:39.854849Z"
    },
    "papermill": {
     "duration": 0.039108,
     "end_time": "2024-04-10T10:49:39.857889",
     "exception": false,
     "start_time": "2024-04-10T10:49:39.818781",
     "status": "completed"
    },
    "tags": []
   },
   "outputs": [],
   "source": []
  },
  {
   "attachments": {},
   "cell_type": "markdown",
   "id": "b28d64db",
   "metadata": {
    "papermill": {
     "duration": 0.024362,
     "end_time": "2024-04-10T10:49:39.903452",
     "exception": false,
     "start_time": "2024-04-10T10:49:39.879090",
     "status": "completed"
    },
    "tags": []
   },
   "source": [
    "## Load file from folder"
   ]
  },
  {
   "cell_type": "code",
   "execution_count": null,
   "id": "96dc9762",
   "metadata": {
    "execution": {
     "iopub.execute_input": "2024-04-10T10:49:39.914636Z",
     "iopub.status.busy": "2024-04-10T10:49:39.914380Z",
     "iopub.status.idle": "2024-04-10T10:49:39.924355Z",
     "shell.execute_reply": "2024-04-10T10:49:39.923685Z"
    },
    "papermill": {
     "duration": 0.0169,
     "end_time": "2024-04-10T10:49:39.925917",
     "exception": false,
     "start_time": "2024-04-10T10:49:39.909017",
     "status": "completed"
    },
    "tags": []
   },
   "outputs": [],
   "source": []
  },
  {
   "attachments": {},
   "cell_type": "markdown",
   "id": "43467081",
   "metadata": {
    "papermill": {
     "duration": 0.003818,
     "end_time": "2024-04-10T10:49:39.933623",
     "exception": false,
     "start_time": "2024-04-10T10:49:39.929805",
     "status": "completed"
    },
    "tags": []
   },
   "source": [
    "## Repository of files for this course"
   ]
  },
  {
   "cell_type": "code",
   "execution_count": null,
   "id": "ce07a1be",
   "metadata": {
    "execution": {
     "iopub.execute_input": "2024-04-10T10:49:39.943261Z",
     "iopub.status.busy": "2024-04-10T10:49:39.942947Z",
     "iopub.status.idle": "2024-04-10T10:49:40.017421Z",
     "shell.execute_reply": "2024-04-10T10:49:40.016792Z"
    },
    "papermill": {
     "duration": 0.08233,
     "end_time": "2024-04-10T10:49:40.019991",
     "exception": false,
     "start_time": "2024-04-10T10:49:39.937661",
     "status": "completed"
    },
    "tags": []
   },
   "outputs": [],
   "source": []
  },
  {
   "cell_type": "code",
   "execution_count": null,
   "id": "1fbd0baa",
   "metadata": {
    "execution": {
     "iopub.execute_input": "2024-04-10T10:49:40.036939Z",
     "iopub.status.busy": "2024-04-10T10:49:40.036305Z",
     "iopub.status.idle": "2024-04-10T10:49:40.059957Z",
     "shell.execute_reply": "2024-04-10T10:49:40.058627Z"
    },
    "papermill": {
     "duration": 0.03556,
     "end_time": "2024-04-10T10:49:40.062312",
     "exception": false,
     "start_time": "2024-04-10T10:49:40.026752",
     "status": "completed"
    },
    "tags": []
   },
   "outputs": [],
   "source": []
  }
 ],
 "metadata": {
  "authors": [
   {
    "blog": "https//blog.resolvingpython.com",
    "name": "Jesús López",
    "twitter": "https://twitter.com/jsulopzs"
   }
  ],
  "kernelspec": {
   "display_name": "Python 3 (ipykernel)",
   "language": "python",
   "name": "python3"
  },
  "language_info": {
   "codemirror_mode": {
    "name": "ipython",
    "version": 3
   },
   "file_extension": ".py",
   "mimetype": "text/x-python",
   "name": "python",
   "nbconvert_exporter": "python",
   "pygments_lexer": "ipython3",
   "version": "3.12.0"
  },
  "papermill": {
   "default_parameters": {},
   "duration": 3.146549,
   "end_time": "2024-04-10T10:49:40.511107",
   "environment_variables": {},
   "exception": null,
   "input_path": "/Users/sota/Dropbox/2 Business/2 Areas/datons.academy/2 Areas/Products/Digital Courses/DAV/course-maven/solutions/notebooks/10_Python Tricks/B.ipynb",
   "output_path": "/Users/sota/Dropbox/2 Business/2 Areas/datons.academy/2 Areas/Products/Digital Courses/DAV/course-maven/solutions/notebooks/10_Python Tricks/B.ipynb",
   "parameters": {},
   "start_time": "2024-04-10T10:49:37.364558",
   "version": "2.5.0"
  },
  "title": "Machine Learning & Linear Regression",
  "toc-autonumbering": true,
  "vscode": {
   "interpreter": {
    "hash": "b0fa6594d8f4cbf19f97940f81e996739fb7646882a419484c72d19e05852a7e"
   }
  }
 },
 "nbformat": 4,
 "nbformat_minor": 5
}
