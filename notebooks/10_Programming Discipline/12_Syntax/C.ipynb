{
 "cells": [
  {
   "cell_type": "markdown",
   "metadata": {},
   "source": [
    "# The Python Syntax\n",
    "\n",
    "If you work with Python, but still aren't sure why some things work the way they do, this tutorial is for you.\n",
    "\n",
    "**Questions**\n",
    "\n",
    "1. When to use quotes `\"\"`?\n",
    "2. What's the environment?\n",
    "3. What does Python recognise by default?\n",
    "4. What for is the dot notation `.`?\n",
    "5. Why can you chain functions `function1().function2()`?\n",
    "6. What for are the brackets `[]`?\n",
    "\n",
    "## The environment and recognised commands"
   ]
  },
  {
   "cell_type": "markdown",
   "metadata": {},
   "source": [
    "**Exercise:** Write your name and execute."
   ]
  },
  {
   "cell_type": "code",
   "execution_count": null,
   "metadata": {},
   "outputs": [],
   "source": []
  },
  {
   "cell_type": "markdown",
   "metadata": {},
   "source": [
    "**Exercise:** Write the name of the Excel file `gapminder.xlsx` and execute."
   ]
  },
  {
   "cell_type": "code",
   "execution_count": null,
   "metadata": {},
   "outputs": [],
   "source": []
  },
  {
   "cell_type": "markdown",
   "metadata": {},
   "source": [
    "How can you make Python literally understand what you type? Using the string: anything between quotes is a string.\n",
    "\n",
    "**Exercise:** Write your name between quotes and execute."
   ]
  },
  {
   "cell_type": "code",
   "execution_count": null,
   "metadata": {},
   "outputs": [],
   "source": []
  },
  {
   "cell_type": "markdown",
   "metadata": {},
   "source": [
    "**Exercise:** Write `gapminder.xlsx` between quotes and execute."
   ]
  },
  {
   "cell_type": "code",
   "execution_count": null,
   "metadata": {},
   "outputs": [],
   "source": []
  },
  {
   "cell_type": "markdown",
   "metadata": {},
   "source": [
    "**Reason:** Why is the code working **with quotes**?\n",
    "\n",
    "Anything between quotes is a string, which is an object that Python can understand. Like numbers, mathematical operations, etc."
   ]
  },
  {
   "cell_type": "code",
   "execution_count": null,
   "metadata": {},
   "outputs": [],
   "source": []
  },
  {
   "cell_type": "markdown",
   "metadata": {},
   "source": [
    "**Reason:** Why is the code not working **without quotes**?\n",
    "\n",
    "Anything you put without quotes is considered as a registered command in the Python environment.\n",
    "\n",
    "**Reason:** What's the Python environment?\n",
    "\n",
    "The place where you register the commands that Python can understand."
   ]
  },
  {
   "cell_type": "markdown",
   "metadata": {},
   "source": [
    "## Transforming an object into another using functions\n",
    "\n",
    "Let's say you are working with a table in Python."
   ]
  },
  {
   "cell_type": "code",
   "execution_count": null,
   "metadata": {
    "tags": [
     "change-false"
    ]
   },
   "outputs": [],
   "source": []
  },
  {
   "cell_type": "markdown",
   "metadata": {},
   "source": [
    "Which functions can you use from this object to transform the data into another object?"
   ]
  },
  {
   "cell_type": "markdown",
   "metadata": {},
   "source": [
    "### Transform the table into a plot\n",
    "\n",
    "**Exercise:** For example, create a histogram."
   ]
  },
  {
   "cell_type": "code",
   "execution_count": null,
   "metadata": {},
   "outputs": [],
   "source": []
  },
  {
   "cell_type": "markdown",
   "metadata": {},
   "source": [
    "**Exercise:** Now into a boxplot."
   ]
  },
  {
   "cell_type": "code",
   "execution_count": null,
   "metadata": {},
   "outputs": [],
   "source": []
  },
  {
   "cell_type": "markdown",
   "metadata": {},
   "source": [
    "You see? The object `df` contains `functions()` to transform the inside data into another object.\n",
    "\n",
    "This concept applies to any object in Python.\n",
    "\n",
    "Which other functions do you think `df` has?"
   ]
  },
  {
   "cell_type": "markdown",
   "metadata": {},
   "source": [
    "**Exercise:** Describe the columns of the table."
   ]
  },
  {
   "cell_type": "code",
   "execution_count": null,
   "metadata": {},
   "outputs": [],
   "source": []
  },
  {
   "cell_type": "markdown",
   "metadata": {},
   "source": [
    "**Exercise:** Calculate the maximum value per column."
   ]
  },
  {
   "cell_type": "code",
   "execution_count": null,
   "metadata": {},
   "outputs": [],
   "source": []
  },
  {
   "cell_type": "markdown",
   "metadata": {},
   "source": [
    "## Dot notation `.` to access functions"
   ]
  },
  {
   "cell_type": "markdown",
   "metadata": {},
   "source": [
    "### From the `object`"
   ]
  },
  {
   "cell_type": "markdown",
   "metadata": {},
   "source": [
    "**Exercise:** Which functions does the string object have?"
   ]
  },
  {
   "cell_type": "code",
   "execution_count": null,
   "metadata": {},
   "outputs": [],
   "source": []
  },
  {
   "cell_type": "code",
   "execution_count": null,
   "metadata": {},
   "outputs": [],
   "source": []
  },
  {
   "cell_type": "code",
   "execution_count": null,
   "metadata": {},
   "outputs": [],
   "source": []
  },
  {
   "cell_type": "markdown",
   "metadata": {},
   "source": [
    "**Reason:** Does the `\"string\"` object has a function to load the data from the Excel file?\n",
    "\n",
    "No, it just has functions to manipulate the text. But not to locate the file in the computer and load the data into Python.\n",
    "\n",
    "In this case, you need a function from a library.\n",
    "\n",
    "**Reason:** If pandas is the library that contains functions to load data from files, how can you access these functions?"
   ]
  },
  {
   "cell_type": "markdown",
   "metadata": {},
   "source": [
    "### From the `library`\n",
    "\n",
    "First, you import the library."
   ]
  },
  {
   "cell_type": "code",
   "execution_count": null,
   "metadata": {
    "tags": [
     "change-false"
    ]
   },
   "outputs": [],
   "source": []
  },
  {
   "cell_type": "markdown",
   "metadata": {},
   "source": [
    "Then, you access the function that loads the data based on the file format."
   ]
  },
  {
   "cell_type": "code",
   "execution_count": null,
   "metadata": {},
   "outputs": [],
   "source": []
  },
  {
   "cell_type": "markdown",
   "metadata": {},
   "source": [
    "Now if you want to keep working with the table, you need to store it in a variable to reference it later on.\n",
    "\n",
    "> Instead of loading the data every time you need it."
   ]
  },
  {
   "cell_type": "markdown",
   "metadata": {},
   "source": [
    "## Saving transformed object into new variable"
   ]
  },
  {
   "cell_type": "markdown",
   "metadata": {},
   "source": [
    "By using `table = ...`, you are telling Python to assign a box in the memory called `table` to store the object that the function `read_excel()` returns."
   ]
  },
  {
   "cell_type": "code",
   "execution_count": null,
   "metadata": {},
   "outputs": [],
   "source": []
  },
  {
   "cell_type": "markdown",
   "metadata": {},
   "source": [
    "Now, any time you call `table`, you'll access the data that was stored in the memory."
   ]
  },
  {
   "cell_type": "code",
   "execution_count": null,
   "metadata": {},
   "outputs": [],
   "source": []
  },
  {
   "cell_type": "markdown",
   "metadata": {},
   "source": [
    "## Chaining consecutive functions"
   ]
  },
  {
   "cell_type": "markdown",
   "metadata": {},
   "source": [
    "How can you *chain* many functions in the same line?"
   ]
  },
  {
   "cell_type": "markdown",
   "metadata": {},
   "source": [
    "### Example 1\n",
    "\n",
    "**Exercise:** Calculate the population by continent and sort the values to create a ranking in a bar plot."
   ]
  },
  {
   "cell_type": "code",
   "execution_count": null,
   "metadata": {},
   "outputs": [],
   "source": []
  },
  {
   "cell_type": "markdown",
   "metadata": {},
   "source": [
    "**Reason:** Why does the previous code work?\n",
    "\n",
    "Because each function returns an object that can execute the next function.\n",
    "\n",
    "Let's go step by step:"
   ]
  },
  {
   "cell_type": "markdown",
   "metadata": {},
   "source": [
    "**1. Groupby continent**"
   ]
  },
  {
   "cell_type": "code",
   "execution_count": null,
   "metadata": {},
   "outputs": [],
   "source": []
  },
  {
   "cell_type": "markdown",
   "metadata": {},
   "source": [
    "**2. Average population**"
   ]
  },
  {
   "cell_type": "code",
   "execution_count": null,
   "metadata": {},
   "outputs": [],
   "source": []
  },
  {
   "cell_type": "markdown",
   "metadata": {},
   "source": [
    "**3. Sort values by maximum population**"
   ]
  },
  {
   "cell_type": "code",
   "execution_count": null,
   "metadata": {},
   "outputs": [],
   "source": []
  },
  {
   "cell_type": "markdown",
   "metadata": {},
   "source": [
    "**4. Create the bar plot**"
   ]
  },
  {
   "cell_type": "code",
   "execution_count": null,
   "metadata": {},
   "outputs": [],
   "source": []
  },
  {
   "cell_type": "markdown",
   "metadata": {},
   "source": [
    "As you have seen, each resulting object from the function could execute the next function.\n",
    "\n",
    "What would happen if you try to calculate the sum from the previous plot? Does it make any sense?"
   ]
  },
  {
   "cell_type": "code",
   "execution_count": null,
   "metadata": {},
   "outputs": [],
   "source": []
  },
  {
   "cell_type": "markdown",
   "metadata": {},
   "source": [
    "Of course not!\n",
    "\n",
    "`Axes` (the technical word for the plot object) doesn't have a function to sum.\n",
    "\n",
    "`Axes` is a plot object, not a sequence of numbers object.\n",
    "\n",
    "Let me rephrase it with an analogy:\n",
    "\n",
    "1. The **bird** can **fly**: `bird.fly()`\n",
    "2. The **fish** can **swim**: `fish.swim()`\n",
    "\n",
    "But...\n",
    "\n",
    "1. The **bird** cannot **swim**: ~~`bird.swim()`~~\n",
    "2. The **fish** cannot **fly**: ~~`fish.fly()`~~\n",
    "\n",
    "The same logic applies to functions. If the function does not accept the object, it will not work.\n",
    "\n",
    "Let's go with another object: the plots. It will happen the same way."
   ]
  },
  {
   "cell_type": "markdown",
   "metadata": {},
   "source": [
    "### Example 2\n",
    "\n",
    "**Exercise:** Produce a descriptive analysis from the table."
   ]
  },
  {
   "cell_type": "code",
   "execution_count": null,
   "metadata": {},
   "outputs": [],
   "source": []
  },
  {
   "cell_type": "markdown",
   "metadata": {},
   "source": [
    "**Exercise:** Chain the function `.mean()` at the end to calculate the average of the columns."
   ]
  },
  {
   "cell_type": "code",
   "execution_count": null,
   "metadata": {},
   "outputs": [],
   "source": []
  },
  {
   "cell_type": "markdown",
   "metadata": {},
   "source": [
    "**Exercise:** Chain the function `.mean()` at the end to calculate the average of the average. Even though it does not make sense, it is possible to chain functions if the previous function returns an object that the next function can use."
   ]
  },
  {
   "cell_type": "code",
   "execution_count": null,
   "metadata": {},
   "outputs": [],
   "source": []
  },
  {
   "cell_type": "markdown",
   "metadata": {},
   "source": [
    "**Exercise:** Can a simple number create a descriptive analysis?"
   ]
  },
  {
   "cell_type": "code",
   "execution_count": null,
   "metadata": {},
   "outputs": [],
   "source": []
  },
  {
   "cell_type": "markdown",
   "metadata": {},
   "source": [
    "### Example 3\n",
    "\n",
    "**Exercise:** Create a boxplot from the table."
   ]
  },
  {
   "cell_type": "code",
   "execution_count": null,
   "metadata": {},
   "outputs": [],
   "source": []
  },
  {
   "cell_type": "markdown",
   "metadata": {},
   "source": [
    "**Exercise:** Create a descriptive analysis from the boxplot."
   ]
  },
  {
   "cell_type": "code",
   "execution_count": null,
   "metadata": {},
   "outputs": [],
   "source": []
  },
  {
   "cell_type": "markdown",
   "metadata": {},
   "source": [
    "## `[]` vs `.`"
   ]
  },
  {
   "cell_type": "markdown",
   "metadata": {},
   "source": [
    "It's not about when to use `[]` or `.`. It's about what you want to do.\n",
    "\n",
    "For example, if you have the following object:"
   ]
  },
  {
   "cell_type": "code",
   "execution_count": null,
   "metadata": {},
   "outputs": [],
   "source": []
  },
  {
   "cell_type": "markdown",
   "metadata": {},
   "source": [
    "You can use it in two ways:\n",
    "\n",
    "1. `object[key]` to **access** a part of the object.\n",
    "2. `object.function()` to **transform** the object into another."
   ]
  },
  {
   "cell_type": "markdown",
   "metadata": {},
   "source": [
    "### Access object"
   ]
  },
  {
   "cell_type": "markdown",
   "metadata": {},
   "source": [
    "**Exercise:** Access the `continent` column."
   ]
  },
  {
   "cell_type": "code",
   "execution_count": null,
   "metadata": {},
   "outputs": [],
   "source": []
  },
  {
   "cell_type": "markdown",
   "metadata": {},
   "source": [
    "### Transform object"
   ]
  },
  {
   "cell_type": "markdown",
   "metadata": {},
   "source": [
    "**Exercise:** Transform the table into a histogram."
   ]
  },
  {
   "cell_type": "code",
   "execution_count": null,
   "metadata": {},
   "outputs": [],
   "source": []
  },
  {
   "cell_type": "markdown",
   "metadata": {},
   "source": [
    "### Combination"
   ]
  },
  {
   "cell_type": "markdown",
   "metadata": {},
   "source": [
    "What if you wanted to transform a part of the object?\n",
    "\n",
    "1. Access the object\n",
    "2. Transform the accessed object\n",
    "\n",
    "```python\n",
    "object[key].function()\n",
    "```"
   ]
  },
  {
   "cell_type": "markdown",
   "metadata": {},
   "source": [
    "**Exercise:** Transform only the `population` column into a histogram."
   ]
  },
  {
   "cell_type": "code",
   "execution_count": null,
   "metadata": {},
   "outputs": [],
   "source": []
  },
  {
   "cell_type": "markdown",
   "metadata": {},
   "source": [
    "## Conclusions\n",
    "\n",
    "1. By default, Python recognises specific commands and objects.\n",
    "\n",
    "    ```python\n",
    "    \"string\"\n",
    "    123\n",
    "    5*7\n",
    "    ```\n",
    "\n",
    "2. For anything new, you must be register it in the environment.\n",
    "  \n",
    "    ```python\n",
    "    variable = ...\n",
    "    import pandas\n",
    "    ```\n",
    "\n",
    "3. Programing is all about tranforming one object into another.\n",
    "\n",
    "    ```python\n",
    "    another = object.function()\n",
    "    ```\n",
    "\n",
    "4. Use special characters depending on what you want to do with the object.\n",
    "\n",
    "    - `[]` to access parts of the object.\n",
    "    - `.` to transform the object into another.\n",
    "\n",
    "5. You can combine accessing and transforming objects.\n",
    "\n",
    "    ```python\n",
    "    object[key].function()\n",
    "    ```\n",
    "\n",
    "6. You can chain functions if the previous function returns an object that the next function can use.\n",
    "\n",
    "    ```python\n",
    "    object.function().function().function()\n",
    "    ```"
   ]
  }
 ],
 "metadata": {
  "kernelspec": {
   "display_name": "work",
   "language": "python",
   "name": "python3"
  },
  "language_info": {
   "codemirror_mode": {
    "name": "ipython",
    "version": 3
   },
   "file_extension": ".py",
   "mimetype": "text/x-python",
   "name": "python",
   "nbconvert_exporter": "python",
   "pygments_lexer": "ipython3",
   "version": "3.12.2"
  }
 },
 "nbformat": 4,
 "nbformat_minor": 2
}
