{
 "cells": [
  {
   "cell_type": "markdown",
   "metadata": {},
   "source": [
    "1. Navegar hasta la página de OMIE\n",
    "2. Descargar un archivo de ejemplo (codigo ya hecho)\n",
    "3. Explicar el uso de la función time\n",
    "4. Descargar los archivos de manera diaria con el time\n",
    "5. Repetir proceso con bucle `for` para descargar varios archivos a la vez\n",
    "   1. Código hecho (lo explicaré paso a paso durante el curso)\n",
    "   2. Promocionar contenido del curso"
   ]
  }
 ],
 "metadata": {
  "language_info": {
   "name": "python"
  }
 },
 "nbformat": 4,
 "nbformat_minor": 2
}
