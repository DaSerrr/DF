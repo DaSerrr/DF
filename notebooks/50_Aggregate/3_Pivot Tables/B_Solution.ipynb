{
 "cells": [
  {
   "attachments": {},
   "cell_type": "markdown",
   "id": "f11662ea-4d56-46eb-9507-0a4cb8d1baf2",
   "metadata": {
    "papermill": {
     "duration": 0.002527,
     "end_time": "2024-06-15T22:53:01.930753",
     "exception": false,
     "start_time": "2024-06-15T22:53:01.928226",
     "status": "completed"
    },
    "tags": []
   },
   "source": [
    "# Pivot tables by categories for analysis"
   ]
  },
  {
   "cell_type": "markdown",
   "id": "8d0f1e2b",
   "metadata": {
    "papermill": {
     "duration": 0.00202,
     "end_time": "2024-06-15T22:53:01.935030",
     "exception": false,
     "start_time": "2024-06-15T22:53:01.933010",
     "status": "completed"
    },
    "tags": []
   },
   "source": [
    "[**See `pivot_table` instructions**](https://datons.craft.me/h3f5pSQSE7l6RW) to complete the following exercises."
   ]
  },
  {
   "attachments": {},
   "cell_type": "markdown",
   "id": "959c996b-bbc5-4653-9369-3c267d9f050a",
   "metadata": {
    "papermill": {
     "duration": 0.001532,
     "end_time": "2024-06-15T22:53:01.938288",
     "exception": false,
     "start_time": "2024-06-15T22:53:01.936756",
     "status": "completed"
    },
    "tags": []
   },
   "source": [
    "## Load dataset"
   ]
  },
  {
   "cell_type": "code",
   "execution_count": 1,
   "id": "3aee990d-1e64-4718-9572-1e7fe5dc32ed",
   "metadata": {
    "execution": {
     "iopub.execute_input": "2024-06-15T22:53:01.941827Z",
     "iopub.status.busy": "2024-06-15T22:53:01.941636Z",
     "iopub.status.idle": "2024-06-15T22:53:02.353106Z",
     "shell.execute_reply": "2024-06-15T22:53:02.352693Z"
    },
    "papermill": {
     "duration": 0.414576,
     "end_time": "2024-06-15T22:53:02.354181",
     "exception": false,
     "start_time": "2024-06-15T22:53:01.939605",
     "status": "completed"
    },
    "tags": [
     "change-false"
    ]
   },
   "outputs": [],
   "source": [
    "import seaborn as sns\n",
    "\n",
    "df_titanic = sns.load_dataset('titanic').loc[:,['alive', 'class', 'sex', 'age', 'fare']]\n",
    "df_titanic['class'] = df_titanic['class'].astype(str)"
   ]
  },
  {
   "cell_type": "code",
   "execution_count": 2,
   "id": "7a94a855-2f07-4607-9842-04bd94e89e71",
   "metadata": {
    "execution": {
     "iopub.execute_input": "2024-06-15T22:53:02.357476Z",
     "iopub.status.busy": "2024-06-15T22:53:02.357345Z",
     "iopub.status.idle": "2024-06-15T22:53:02.362622Z",
     "shell.execute_reply": "2024-06-15T22:53:02.362412Z"
    },
    "papermill": {
     "duration": 0.007737,
     "end_time": "2024-06-15T22:53:02.363329",
     "exception": false,
     "start_time": "2024-06-15T22:53:02.355592",
     "status": "completed"
    },
    "tags": []
   },
   "outputs": [
    {
     "data": {
      "text/html": [
       "<div>\n",
       "<style scoped>\n",
       "    .dataframe tbody tr th:only-of-type {\n",
       "        vertical-align: middle;\n",
       "    }\n",
       "\n",
       "    .dataframe tbody tr th {\n",
       "        vertical-align: top;\n",
       "    }\n",
       "\n",
       "    .dataframe thead th {\n",
       "        text-align: right;\n",
       "    }\n",
       "</style>\n",
       "<table border=\"1\" class=\"dataframe\">\n",
       "  <thead>\n",
       "    <tr style=\"text-align: right;\">\n",
       "      <th></th>\n",
       "      <th>alive</th>\n",
       "      <th>class</th>\n",
       "      <th>sex</th>\n",
       "      <th>age</th>\n",
       "      <th>fare</th>\n",
       "    </tr>\n",
       "  </thead>\n",
       "  <tbody>\n",
       "    <tr>\n",
       "      <th>0</th>\n",
       "      <td>no</td>\n",
       "      <td>Third</td>\n",
       "      <td>male</td>\n",
       "      <td>22.0</td>\n",
       "      <td>7.2500</td>\n",
       "    </tr>\n",
       "    <tr>\n",
       "      <th>1</th>\n",
       "      <td>yes</td>\n",
       "      <td>First</td>\n",
       "      <td>female</td>\n",
       "      <td>38.0</td>\n",
       "      <td>71.2833</td>\n",
       "    </tr>\n",
       "    <tr>\n",
       "      <th>...</th>\n",
       "      <td>...</td>\n",
       "      <td>...</td>\n",
       "      <td>...</td>\n",
       "      <td>...</td>\n",
       "      <td>...</td>\n",
       "    </tr>\n",
       "    <tr>\n",
       "      <th>889</th>\n",
       "      <td>yes</td>\n",
       "      <td>First</td>\n",
       "      <td>male</td>\n",
       "      <td>26.0</td>\n",
       "      <td>30.0000</td>\n",
       "    </tr>\n",
       "    <tr>\n",
       "      <th>890</th>\n",
       "      <td>no</td>\n",
       "      <td>Third</td>\n",
       "      <td>male</td>\n",
       "      <td>32.0</td>\n",
       "      <td>7.7500</td>\n",
       "    </tr>\n",
       "  </tbody>\n",
       "</table>\n",
       "<p>891 rows × 5 columns</p>\n",
       "</div>"
      ],
      "text/plain": [
       "    alive  class     sex   age     fare\n",
       "0      no  Third    male  22.0   7.2500\n",
       "1     yes  First  female  38.0  71.2833\n",
       "..    ...    ...     ...   ...      ...\n",
       "889   yes  First    male  26.0  30.0000\n",
       "890    no  Third    male  32.0   7.7500\n",
       "\n",
       "[891 rows x 5 columns]"
      ]
     },
     "execution_count": 2,
     "metadata": {},
     "output_type": "execute_result"
    }
   ],
   "source": [
    "df_titanic"
   ]
  },
  {
   "attachments": {},
   "cell_type": "markdown",
   "id": "f11e1235-b437-4565-b649-0dcd728e778b",
   "metadata": {
    "papermill": {
     "duration": 0.000987,
     "end_time": "2024-06-15T22:53:02.365406",
     "exception": false,
     "start_time": "2024-06-15T22:53:02.364419",
     "status": "completed"
    },
    "tags": []
   },
   "source": [
    "## 1 categorical variable"
   ]
  },
  {
   "attachments": {},
   "cell_type": "markdown",
   "id": "fc88af27",
   "metadata": {
    "papermill": {
     "duration": 0.000962,
     "end_time": "2024-06-15T22:53:02.367263",
     "exception": false,
     "start_time": "2024-06-15T22:53:02.366301",
     "status": "completed"
    },
    "tags": [
     "custom-exericse"
    ]
   },
   "source": [
    "**Exercise:** Average  `fare` paid by `sex`."
   ]
  },
  {
   "cell_type": "code",
   "execution_count": 3,
   "id": "556b7c14-3c5e-4907-a211-59b545a2ee28",
   "metadata": {
    "execution": {
     "iopub.execute_input": "2024-06-15T22:53:02.369802Z",
     "iopub.status.busy": "2024-06-15T22:53:02.369704Z",
     "iopub.status.idle": "2024-06-15T22:53:02.373555Z",
     "shell.execute_reply": "2024-06-15T22:53:02.373369Z"
    },
    "papermill": {
     "duration": 0.005914,
     "end_time": "2024-06-15T22:53:02.374211",
     "exception": false,
     "start_time": "2024-06-15T22:53:02.368297",
     "status": "completed"
    },
    "tags": []
   },
   "outputs": [
    {
     "data": {
      "text/html": [
       "<div>\n",
       "<style scoped>\n",
       "    .dataframe tbody tr th:only-of-type {\n",
       "        vertical-align: middle;\n",
       "    }\n",
       "\n",
       "    .dataframe tbody tr th {\n",
       "        vertical-align: top;\n",
       "    }\n",
       "\n",
       "    .dataframe thead th {\n",
       "        text-align: right;\n",
       "    }\n",
       "</style>\n",
       "<table border=\"1\" class=\"dataframe\">\n",
       "  <thead>\n",
       "    <tr style=\"text-align: right;\">\n",
       "      <th></th>\n",
       "      <th>fare</th>\n",
       "    </tr>\n",
       "    <tr>\n",
       "      <th>sex</th>\n",
       "      <th></th>\n",
       "    </tr>\n",
       "  </thead>\n",
       "  <tbody>\n",
       "    <tr>\n",
       "      <th>female</th>\n",
       "      <td>44.479818</td>\n",
       "    </tr>\n",
       "    <tr>\n",
       "      <th>male</th>\n",
       "      <td>25.523893</td>\n",
       "    </tr>\n",
       "  </tbody>\n",
       "</table>\n",
       "</div>"
      ],
      "text/plain": [
       "             fare\n",
       "sex              \n",
       "female  44.479818\n",
       "male    25.523893"
      ]
     },
     "execution_count": 3,
     "metadata": {},
     "output_type": "execute_result"
    }
   ],
   "source": [
    "df_titanic.pivot_table(index='sex', values='fare', aggfunc='mean')"
   ]
  },
  {
   "cell_type": "markdown",
   "id": "3141fc9b",
   "metadata": {
    "papermill": {
     "duration": 0.001093,
     "end_time": "2024-06-15T22:53:02.376362",
     "exception": false,
     "start_time": "2024-06-15T22:53:02.375269",
     "status": "completed"
    },
    "tags": []
   },
   "source": [
    "---"
   ]
  },
  {
   "attachments": {},
   "cell_type": "markdown",
   "id": "46f8ed36-a4da-490e-b391-684038f9bb79",
   "metadata": {
    "papermill": {
     "duration": 0.001067,
     "end_time": "2024-06-15T22:53:02.378559",
     "exception": false,
     "start_time": "2024-06-15T22:53:02.377492",
     "status": "completed"
    },
    "tags": []
   },
   "source": [
    "## 2 categorical variables"
   ]
  },
  {
   "attachments": {},
   "cell_type": "markdown",
   "id": "41322701",
   "metadata": {
    "papermill": {
     "duration": 0.001003,
     "end_time": "2024-06-15T22:53:02.380623",
     "exception": false,
     "start_time": "2024-06-15T22:53:02.379620",
     "status": "completed"
    },
    "tags": [
     "custom-exercise"
    ]
   },
   "source": [
    "**Exercise:** Who paid more, on average, to go on the Titanic based on `class` and `sex`?"
   ]
  },
  {
   "cell_type": "code",
   "execution_count": 4,
   "id": "47944835-576d-4446-b9e5-f2187ef035dd",
   "metadata": {
    "execution": {
     "iopub.execute_input": "2024-06-15T22:53:02.383094Z",
     "iopub.status.busy": "2024-06-15T22:53:02.383003Z",
     "iopub.status.idle": "2024-06-15T22:53:02.387781Z",
     "shell.execute_reply": "2024-06-15T22:53:02.387603Z"
    },
    "papermill": {
     "duration": 0.006863,
     "end_time": "2024-06-15T22:53:02.388499",
     "exception": false,
     "start_time": "2024-06-15T22:53:02.381636",
     "status": "completed"
    },
    "tags": []
   },
   "outputs": [
    {
     "data": {
      "text/html": [
       "<div>\n",
       "<style scoped>\n",
       "    .dataframe tbody tr th:only-of-type {\n",
       "        vertical-align: middle;\n",
       "    }\n",
       "\n",
       "    .dataframe tbody tr th {\n",
       "        vertical-align: top;\n",
       "    }\n",
       "\n",
       "    .dataframe thead th {\n",
       "        text-align: right;\n",
       "    }\n",
       "</style>\n",
       "<table border=\"1\" class=\"dataframe\">\n",
       "  <thead>\n",
       "    <tr style=\"text-align: right;\">\n",
       "      <th>class</th>\n",
       "      <th>First</th>\n",
       "      <th>Second</th>\n",
       "      <th>Third</th>\n",
       "    </tr>\n",
       "    <tr>\n",
       "      <th>sex</th>\n",
       "      <th></th>\n",
       "      <th></th>\n",
       "      <th></th>\n",
       "    </tr>\n",
       "  </thead>\n",
       "  <tbody>\n",
       "    <tr>\n",
       "      <th>female</th>\n",
       "      <td>106.125798</td>\n",
       "      <td>21.970121</td>\n",
       "      <td>16.118810</td>\n",
       "    </tr>\n",
       "    <tr>\n",
       "      <th>male</th>\n",
       "      <td>67.226127</td>\n",
       "      <td>19.741782</td>\n",
       "      <td>12.661633</td>\n",
       "    </tr>\n",
       "  </tbody>\n",
       "</table>\n",
       "</div>"
      ],
      "text/plain": [
       "class        First     Second      Third\n",
       "sex                                     \n",
       "female  106.125798  21.970121  16.118810\n",
       "male     67.226127  19.741782  12.661633"
      ]
     },
     "execution_count": 4,
     "metadata": {},
     "output_type": "execute_result"
    }
   ],
   "source": [
    "df_titanic.pivot_table(index='sex', columns='class', values='fare', aggfunc='mean')"
   ]
  },
  {
   "attachments": {},
   "cell_type": "markdown",
   "id": "9bfaefcd-5583-48b0-a572-e6fe2941c6f3",
   "metadata": {
    "papermill": {
     "duration": 0.001202,
     "end_time": "2024-06-15T22:53:02.390973",
     "exception": false,
     "start_time": "2024-06-15T22:53:02.389771",
     "status": "completed"
    },
    "tags": []
   },
   "source": [
    "## 3 categorical variables"
   ]
  },
  {
   "attachments": {},
   "cell_type": "markdown",
   "id": "5d7f18cd",
   "metadata": {
    "papermill": {
     "duration": 0.001126,
     "end_time": "2024-06-15T22:53:02.393216",
     "exception": false,
     "start_time": "2024-06-15T22:53:02.392090",
     "status": "completed"
    },
    "tags": [
     "custom-exercise"
    ]
   },
   "source": [
    "**Exercise:** Who paid more, on average, to go on the Titanic based on `class`, `sex` and `alive`?"
   ]
  },
  {
   "cell_type": "code",
   "execution_count": 5,
   "id": "5dba0640",
   "metadata": {
    "execution": {
     "iopub.execute_input": "2024-06-15T22:53:02.395848Z",
     "iopub.status.busy": "2024-06-15T22:53:02.395744Z",
     "iopub.status.idle": "2024-06-15T22:53:02.400318Z",
     "shell.execute_reply": "2024-06-15T22:53:02.400166Z"
    },
    "papermill": {
     "duration": 0.006663,
     "end_time": "2024-06-15T22:53:02.400967",
     "exception": false,
     "start_time": "2024-06-15T22:53:02.394304",
     "status": "completed"
    },
    "tags": []
   },
   "outputs": [
    {
     "data": {
      "text/html": [
       "<div>\n",
       "<style scoped>\n",
       "    .dataframe tbody tr th:only-of-type {\n",
       "        vertical-align: middle;\n",
       "    }\n",
       "\n",
       "    .dataframe tbody tr th {\n",
       "        vertical-align: top;\n",
       "    }\n",
       "\n",
       "    .dataframe thead th {\n",
       "        text-align: right;\n",
       "    }\n",
       "</style>\n",
       "<table border=\"1\" class=\"dataframe\">\n",
       "  <thead>\n",
       "    <tr style=\"text-align: right;\">\n",
       "      <th></th>\n",
       "      <th>class</th>\n",
       "      <th>First</th>\n",
       "      <th>Second</th>\n",
       "      <th>Third</th>\n",
       "    </tr>\n",
       "    <tr>\n",
       "      <th>sex</th>\n",
       "      <th>alive</th>\n",
       "      <th></th>\n",
       "      <th></th>\n",
       "      <th></th>\n",
       "    </tr>\n",
       "  </thead>\n",
       "  <tbody>\n",
       "    <tr>\n",
       "      <th rowspan=\"2\" valign=\"top\">female</th>\n",
       "      <th>no</th>\n",
       "      <td>110.604167</td>\n",
       "      <td>18.250000</td>\n",
       "      <td>19.773093</td>\n",
       "    </tr>\n",
       "    <tr>\n",
       "      <th>yes</th>\n",
       "      <td>105.978159</td>\n",
       "      <td>22.288989</td>\n",
       "      <td>12.464526</td>\n",
       "    </tr>\n",
       "    <tr>\n",
       "      <th rowspan=\"2\" valign=\"top\">male</th>\n",
       "      <th>no</th>\n",
       "      <td>62.894910</td>\n",
       "      <td>19.488965</td>\n",
       "      <td>12.204469</td>\n",
       "    </tr>\n",
       "    <tr>\n",
       "      <th>yes</th>\n",
       "      <td>74.637320</td>\n",
       "      <td>21.095100</td>\n",
       "      <td>15.579696</td>\n",
       "    </tr>\n",
       "  </tbody>\n",
       "</table>\n",
       "</div>"
      ],
      "text/plain": [
       "class              First     Second      Third\n",
       "sex    alive                                  \n",
       "female no     110.604167  18.250000  19.773093\n",
       "       yes    105.978159  22.288989  12.464526\n",
       "male   no      62.894910  19.488965  12.204469\n",
       "       yes     74.637320  21.095100  15.579696"
      ]
     },
     "execution_count": 5,
     "metadata": {},
     "output_type": "execute_result"
    }
   ],
   "source": [
    "df_titanic.pivot_table(index=['sex', 'alive'], columns='class', values='fare', aggfunc='mean')"
   ]
  },
  {
   "cell_type": "markdown",
   "id": "2b11ce8d",
   "metadata": {
    "papermill": {
     "duration": 0.001154,
     "end_time": "2024-06-15T22:53:02.403195",
     "exception": false,
     "start_time": "2024-06-15T22:53:02.402041",
     "status": "completed"
    },
    "tags": []
   },
   "source": [
    "## Real life applications\n",
    "\n",
    "- [Which country has more billionaires wealth by industry?](https://datons.ai/style-pandas-pivot-table-to-create-heat-matrix/)\n",
    "- [Which hour-month generates more electricy in a solar plant?](https://datons.ai/temporal-column-manipulation-with-pandas/)"
   ]
  }
 ],
 "metadata": {
  "kernelspec": {
   "display_name": "Python 3 (ipykernel)",
   "language": "python",
   "name": "python3"
  },
  "language_info": {
   "codemirror_mode": {
    "name": "ipython",
    "version": 3
   },
   "file_extension": ".py",
   "mimetype": "text/x-python",
   "name": "python",
   "nbconvert_exporter": "python",
   "pygments_lexer": "ipython3",
   "version": "3.12.3"
  },
  "papermill": {
   "default_parameters": {},
   "duration": 1.492357,
   "end_time": "2024-06-15T22:53:02.620452",
   "environment_variables": {},
   "exception": null,
   "input_path": "/Users/sota/Library/CloudStorage/Dropbox/2 Business/1 Datons/2 Areas/Courses/2 Catalogue/10 DF/1 Materials/DF/notebooks/50_Aggregate/3_Pivot Tables/B_Solution.ipynb",
   "output_path": "/Users/sota/Library/CloudStorage/Dropbox/2 Business/1 Datons/2 Areas/Courses/2 Catalogue/10 DF/1 Materials/DF/notebooks/50_Aggregate/3_Pivot Tables/B_Solution.ipynb",
   "parameters": {},
   "start_time": "2024-06-15T22:53:01.128095",
   "version": "2.5.0"
  },
  "toc-autonumbering": true
 },
 "nbformat": 4,
 "nbformat_minor": 5
}
