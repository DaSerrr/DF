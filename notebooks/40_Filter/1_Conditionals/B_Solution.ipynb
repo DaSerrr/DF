{
 "cells": [
  {
   "attachments": {},
   "cell_type": "markdown",
   "id": "af45ec80",
   "metadata": {
    "papermill": {
     "duration": 0.00304,
     "end_time": "2024-06-15T22:51:04.147658",
     "exception": false,
     "start_time": "2024-06-15T22:51:04.144618",
     "status": "completed"
    },
    "tags": []
   },
   "source": [
    "# Filtering the pandas.DataFrame with boolean arrays (masks)"
   ]
  },
  {
   "cell_type": "markdown",
   "id": "4e677e0b",
   "metadata": {
    "papermill": {
     "duration": 0.002281,
     "end_time": "2024-06-15T22:51:04.152620",
     "exception": false,
     "start_time": "2024-06-15T22:51:04.150339",
     "status": "completed"
    },
    "tags": []
   },
   "source": [
    "[**See `filter` instructions**](https://datons.craft.me/h3f5pSQSE7l6RW) to complete the following exercises."
   ]
  },
  {
   "attachments": {},
   "cell_type": "markdown",
   "id": "8d467787-3573-434d-8c63-bab5d035882e",
   "metadata": {
    "papermill": {
     "duration": 0.002176,
     "end_time": "2024-06-15T22:51:04.157636",
     "exception": false,
     "start_time": "2024-06-15T22:51:04.155460",
     "status": "completed"
    },
    "tags": []
   },
   "source": [
    "## Load dataset"
   ]
  },
  {
   "cell_type": "code",
   "execution_count": 1,
   "id": "71b1a87c-deb5-49cf-9ce6-cdcd24977293",
   "metadata": {
    "execution": {
     "iopub.execute_input": "2024-06-15T22:51:04.162318Z",
     "iopub.status.busy": "2024-06-15T22:51:04.162169Z",
     "iopub.status.idle": "2024-06-15T22:51:04.231231Z",
     "shell.execute_reply": "2024-06-15T22:51:04.230969Z"
    },
    "papermill": {
     "duration": 0.072419,
     "end_time": "2024-06-15T22:51:04.232040",
     "exception": false,
     "start_time": "2024-06-15T22:51:04.159621",
     "status": "completed"
    },
    "tags": [
     "change-false"
    ]
   },
   "outputs": [
    {
     "data": {
      "text/html": [
       "<div>\n",
       "<style scoped>\n",
       "    .dataframe tbody tr th:only-of-type {\n",
       "        vertical-align: middle;\n",
       "    }\n",
       "\n",
       "    .dataframe tbody tr th {\n",
       "        vertical-align: top;\n",
       "    }\n",
       "\n",
       "    .dataframe thead th {\n",
       "        text-align: right;\n",
       "    }\n",
       "</style>\n",
       "<table border=\"1\" class=\"dataframe\">\n",
       "  <thead>\n",
       "    <tr style=\"text-align: right;\">\n",
       "      <th></th>\n",
       "      <th>continent</th>\n",
       "      <th>year</th>\n",
       "      <th>lifeExp</th>\n",
       "      <th>pop</th>\n",
       "      <th>gdpPercap</th>\n",
       "      <th>iso_alpha</th>\n",
       "      <th>iso_num</th>\n",
       "    </tr>\n",
       "    <tr>\n",
       "      <th>country</th>\n",
       "      <th></th>\n",
       "      <th></th>\n",
       "      <th></th>\n",
       "      <th></th>\n",
       "      <th></th>\n",
       "      <th></th>\n",
       "      <th></th>\n",
       "    </tr>\n",
       "  </thead>\n",
       "  <tbody>\n",
       "    <tr>\n",
       "      <th>Afghanistan</th>\n",
       "      <td>Asia</td>\n",
       "      <td>2007</td>\n",
       "      <td>43.828</td>\n",
       "      <td>31889923</td>\n",
       "      <td>974.580338</td>\n",
       "      <td>AFG</td>\n",
       "      <td>4</td>\n",
       "    </tr>\n",
       "    <tr>\n",
       "      <th>Albania</th>\n",
       "      <td>Europe</td>\n",
       "      <td>2007</td>\n",
       "      <td>76.423</td>\n",
       "      <td>3600523</td>\n",
       "      <td>5937.029526</td>\n",
       "      <td>ALB</td>\n",
       "      <td>8</td>\n",
       "    </tr>\n",
       "    <tr>\n",
       "      <th>...</th>\n",
       "      <td>...</td>\n",
       "      <td>...</td>\n",
       "      <td>...</td>\n",
       "      <td>...</td>\n",
       "      <td>...</td>\n",
       "      <td>...</td>\n",
       "      <td>...</td>\n",
       "    </tr>\n",
       "    <tr>\n",
       "      <th>Zambia</th>\n",
       "      <td>Africa</td>\n",
       "      <td>2007</td>\n",
       "      <td>42.384</td>\n",
       "      <td>11746035</td>\n",
       "      <td>1271.211593</td>\n",
       "      <td>ZMB</td>\n",
       "      <td>894</td>\n",
       "    </tr>\n",
       "    <tr>\n",
       "      <th>Zimbabwe</th>\n",
       "      <td>Africa</td>\n",
       "      <td>2007</td>\n",
       "      <td>43.487</td>\n",
       "      <td>12311143</td>\n",
       "      <td>469.709298</td>\n",
       "      <td>ZWE</td>\n",
       "      <td>716</td>\n",
       "    </tr>\n",
       "  </tbody>\n",
       "</table>\n",
       "<p>142 rows × 7 columns</p>\n",
       "</div>"
      ],
      "text/plain": [
       "            continent  year  lifeExp       pop    gdpPercap iso_alpha  iso_num\n",
       "country                                                                       \n",
       "Afghanistan      Asia  2007   43.828  31889923   974.580338       AFG        4\n",
       "Albania        Europe  2007   76.423   3600523  5937.029526       ALB        8\n",
       "...               ...   ...      ...       ...          ...       ...      ...\n",
       "Zambia         Africa  2007   42.384  11746035  1271.211593       ZMB      894\n",
       "Zimbabwe       Africa  2007   43.487  12311143   469.709298       ZWE      716\n",
       "\n",
       "[142 rows x 7 columns]"
      ]
     },
     "execution_count": 1,
     "metadata": {},
     "output_type": "execute_result"
    }
   ],
   "source": [
    "import pandas as pd\n",
    "\n",
    "path = '../../../data/topics/sociology/gapminder/2007/multivariate.xlsx'\n",
    "df_countries = pd.read_excel(path, index_col=0)\n",
    "df_countries"
   ]
  },
  {
   "attachments": {},
   "cell_type": "markdown",
   "id": "d690d766",
   "metadata": {
    "papermill": {
     "duration": 0.001652,
     "end_time": "2024-06-15T22:51:04.235555",
     "exception": false,
     "start_time": "2024-06-15T22:51:04.233903",
     "status": "completed"
    },
    "tags": []
   },
   "source": [
    "## Single condition"
   ]
  },
  {
   "attachments": {},
   "cell_type": "markdown",
   "id": "0d58c78c",
   "metadata": {
    "papermill": {
     "duration": 0.001948,
     "end_time": "2024-06-15T22:51:04.239134",
     "exception": false,
     "start_time": "2024-06-15T22:51:04.237186",
     "status": "completed"
    },
    "tags": [
     "custom-exercise"
    ]
   },
   "source": [
    "**Exercise**: Filter countries from `Asia`."
   ]
  },
  {
   "attachments": {},
   "cell_type": "markdown",
   "id": "94156b84",
   "metadata": {
    "papermill": {
     "duration": 0.002227,
     "end_time": "2024-06-15T22:51:04.243441",
     "exception": false,
     "start_time": "2024-06-15T22:51:04.241214",
     "status": "completed"
    },
    "tags": []
   },
   "source": [
    "### Categorical"
   ]
  },
  {
   "attachments": {},
   "cell_type": "markdown",
   "id": "5c5d9c74-5ab1-4161-b41d-225ea75f0a75",
   "metadata": {
    "papermill": {
     "duration": 0.001969,
     "end_time": "2024-06-15T22:51:04.247393",
     "exception": false,
     "start_time": "2024-06-15T22:51:04.245424",
     "status": "completed"
    },
    "tags": []
   },
   "source": [
    "#### Create mask\n",
    "\n",
    "```python\n",
    "mask = df['column'] == 'value'\n",
    "```"
   ]
  },
  {
   "cell_type": "code",
   "execution_count": 2,
   "id": "566d6233-f520-4da4-bb8d-529f4279af31",
   "metadata": {
    "execution": {
     "iopub.execute_input": "2024-06-15T22:51:04.251606Z",
     "iopub.status.busy": "2024-06-15T22:51:04.251444Z",
     "iopub.status.idle": "2024-06-15T22:51:04.254120Z",
     "shell.execute_reply": "2024-06-15T22:51:04.253912Z"
    },
    "papermill": {
     "duration": 0.00554,
     "end_time": "2024-06-15T22:51:04.254802",
     "exception": false,
     "start_time": "2024-06-15T22:51:04.249262",
     "status": "completed"
    },
    "tags": []
   },
   "outputs": [
    {
     "data": {
      "text/plain": [
       "country\n",
       "Afghanistan     True\n",
       "Albania        False\n",
       "               ...  \n",
       "Zambia         False\n",
       "Zimbabwe       False\n",
       "Name: continent, Length: 142, dtype: bool"
      ]
     },
     "execution_count": 2,
     "metadata": {},
     "output_type": "execute_result"
    }
   ],
   "source": [
    "mask_asia = df_countries['continent'] == 'Asia'\n",
    "mask_asia"
   ]
  },
  {
   "attachments": {},
   "cell_type": "markdown",
   "id": "c6cb5e69-eb96-4a8a-8d25-3d473b7f06eb",
   "metadata": {
    "papermill": {
     "duration": 0.002202,
     "end_time": "2024-06-15T22:51:04.258927",
     "exception": false,
     "start_time": "2024-06-15T22:51:04.256725",
     "status": "completed"
    },
    "tags": []
   },
   "source": [
    "#### Filter DataFrame with mask\n",
    "\n",
    "```python\n",
    "df[mask]\n",
    "```"
   ]
  },
  {
   "cell_type": "code",
   "execution_count": 3,
   "id": "ad10ab90-208f-4b85-93d1-edab7ab18ee2",
   "metadata": {
    "execution": {
     "iopub.execute_input": "2024-06-15T22:51:04.263305Z",
     "iopub.status.busy": "2024-06-15T22:51:04.263198Z",
     "iopub.status.idle": "2024-06-15T22:51:04.267347Z",
     "shell.execute_reply": "2024-06-15T22:51:04.267135Z"
    },
    "papermill": {
     "duration": 0.006982,
     "end_time": "2024-06-15T22:51:04.268026",
     "exception": false,
     "start_time": "2024-06-15T22:51:04.261044",
     "status": "completed"
    },
    "tags": []
   },
   "outputs": [
    {
     "data": {
      "text/html": [
       "<div>\n",
       "<style scoped>\n",
       "    .dataframe tbody tr th:only-of-type {\n",
       "        vertical-align: middle;\n",
       "    }\n",
       "\n",
       "    .dataframe tbody tr th {\n",
       "        vertical-align: top;\n",
       "    }\n",
       "\n",
       "    .dataframe thead th {\n",
       "        text-align: right;\n",
       "    }\n",
       "</style>\n",
       "<table border=\"1\" class=\"dataframe\">\n",
       "  <thead>\n",
       "    <tr style=\"text-align: right;\">\n",
       "      <th></th>\n",
       "      <th>continent</th>\n",
       "      <th>year</th>\n",
       "      <th>lifeExp</th>\n",
       "      <th>pop</th>\n",
       "      <th>gdpPercap</th>\n",
       "      <th>iso_alpha</th>\n",
       "      <th>iso_num</th>\n",
       "    </tr>\n",
       "    <tr>\n",
       "      <th>country</th>\n",
       "      <th></th>\n",
       "      <th></th>\n",
       "      <th></th>\n",
       "      <th></th>\n",
       "      <th></th>\n",
       "      <th></th>\n",
       "      <th></th>\n",
       "    </tr>\n",
       "  </thead>\n",
       "  <tbody>\n",
       "    <tr>\n",
       "      <th>Afghanistan</th>\n",
       "      <td>Asia</td>\n",
       "      <td>2007</td>\n",
       "      <td>43.828</td>\n",
       "      <td>31889923</td>\n",
       "      <td>974.580338</td>\n",
       "      <td>AFG</td>\n",
       "      <td>4</td>\n",
       "    </tr>\n",
       "    <tr>\n",
       "      <th>Bahrain</th>\n",
       "      <td>Asia</td>\n",
       "      <td>2007</td>\n",
       "      <td>75.635</td>\n",
       "      <td>708573</td>\n",
       "      <td>29796.048340</td>\n",
       "      <td>BHR</td>\n",
       "      <td>48</td>\n",
       "    </tr>\n",
       "    <tr>\n",
       "      <th>...</th>\n",
       "      <td>...</td>\n",
       "      <td>...</td>\n",
       "      <td>...</td>\n",
       "      <td>...</td>\n",
       "      <td>...</td>\n",
       "      <td>...</td>\n",
       "      <td>...</td>\n",
       "    </tr>\n",
       "    <tr>\n",
       "      <th>West Bank and Gaza</th>\n",
       "      <td>Asia</td>\n",
       "      <td>2007</td>\n",
       "      <td>73.422</td>\n",
       "      <td>4018332</td>\n",
       "      <td>3025.349798</td>\n",
       "      <td>PSE</td>\n",
       "      <td>275</td>\n",
       "    </tr>\n",
       "    <tr>\n",
       "      <th>Yemen, Rep.</th>\n",
       "      <td>Asia</td>\n",
       "      <td>2007</td>\n",
       "      <td>62.698</td>\n",
       "      <td>22211743</td>\n",
       "      <td>2280.769906</td>\n",
       "      <td>YEM</td>\n",
       "      <td>887</td>\n",
       "    </tr>\n",
       "  </tbody>\n",
       "</table>\n",
       "<p>33 rows × 7 columns</p>\n",
       "</div>"
      ],
      "text/plain": [
       "                   continent  year  lifeExp       pop     gdpPercap iso_alpha  \\\n",
       "country                                                                         \n",
       "Afghanistan             Asia  2007   43.828  31889923    974.580338       AFG   \n",
       "Bahrain                 Asia  2007   75.635    708573  29796.048340       BHR   \n",
       "...                      ...   ...      ...       ...           ...       ...   \n",
       "West Bank and Gaza      Asia  2007   73.422   4018332   3025.349798       PSE   \n",
       "Yemen, Rep.             Asia  2007   62.698  22211743   2280.769906       YEM   \n",
       "\n",
       "                    iso_num  \n",
       "country                      \n",
       "Afghanistan               4  \n",
       "Bahrain                  48  \n",
       "...                     ...  \n",
       "West Bank and Gaza      275  \n",
       "Yemen, Rep.             887  \n",
       "\n",
       "[33 rows x 7 columns]"
      ]
     },
     "execution_count": 3,
     "metadata": {},
     "output_type": "execute_result"
    }
   ],
   "source": [
    "df_countries[mask_asia]"
   ]
  },
  {
   "attachments": {},
   "cell_type": "markdown",
   "id": "cc41b25c-c927-4ca6-89e5-2cb1bf6f6cb6",
   "metadata": {
    "papermill": {
     "duration": 0.001907,
     "end_time": "2024-06-15T22:51:04.271773",
     "exception": false,
     "start_time": "2024-06-15T22:51:04.269866",
     "status": "completed"
    },
    "tags": []
   },
   "source": [
    "### Numerical"
   ]
  },
  {
   "attachments": {},
   "cell_type": "markdown",
   "id": "9f9b3a3a",
   "metadata": {
    "papermill": {
     "duration": 0.001809,
     "end_time": "2024-06-15T22:51:04.275387",
     "exception": false,
     "start_time": "2024-06-15T22:51:04.273578",
     "status": "completed"
    },
    "tags": [
     "custom-exercise"
    ]
   },
   "source": [
    "**Exercise**: Filter countries with `lifeExp greater than 80` years old."
   ]
  },
  {
   "attachments": {},
   "cell_type": "markdown",
   "id": "86e76ce8",
   "metadata": {
    "papermill": {
     "duration": 0.001809,
     "end_time": "2024-06-15T22:51:04.278982",
     "exception": false,
     "start_time": "2024-06-15T22:51:04.277173",
     "status": "completed"
    },
    "tags": []
   },
   "source": [
    "#### Create mask\n",
    "\n",
    "```python\n",
    "mask = df['column'] > number\n",
    "```"
   ]
  },
  {
   "cell_type": "code",
   "execution_count": 4,
   "id": "18804da2",
   "metadata": {
    "execution": {
     "iopub.execute_input": "2024-06-15T22:51:04.283158Z",
     "iopub.status.busy": "2024-06-15T22:51:04.283059Z",
     "iopub.status.idle": "2024-06-15T22:51:04.285485Z",
     "shell.execute_reply": "2024-06-15T22:51:04.285295Z"
    },
    "papermill": {
     "duration": 0.005303,
     "end_time": "2024-06-15T22:51:04.286148",
     "exception": false,
     "start_time": "2024-06-15T22:51:04.280845",
     "status": "completed"
    },
    "tags": []
   },
   "outputs": [
    {
     "data": {
      "text/plain": [
       "country\n",
       "Afghanistan    False\n",
       "Albania        False\n",
       "               ...  \n",
       "Zambia         False\n",
       "Zimbabwe       False\n",
       "Name: lifeExp, Length: 142, dtype: bool"
      ]
     },
     "execution_count": 4,
     "metadata": {},
     "output_type": "execute_result"
    }
   ],
   "source": [
    "mask_80 = df_countries['lifeExp'] > 80\n",
    "mask_80"
   ]
  },
  {
   "attachments": {},
   "cell_type": "markdown",
   "id": "317a5903",
   "metadata": {
    "papermill": {
     "duration": 0.001829,
     "end_time": "2024-06-15T22:51:04.289743",
     "exception": false,
     "start_time": "2024-06-15T22:51:04.287914",
     "status": "completed"
    },
    "tags": []
   },
   "source": [
    "#### Filter DataFrame with mask\n",
    "\n",
    "```python\n",
    "df[mask]\n",
    "```"
   ]
  },
  {
   "cell_type": "code",
   "execution_count": 5,
   "id": "5d18df84",
   "metadata": {
    "execution": {
     "iopub.execute_input": "2024-06-15T22:51:04.293930Z",
     "iopub.status.busy": "2024-06-15T22:51:04.293848Z",
     "iopub.status.idle": "2024-06-15T22:51:04.297466Z",
     "shell.execute_reply": "2024-06-15T22:51:04.297267Z"
    },
    "papermill": {
     "duration": 0.006516,
     "end_time": "2024-06-15T22:51:04.298138",
     "exception": false,
     "start_time": "2024-06-15T22:51:04.291622",
     "status": "completed"
    },
    "tags": []
   },
   "outputs": [
    {
     "data": {
      "text/html": [
       "<div>\n",
       "<style scoped>\n",
       "    .dataframe tbody tr th:only-of-type {\n",
       "        vertical-align: middle;\n",
       "    }\n",
       "\n",
       "    .dataframe tbody tr th {\n",
       "        vertical-align: top;\n",
       "    }\n",
       "\n",
       "    .dataframe thead th {\n",
       "        text-align: right;\n",
       "    }\n",
       "</style>\n",
       "<table border=\"1\" class=\"dataframe\">\n",
       "  <thead>\n",
       "    <tr style=\"text-align: right;\">\n",
       "      <th></th>\n",
       "      <th>continent</th>\n",
       "      <th>year</th>\n",
       "      <th>lifeExp</th>\n",
       "      <th>pop</th>\n",
       "      <th>gdpPercap</th>\n",
       "      <th>iso_alpha</th>\n",
       "      <th>iso_num</th>\n",
       "    </tr>\n",
       "    <tr>\n",
       "      <th>country</th>\n",
       "      <th></th>\n",
       "      <th></th>\n",
       "      <th></th>\n",
       "      <th></th>\n",
       "      <th></th>\n",
       "      <th></th>\n",
       "      <th></th>\n",
       "    </tr>\n",
       "  </thead>\n",
       "  <tbody>\n",
       "    <tr>\n",
       "      <th>Australia</th>\n",
       "      <td>Oceania</td>\n",
       "      <td>2007</td>\n",
       "      <td>81.235</td>\n",
       "      <td>20434176</td>\n",
       "      <td>34435.36744</td>\n",
       "      <td>AUS</td>\n",
       "      <td>36</td>\n",
       "    </tr>\n",
       "    <tr>\n",
       "      <th>Canada</th>\n",
       "      <td>Americas</td>\n",
       "      <td>2007</td>\n",
       "      <td>80.653</td>\n",
       "      <td>33390141</td>\n",
       "      <td>36319.23501</td>\n",
       "      <td>CAN</td>\n",
       "      <td>124</td>\n",
       "    </tr>\n",
       "    <tr>\n",
       "      <th>...</th>\n",
       "      <td>...</td>\n",
       "      <td>...</td>\n",
       "      <td>...</td>\n",
       "      <td>...</td>\n",
       "      <td>...</td>\n",
       "      <td>...</td>\n",
       "      <td>...</td>\n",
       "    </tr>\n",
       "    <tr>\n",
       "      <th>Sweden</th>\n",
       "      <td>Europe</td>\n",
       "      <td>2007</td>\n",
       "      <td>80.884</td>\n",
       "      <td>9031088</td>\n",
       "      <td>33859.74835</td>\n",
       "      <td>SWE</td>\n",
       "      <td>752</td>\n",
       "    </tr>\n",
       "    <tr>\n",
       "      <th>Switzerland</th>\n",
       "      <td>Europe</td>\n",
       "      <td>2007</td>\n",
       "      <td>81.701</td>\n",
       "      <td>7554661</td>\n",
       "      <td>37506.41907</td>\n",
       "      <td>CHE</td>\n",
       "      <td>756</td>\n",
       "    </tr>\n",
       "  </tbody>\n",
       "</table>\n",
       "<p>13 rows × 7 columns</p>\n",
       "</div>"
      ],
      "text/plain": [
       "            continent  year  lifeExp       pop    gdpPercap iso_alpha  iso_num\n",
       "country                                                                       \n",
       "Australia     Oceania  2007   81.235  20434176  34435.36744       AUS       36\n",
       "Canada       Americas  2007   80.653  33390141  36319.23501       CAN      124\n",
       "...               ...   ...      ...       ...          ...       ...      ...\n",
       "Sweden         Europe  2007   80.884   9031088  33859.74835       SWE      752\n",
       "Switzerland    Europe  2007   81.701   7554661  37506.41907       CHE      756\n",
       "\n",
       "[13 rows x 7 columns]"
      ]
     },
     "execution_count": 5,
     "metadata": {},
     "output_type": "execute_result"
    }
   ],
   "source": [
    "df_countries[mask_80]"
   ]
  },
  {
   "attachments": {},
   "cell_type": "markdown",
   "id": "1872a91a",
   "metadata": {
    "papermill": {
     "duration": 0.00177,
     "end_time": "2024-06-15T22:51:04.301774",
     "exception": false,
     "start_time": "2024-06-15T22:51:04.300004",
     "status": "completed"
    },
    "tags": []
   },
   "source": [
    "## Combine multiple conditions"
   ]
  },
  {
   "attachments": {},
   "cell_type": "markdown",
   "id": "17833b33-00da-47b9-aff6-0ec1d5ae1e0f",
   "metadata": {
    "papermill": {
     "duration": 0.001956,
     "end_time": "2024-06-15T22:51:04.305509",
     "exception": false,
     "start_time": "2024-06-15T22:51:04.303553",
     "status": "completed"
    },
    "tags": [
     "custom-exercise"
    ]
   },
   "source": [
    "**Exercise**: Filter countries from `Asia` and with `lifeExp greater than 80` years old."
   ]
  },
  {
   "attachments": {},
   "cell_type": "markdown",
   "id": "45236e47",
   "metadata": {
    "papermill": {
     "duration": 0.001958,
     "end_time": "2024-06-15T22:51:04.309373",
     "exception": false,
     "start_time": "2024-06-15T22:51:04.307415",
     "status": "completed"
    },
    "tags": []
   },
   "source": [
    "### Intersection\n",
    "\n",
    "```python\n",
    "mask = mask1 & mask2 # intersection (true on both conditions)\n",
    "```"
   ]
  },
  {
   "cell_type": "code",
   "execution_count": 6,
   "id": "4ab0ba21-3533-4774-bc66-4574b708ba30",
   "metadata": {
    "execution": {
     "iopub.execute_input": "2024-06-15T22:51:04.313648Z",
     "iopub.status.busy": "2024-06-15T22:51:04.313547Z",
     "iopub.status.idle": "2024-06-15T22:51:04.316904Z",
     "shell.execute_reply": "2024-06-15T22:51:04.316703Z"
    },
    "papermill": {
     "duration": 0.006273,
     "end_time": "2024-06-15T22:51:04.317542",
     "exception": false,
     "start_time": "2024-06-15T22:51:04.311269",
     "status": "completed"
    },
    "tags": []
   },
   "outputs": [
    {
     "data": {
      "text/html": [
       "<div>\n",
       "<style scoped>\n",
       "    .dataframe tbody tr th:only-of-type {\n",
       "        vertical-align: middle;\n",
       "    }\n",
       "\n",
       "    .dataframe tbody tr th {\n",
       "        vertical-align: top;\n",
       "    }\n",
       "\n",
       "    .dataframe thead th {\n",
       "        text-align: right;\n",
       "    }\n",
       "</style>\n",
       "<table border=\"1\" class=\"dataframe\">\n",
       "  <thead>\n",
       "    <tr style=\"text-align: right;\">\n",
       "      <th></th>\n",
       "      <th>continent</th>\n",
       "      <th>year</th>\n",
       "      <th>lifeExp</th>\n",
       "      <th>pop</th>\n",
       "      <th>gdpPercap</th>\n",
       "      <th>iso_alpha</th>\n",
       "      <th>iso_num</th>\n",
       "    </tr>\n",
       "    <tr>\n",
       "      <th>country</th>\n",
       "      <th></th>\n",
       "      <th></th>\n",
       "      <th></th>\n",
       "      <th></th>\n",
       "      <th></th>\n",
       "      <th></th>\n",
       "      <th></th>\n",
       "    </tr>\n",
       "  </thead>\n",
       "  <tbody>\n",
       "    <tr>\n",
       "      <th>Hong Kong, China</th>\n",
       "      <td>Asia</td>\n",
       "      <td>2007</td>\n",
       "      <td>82.208</td>\n",
       "      <td>6980412</td>\n",
       "      <td>39724.97867</td>\n",
       "      <td>HKG</td>\n",
       "      <td>344</td>\n",
       "    </tr>\n",
       "    <tr>\n",
       "      <th>Israel</th>\n",
       "      <td>Asia</td>\n",
       "      <td>2007</td>\n",
       "      <td>80.745</td>\n",
       "      <td>6426679</td>\n",
       "      <td>25523.27710</td>\n",
       "      <td>ISR</td>\n",
       "      <td>376</td>\n",
       "    </tr>\n",
       "    <tr>\n",
       "      <th>Japan</th>\n",
       "      <td>Asia</td>\n",
       "      <td>2007</td>\n",
       "      <td>82.603</td>\n",
       "      <td>127467972</td>\n",
       "      <td>31656.06806</td>\n",
       "      <td>JPN</td>\n",
       "      <td>392</td>\n",
       "    </tr>\n",
       "  </tbody>\n",
       "</table>\n",
       "</div>"
      ],
      "text/plain": [
       "                 continent  year  lifeExp        pop    gdpPercap iso_alpha  \\\n",
       "country                                                                       \n",
       "Hong Kong, China      Asia  2007   82.208    6980412  39724.97867       HKG   \n",
       "Israel                Asia  2007   80.745    6426679  25523.27710       ISR   \n",
       "Japan                 Asia  2007   82.603  127467972  31656.06806       JPN   \n",
       "\n",
       "                  iso_num  \n",
       "country                    \n",
       "Hong Kong, China      344  \n",
       "Israel                376  \n",
       "Japan                 392  "
      ]
     },
     "execution_count": 6,
     "metadata": {},
     "output_type": "execute_result"
    }
   ],
   "source": [
    "mask = mask_asia & mask_80\n",
    "df_countries[mask]"
   ]
  },
  {
   "attachments": {},
   "cell_type": "markdown",
   "id": "c05c0433",
   "metadata": {
    "papermill": {
     "duration": 0.002358,
     "end_time": "2024-06-15T22:51:04.321824",
     "exception": false,
     "start_time": "2024-06-15T22:51:04.319466",
     "status": "completed"
    },
    "tags": []
   },
   "source": [
    "### Union\n",
    "\n",
    "```python\n",
    "mask = mask1 | mask2 # union (true on at least one condition)\n",
    "```"
   ]
  },
  {
   "cell_type": "code",
   "execution_count": 7,
   "id": "83affaff",
   "metadata": {
    "execution": {
     "iopub.execute_input": "2024-06-15T22:51:04.327124Z",
     "iopub.status.busy": "2024-06-15T22:51:04.327026Z",
     "iopub.status.idle": "2024-06-15T22:51:04.330738Z",
     "shell.execute_reply": "2024-06-15T22:51:04.330462Z"
    },
    "papermill": {
     "duration": 0.007105,
     "end_time": "2024-06-15T22:51:04.331528",
     "exception": false,
     "start_time": "2024-06-15T22:51:04.324423",
     "status": "completed"
    },
    "tags": []
   },
   "outputs": [
    {
     "data": {
      "text/html": [
       "<div>\n",
       "<style scoped>\n",
       "    .dataframe tbody tr th:only-of-type {\n",
       "        vertical-align: middle;\n",
       "    }\n",
       "\n",
       "    .dataframe tbody tr th {\n",
       "        vertical-align: top;\n",
       "    }\n",
       "\n",
       "    .dataframe thead th {\n",
       "        text-align: right;\n",
       "    }\n",
       "</style>\n",
       "<table border=\"1\" class=\"dataframe\">\n",
       "  <thead>\n",
       "    <tr style=\"text-align: right;\">\n",
       "      <th></th>\n",
       "      <th>continent</th>\n",
       "      <th>year</th>\n",
       "      <th>lifeExp</th>\n",
       "      <th>pop</th>\n",
       "      <th>gdpPercap</th>\n",
       "      <th>iso_alpha</th>\n",
       "      <th>iso_num</th>\n",
       "    </tr>\n",
       "    <tr>\n",
       "      <th>country</th>\n",
       "      <th></th>\n",
       "      <th></th>\n",
       "      <th></th>\n",
       "      <th></th>\n",
       "      <th></th>\n",
       "      <th></th>\n",
       "      <th></th>\n",
       "    </tr>\n",
       "  </thead>\n",
       "  <tbody>\n",
       "    <tr>\n",
       "      <th>Afghanistan</th>\n",
       "      <td>Asia</td>\n",
       "      <td>2007</td>\n",
       "      <td>43.828</td>\n",
       "      <td>31889923</td>\n",
       "      <td>974.580338</td>\n",
       "      <td>AFG</td>\n",
       "      <td>4</td>\n",
       "    </tr>\n",
       "    <tr>\n",
       "      <th>Australia</th>\n",
       "      <td>Oceania</td>\n",
       "      <td>2007</td>\n",
       "      <td>81.235</td>\n",
       "      <td>20434176</td>\n",
       "      <td>34435.367440</td>\n",
       "      <td>AUS</td>\n",
       "      <td>36</td>\n",
       "    </tr>\n",
       "    <tr>\n",
       "      <th>...</th>\n",
       "      <td>...</td>\n",
       "      <td>...</td>\n",
       "      <td>...</td>\n",
       "      <td>...</td>\n",
       "      <td>...</td>\n",
       "      <td>...</td>\n",
       "      <td>...</td>\n",
       "    </tr>\n",
       "    <tr>\n",
       "      <th>West Bank and Gaza</th>\n",
       "      <td>Asia</td>\n",
       "      <td>2007</td>\n",
       "      <td>73.422</td>\n",
       "      <td>4018332</td>\n",
       "      <td>3025.349798</td>\n",
       "      <td>PSE</td>\n",
       "      <td>275</td>\n",
       "    </tr>\n",
       "    <tr>\n",
       "      <th>Yemen, Rep.</th>\n",
       "      <td>Asia</td>\n",
       "      <td>2007</td>\n",
       "      <td>62.698</td>\n",
       "      <td>22211743</td>\n",
       "      <td>2280.769906</td>\n",
       "      <td>YEM</td>\n",
       "      <td>887</td>\n",
       "    </tr>\n",
       "  </tbody>\n",
       "</table>\n",
       "<p>43 rows × 7 columns</p>\n",
       "</div>"
      ],
      "text/plain": [
       "                   continent  year  lifeExp       pop     gdpPercap iso_alpha  \\\n",
       "country                                                                         \n",
       "Afghanistan             Asia  2007   43.828  31889923    974.580338       AFG   \n",
       "Australia            Oceania  2007   81.235  20434176  34435.367440       AUS   \n",
       "...                      ...   ...      ...       ...           ...       ...   \n",
       "West Bank and Gaza      Asia  2007   73.422   4018332   3025.349798       PSE   \n",
       "Yemen, Rep.             Asia  2007   62.698  22211743   2280.769906       YEM   \n",
       "\n",
       "                    iso_num  \n",
       "country                      \n",
       "Afghanistan               4  \n",
       "Australia                36  \n",
       "...                     ...  \n",
       "West Bank and Gaza      275  \n",
       "Yemen, Rep.             887  \n",
       "\n",
       "[43 rows x 7 columns]"
      ]
     },
     "execution_count": 7,
     "metadata": {},
     "output_type": "execute_result"
    }
   ],
   "source": [
    "mask = mask_asia | mask_80\n",
    "df_countries[mask]"
   ]
  },
  {
   "cell_type": "markdown",
   "id": "903f323c",
   "metadata": {
    "papermill": {
     "duration": 0.002284,
     "end_time": "2024-06-15T22:51:04.337755",
     "exception": false,
     "start_time": "2024-06-15T22:51:04.335471",
     "status": "completed"
    },
    "tags": []
   },
   "source": [
    "## Bonus: df[mask] vs df.query"
   ]
  },
  {
   "cell_type": "markdown",
   "id": "96e8c421",
   "metadata": {
    "papermill": {
     "duration": 0.002359,
     "end_time": "2024-06-15T22:51:04.342379",
     "exception": false,
     "start_time": "2024-06-15T22:51:04.340020",
     "status": "completed"
    },
    "tags": []
   },
   "source": [
    "**Exercise**: Filter the year 2021."
   ]
  },
  {
   "cell_type": "code",
   "execution_count": 8,
   "id": "b30ca31d",
   "metadata": {
    "execution": {
     "iopub.execute_input": "2024-06-15T22:51:04.347508Z",
     "iopub.status.busy": "2024-06-15T22:51:04.347313Z",
     "iopub.status.idle": "2024-06-15T22:51:04.453705Z",
     "shell.execute_reply": "2024-06-15T22:51:04.453486Z"
    },
    "papermill": {
     "duration": 0.109834,
     "end_time": "2024-06-15T22:51:04.454503",
     "exception": false,
     "start_time": "2024-06-15T22:51:04.344669",
     "status": "completed"
    },
    "tags": []
   },
   "outputs": [
    {
     "data": {
      "text/html": [
       "<div>\n",
       "<style scoped>\n",
       "    .dataframe tbody tr th:only-of-type {\n",
       "        vertical-align: middle;\n",
       "    }\n",
       "\n",
       "    .dataframe tbody tr th {\n",
       "        vertical-align: top;\n",
       "    }\n",
       "\n",
       "    .dataframe thead th {\n",
       "        text-align: right;\n",
       "    }\n",
       "</style>\n",
       "<table border=\"1\" class=\"dataframe\">\n",
       "  <thead>\n",
       "    <tr style=\"text-align: right;\">\n",
       "      <th></th>\n",
       "      <th>datetime</th>\n",
       "      <th>technology</th>\n",
       "      <th>year</th>\n",
       "      <th>month</th>\n",
       "      <th>day</th>\n",
       "      <th>hour</th>\n",
       "      <th>generation_mwh</th>\n",
       "    </tr>\n",
       "  </thead>\n",
       "  <tbody>\n",
       "    <tr>\n",
       "      <th>0</th>\n",
       "      <td>2019-01-01 00:00:00</td>\n",
       "      <td>Carbon</td>\n",
       "      <td>2019</td>\n",
       "      <td>1</td>\n",
       "      <td>1</td>\n",
       "      <td>0</td>\n",
       "      <td>1867.0</td>\n",
       "    </tr>\n",
       "    <tr>\n",
       "      <th>1</th>\n",
       "      <td>2019-01-01 01:00:00</td>\n",
       "      <td>Carbon</td>\n",
       "      <td>2019</td>\n",
       "      <td>1</td>\n",
       "      <td>1</td>\n",
       "      <td>1</td>\n",
       "      <td>1618.0</td>\n",
       "    </tr>\n",
       "    <tr>\n",
       "      <th>...</th>\n",
       "      <td>...</td>\n",
       "      <td>...</td>\n",
       "      <td>...</td>\n",
       "      <td>...</td>\n",
       "      <td>...</td>\n",
       "      <td>...</td>\n",
       "      <td>...</td>\n",
       "    </tr>\n",
       "    <tr>\n",
       "      <th>420862</th>\n",
       "      <td>2021-12-31 22:00:00</td>\n",
       "      <td>Other Renewables</td>\n",
       "      <td>2021</td>\n",
       "      <td>12</td>\n",
       "      <td>31</td>\n",
       "      <td>22</td>\n",
       "      <td>607.5</td>\n",
       "    </tr>\n",
       "    <tr>\n",
       "      <th>420863</th>\n",
       "      <td>2021-12-31 23:00:00</td>\n",
       "      <td>Other Renewables</td>\n",
       "      <td>2021</td>\n",
       "      <td>12</td>\n",
       "      <td>31</td>\n",
       "      <td>23</td>\n",
       "      <td>591.6</td>\n",
       "    </tr>\n",
       "  </tbody>\n",
       "</table>\n",
       "<p>420864 rows × 7 columns</p>\n",
       "</div>"
      ],
      "text/plain": [
       "                   datetime        technology  year  month  day  hour  \\\n",
       "0       2019-01-01 00:00:00            Carbon  2019      1    1     0   \n",
       "1       2019-01-01 01:00:00            Carbon  2019      1    1     1   \n",
       "...                     ...               ...   ...    ...  ...   ...   \n",
       "420862  2021-12-31 22:00:00  Other Renewables  2021     12   31    22   \n",
       "420863  2021-12-31 23:00:00  Other Renewables  2021     12   31    23   \n",
       "\n",
       "        generation_mwh  \n",
       "0               1867.0  \n",
       "1               1618.0  \n",
       "...                ...  \n",
       "420862           607.5  \n",
       "420863           591.6  \n",
       "\n",
       "[420864 rows x 7 columns]"
      ]
     },
     "execution_count": 8,
     "metadata": {},
     "output_type": "execute_result"
    }
   ],
   "source": [
    "import pandas as pd\n",
    "\n",
    "df_energy = pd.read_csv('../../../data/topics/energy/generation/spain/full/long_ts.csv')\n",
    "df_energy"
   ]
  },
  {
   "cell_type": "markdown",
   "id": "e6ac3ba1",
   "metadata": {
    "papermill": {
     "duration": 0.002458,
     "end_time": "2024-06-15T22:51:04.459610",
     "exception": false,
     "start_time": "2024-06-15T22:51:04.457152",
     "status": "completed"
    },
    "tags": []
   },
   "source": [
    "### Dummy"
   ]
  },
  {
   "cell_type": "code",
   "execution_count": 9,
   "id": "013eb76f",
   "metadata": {
    "execution": {
     "iopub.execute_input": "2024-06-15T22:51:04.464584Z",
     "iopub.status.busy": "2024-06-15T22:51:04.464473Z",
     "iopub.status.idle": "2024-06-15T22:51:04.470567Z",
     "shell.execute_reply": "2024-06-15T22:51:04.470351Z"
    },
    "papermill": {
     "duration": 0.009401,
     "end_time": "2024-06-15T22:51:04.471352",
     "exception": false,
     "start_time": "2024-06-15T22:51:04.461951",
     "status": "completed"
    },
    "tags": []
   },
   "outputs": [
    {
     "data": {
      "text/html": [
       "<div>\n",
       "<style scoped>\n",
       "    .dataframe tbody tr th:only-of-type {\n",
       "        vertical-align: middle;\n",
       "    }\n",
       "\n",
       "    .dataframe tbody tr th {\n",
       "        vertical-align: top;\n",
       "    }\n",
       "\n",
       "    .dataframe thead th {\n",
       "        text-align: right;\n",
       "    }\n",
       "</style>\n",
       "<table border=\"1\" class=\"dataframe\">\n",
       "  <thead>\n",
       "    <tr style=\"text-align: right;\">\n",
       "      <th></th>\n",
       "      <th>datetime</th>\n",
       "      <th>technology</th>\n",
       "      <th>year</th>\n",
       "      <th>month</th>\n",
       "      <th>day</th>\n",
       "      <th>hour</th>\n",
       "      <th>generation_mwh</th>\n",
       "    </tr>\n",
       "  </thead>\n",
       "  <tbody>\n",
       "    <tr>\n",
       "      <th>17544</th>\n",
       "      <td>2021-01-01 00:00:00</td>\n",
       "      <td>Carbon</td>\n",
       "      <td>2021</td>\n",
       "      <td>1</td>\n",
       "      <td>1</td>\n",
       "      <td>0</td>\n",
       "      <td>250.0</td>\n",
       "    </tr>\n",
       "    <tr>\n",
       "      <th>17545</th>\n",
       "      <td>2021-01-01 01:00:00</td>\n",
       "      <td>Carbon</td>\n",
       "      <td>2021</td>\n",
       "      <td>1</td>\n",
       "      <td>1</td>\n",
       "      <td>1</td>\n",
       "      <td>250.0</td>\n",
       "    </tr>\n",
       "    <tr>\n",
       "      <th>...</th>\n",
       "      <td>...</td>\n",
       "      <td>...</td>\n",
       "      <td>...</td>\n",
       "      <td>...</td>\n",
       "      <td>...</td>\n",
       "      <td>...</td>\n",
       "      <td>...</td>\n",
       "    </tr>\n",
       "    <tr>\n",
       "      <th>420862</th>\n",
       "      <td>2021-12-31 22:00:00</td>\n",
       "      <td>Other Renewables</td>\n",
       "      <td>2021</td>\n",
       "      <td>12</td>\n",
       "      <td>31</td>\n",
       "      <td>22</td>\n",
       "      <td>607.5</td>\n",
       "    </tr>\n",
       "    <tr>\n",
       "      <th>420863</th>\n",
       "      <td>2021-12-31 23:00:00</td>\n",
       "      <td>Other Renewables</td>\n",
       "      <td>2021</td>\n",
       "      <td>12</td>\n",
       "      <td>31</td>\n",
       "      <td>23</td>\n",
       "      <td>591.6</td>\n",
       "    </tr>\n",
       "  </tbody>\n",
       "</table>\n",
       "<p>140160 rows × 7 columns</p>\n",
       "</div>"
      ],
      "text/plain": [
       "                   datetime        technology  year  month  day  hour  \\\n",
       "17544   2021-01-01 00:00:00            Carbon  2021      1    1     0   \n",
       "17545   2021-01-01 01:00:00            Carbon  2021      1    1     1   \n",
       "...                     ...               ...   ...    ...  ...   ...   \n",
       "420862  2021-12-31 22:00:00  Other Renewables  2021     12   31    22   \n",
       "420863  2021-12-31 23:00:00  Other Renewables  2021     12   31    23   \n",
       "\n",
       "        generation_mwh  \n",
       "17544            250.0  \n",
       "17545            250.0  \n",
       "...                ...  \n",
       "420862           607.5  \n",
       "420863           591.6  \n",
       "\n",
       "[140160 rows x 7 columns]"
      ]
     },
     "execution_count": 9,
     "metadata": {},
     "output_type": "execute_result"
    }
   ],
   "source": [
    "mask_year = df_energy.year == 2021\n",
    "df_energy[mask_year]"
   ]
  },
  {
   "cell_type": "markdown",
   "id": "e1944d6e",
   "metadata": {
    "papermill": {
     "duration": 0.002472,
     "end_time": "2024-06-15T22:51:04.476287",
     "exception": false,
     "start_time": "2024-06-15T22:51:04.473815",
     "status": "completed"
    },
    "tags": []
   },
   "source": [
    "### Proficient"
   ]
  },
  {
   "cell_type": "code",
   "execution_count": 10,
   "id": "2d049be5",
   "metadata": {
    "execution": {
     "iopub.execute_input": "2024-06-15T22:51:04.481185Z",
     "iopub.status.busy": "2024-06-15T22:51:04.481082Z",
     "iopub.status.idle": "2024-06-15T22:51:04.488130Z",
     "shell.execute_reply": "2024-06-15T22:51:04.487926Z"
    },
    "papermill": {
     "duration": 0.010201,
     "end_time": "2024-06-15T22:51:04.488805",
     "exception": false,
     "start_time": "2024-06-15T22:51:04.478604",
     "status": "completed"
    },
    "tags": []
   },
   "outputs": [
    {
     "data": {
      "text/html": [
       "<div>\n",
       "<style scoped>\n",
       "    .dataframe tbody tr th:only-of-type {\n",
       "        vertical-align: middle;\n",
       "    }\n",
       "\n",
       "    .dataframe tbody tr th {\n",
       "        vertical-align: top;\n",
       "    }\n",
       "\n",
       "    .dataframe thead th {\n",
       "        text-align: right;\n",
       "    }\n",
       "</style>\n",
       "<table border=\"1\" class=\"dataframe\">\n",
       "  <thead>\n",
       "    <tr style=\"text-align: right;\">\n",
       "      <th></th>\n",
       "      <th>datetime</th>\n",
       "      <th>technology</th>\n",
       "      <th>year</th>\n",
       "      <th>month</th>\n",
       "      <th>day</th>\n",
       "      <th>hour</th>\n",
       "      <th>generation_mwh</th>\n",
       "    </tr>\n",
       "  </thead>\n",
       "  <tbody>\n",
       "    <tr>\n",
       "      <th>17544</th>\n",
       "      <td>2021-01-01 00:00:00</td>\n",
       "      <td>Carbon</td>\n",
       "      <td>2021</td>\n",
       "      <td>1</td>\n",
       "      <td>1</td>\n",
       "      <td>0</td>\n",
       "      <td>250.0</td>\n",
       "    </tr>\n",
       "    <tr>\n",
       "      <th>17545</th>\n",
       "      <td>2021-01-01 01:00:00</td>\n",
       "      <td>Carbon</td>\n",
       "      <td>2021</td>\n",
       "      <td>1</td>\n",
       "      <td>1</td>\n",
       "      <td>1</td>\n",
       "      <td>250.0</td>\n",
       "    </tr>\n",
       "    <tr>\n",
       "      <th>...</th>\n",
       "      <td>...</td>\n",
       "      <td>...</td>\n",
       "      <td>...</td>\n",
       "      <td>...</td>\n",
       "      <td>...</td>\n",
       "      <td>...</td>\n",
       "      <td>...</td>\n",
       "    </tr>\n",
       "    <tr>\n",
       "      <th>420862</th>\n",
       "      <td>2021-12-31 22:00:00</td>\n",
       "      <td>Other Renewables</td>\n",
       "      <td>2021</td>\n",
       "      <td>12</td>\n",
       "      <td>31</td>\n",
       "      <td>22</td>\n",
       "      <td>607.5</td>\n",
       "    </tr>\n",
       "    <tr>\n",
       "      <th>420863</th>\n",
       "      <td>2021-12-31 23:00:00</td>\n",
       "      <td>Other Renewables</td>\n",
       "      <td>2021</td>\n",
       "      <td>12</td>\n",
       "      <td>31</td>\n",
       "      <td>23</td>\n",
       "      <td>591.6</td>\n",
       "    </tr>\n",
       "  </tbody>\n",
       "</table>\n",
       "<p>140160 rows × 7 columns</p>\n",
       "</div>"
      ],
      "text/plain": [
       "                   datetime        technology  year  month  day  hour  \\\n",
       "17544   2021-01-01 00:00:00            Carbon  2021      1    1     0   \n",
       "17545   2021-01-01 01:00:00            Carbon  2021      1    1     1   \n",
       "...                     ...               ...   ...    ...  ...   ...   \n",
       "420862  2021-12-31 22:00:00  Other Renewables  2021     12   31    22   \n",
       "420863  2021-12-31 23:00:00  Other Renewables  2021     12   31    23   \n",
       "\n",
       "        generation_mwh  \n",
       "17544            250.0  \n",
       "17545            250.0  \n",
       "...                ...  \n",
       "420862           607.5  \n",
       "420863           591.6  \n",
       "\n",
       "[140160 rows x 7 columns]"
      ]
     },
     "execution_count": 10,
     "metadata": {},
     "output_type": "execute_result"
    }
   ],
   "source": [
    "df_energy.query('year == 2021')"
   ]
  },
  {
   "cell_type": "markdown",
   "id": "2caf785f",
   "metadata": {
    "papermill": {
     "duration": 0.002212,
     "end_time": "2024-06-15T22:51:04.493353",
     "exception": false,
     "start_time": "2024-06-15T22:51:04.491141",
     "status": "completed"
    },
    "tags": []
   },
   "source": [
    "## Query with multiple conditions"
   ]
  },
  {
   "cell_type": "markdown",
   "id": "02921f93",
   "metadata": {
    "papermill": {
     "duration": 0.00244,
     "end_time": "2024-06-15T22:51:04.498199",
     "exception": false,
     "start_time": "2024-06-15T22:51:04.495759",
     "status": "completed"
    },
    "tags": []
   },
   "source": [
    "**Exercise**: Filter the year `2021` and `Eolic` technology."
   ]
  },
  {
   "cell_type": "markdown",
   "id": "f3dd05f4",
   "metadata": {
    "papermill": {
     "duration": 0.002461,
     "end_time": "2024-06-15T22:51:04.502961",
     "exception": false,
     "start_time": "2024-06-15T22:51:04.500500",
     "status": "completed"
    },
    "tags": []
   },
   "source": [
    "### Dummy"
   ]
  },
  {
   "cell_type": "code",
   "execution_count": 11,
   "id": "7ad10fd9",
   "metadata": {
    "execution": {
     "iopub.execute_input": "2024-06-15T22:51:04.508355Z",
     "iopub.status.busy": "2024-06-15T22:51:04.508231Z",
     "iopub.status.idle": "2024-06-15T22:51:04.522972Z",
     "shell.execute_reply": "2024-06-15T22:51:04.522751Z"
    },
    "papermill": {
     "duration": 0.01851,
     "end_time": "2024-06-15T22:51:04.523802",
     "exception": false,
     "start_time": "2024-06-15T22:51:04.505292",
     "status": "completed"
    },
    "tags": []
   },
   "outputs": [
    {
     "data": {
      "text/html": [
       "<div>\n",
       "<style scoped>\n",
       "    .dataframe tbody tr th:only-of-type {\n",
       "        vertical-align: middle;\n",
       "    }\n",
       "\n",
       "    .dataframe tbody tr th {\n",
       "        vertical-align: top;\n",
       "    }\n",
       "\n",
       "    .dataframe thead th {\n",
       "        text-align: right;\n",
       "    }\n",
       "</style>\n",
       "<table border=\"1\" class=\"dataframe\">\n",
       "  <thead>\n",
       "    <tr style=\"text-align: right;\">\n",
       "      <th></th>\n",
       "      <th>datetime</th>\n",
       "      <th>technology</th>\n",
       "      <th>year</th>\n",
       "      <th>month</th>\n",
       "      <th>day</th>\n",
       "      <th>hour</th>\n",
       "      <th>generation_mwh</th>\n",
       "    </tr>\n",
       "  </thead>\n",
       "  <tbody>\n",
       "    <tr>\n",
       "      <th>122760</th>\n",
       "      <td>2021-01-01 00:00:00</td>\n",
       "      <td>Eolic</td>\n",
       "      <td>2021</td>\n",
       "      <td>1</td>\n",
       "      <td>1</td>\n",
       "      <td>0</td>\n",
       "      <td>8557.5</td>\n",
       "    </tr>\n",
       "    <tr>\n",
       "      <th>122761</th>\n",
       "      <td>2021-01-01 01:00:00</td>\n",
       "      <td>Eolic</td>\n",
       "      <td>2021</td>\n",
       "      <td>1</td>\n",
       "      <td>1</td>\n",
       "      <td>1</td>\n",
       "      <td>8661.6</td>\n",
       "    </tr>\n",
       "    <tr>\n",
       "      <th>...</th>\n",
       "      <td>...</td>\n",
       "      <td>...</td>\n",
       "      <td>...</td>\n",
       "      <td>...</td>\n",
       "      <td>...</td>\n",
       "      <td>...</td>\n",
       "      <td>...</td>\n",
       "    </tr>\n",
       "    <tr>\n",
       "      <th>131518</th>\n",
       "      <td>2021-12-31 22:00:00</td>\n",
       "      <td>Eolic</td>\n",
       "      <td>2021</td>\n",
       "      <td>12</td>\n",
       "      <td>31</td>\n",
       "      <td>22</td>\n",
       "      <td>6081.8</td>\n",
       "    </tr>\n",
       "    <tr>\n",
       "      <th>131519</th>\n",
       "      <td>2021-12-31 23:00:00</td>\n",
       "      <td>Eolic</td>\n",
       "      <td>2021</td>\n",
       "      <td>12</td>\n",
       "      <td>31</td>\n",
       "      <td>23</td>\n",
       "      <td>6255.3</td>\n",
       "    </tr>\n",
       "  </tbody>\n",
       "</table>\n",
       "<p>8760 rows × 7 columns</p>\n",
       "</div>"
      ],
      "text/plain": [
       "                   datetime technology  year  month  day  hour  generation_mwh\n",
       "122760  2021-01-01 00:00:00      Eolic  2021      1    1     0          8557.5\n",
       "122761  2021-01-01 01:00:00      Eolic  2021      1    1     1          8661.6\n",
       "...                     ...        ...   ...    ...  ...   ...             ...\n",
       "131518  2021-12-31 22:00:00      Eolic  2021     12   31    22          6081.8\n",
       "131519  2021-12-31 23:00:00      Eolic  2021     12   31    23          6255.3\n",
       "\n",
       "[8760 rows x 7 columns]"
      ]
     },
     "execution_count": 11,
     "metadata": {},
     "output_type": "execute_result"
    }
   ],
   "source": [
    "mask_2021 = df_energy.year == 2021\n",
    "mask_eolic = df_energy.technology == 'Eolic'\n",
    "\n",
    "df_energy[mask_2021 & mask_eolic]"
   ]
  },
  {
   "cell_type": "markdown",
   "id": "73bcc994",
   "metadata": {
    "papermill": {
     "duration": 0.002416,
     "end_time": "2024-06-15T22:51:04.528944",
     "exception": false,
     "start_time": "2024-06-15T22:51:04.526528",
     "status": "completed"
    },
    "tags": []
   },
   "source": [
    "### Proficient"
   ]
  },
  {
   "cell_type": "code",
   "execution_count": 12,
   "id": "84371810",
   "metadata": {
    "execution": {
     "iopub.execute_input": "2024-06-15T22:51:04.534611Z",
     "iopub.status.busy": "2024-06-15T22:51:04.534410Z",
     "iopub.status.idle": "2024-06-15T22:51:04.542755Z",
     "shell.execute_reply": "2024-06-15T22:51:04.542471Z"
    },
    "papermill": {
     "duration": 0.012166,
     "end_time": "2024-06-15T22:51:04.543505",
     "exception": false,
     "start_time": "2024-06-15T22:51:04.531339",
     "status": "completed"
    },
    "tags": []
   },
   "outputs": [
    {
     "data": {
      "text/html": [
       "<div>\n",
       "<style scoped>\n",
       "    .dataframe tbody tr th:only-of-type {\n",
       "        vertical-align: middle;\n",
       "    }\n",
       "\n",
       "    .dataframe tbody tr th {\n",
       "        vertical-align: top;\n",
       "    }\n",
       "\n",
       "    .dataframe thead th {\n",
       "        text-align: right;\n",
       "    }\n",
       "</style>\n",
       "<table border=\"1\" class=\"dataframe\">\n",
       "  <thead>\n",
       "    <tr style=\"text-align: right;\">\n",
       "      <th></th>\n",
       "      <th>datetime</th>\n",
       "      <th>technology</th>\n",
       "      <th>year</th>\n",
       "      <th>month</th>\n",
       "      <th>day</th>\n",
       "      <th>hour</th>\n",
       "      <th>generation_mwh</th>\n",
       "    </tr>\n",
       "  </thead>\n",
       "  <tbody>\n",
       "    <tr>\n",
       "      <th>122760</th>\n",
       "      <td>2021-01-01 00:00:00</td>\n",
       "      <td>Eolic</td>\n",
       "      <td>2021</td>\n",
       "      <td>1</td>\n",
       "      <td>1</td>\n",
       "      <td>0</td>\n",
       "      <td>8557.5</td>\n",
       "    </tr>\n",
       "    <tr>\n",
       "      <th>122761</th>\n",
       "      <td>2021-01-01 01:00:00</td>\n",
       "      <td>Eolic</td>\n",
       "      <td>2021</td>\n",
       "      <td>1</td>\n",
       "      <td>1</td>\n",
       "      <td>1</td>\n",
       "      <td>8661.6</td>\n",
       "    </tr>\n",
       "    <tr>\n",
       "      <th>...</th>\n",
       "      <td>...</td>\n",
       "      <td>...</td>\n",
       "      <td>...</td>\n",
       "      <td>...</td>\n",
       "      <td>...</td>\n",
       "      <td>...</td>\n",
       "      <td>...</td>\n",
       "    </tr>\n",
       "    <tr>\n",
       "      <th>131518</th>\n",
       "      <td>2021-12-31 22:00:00</td>\n",
       "      <td>Eolic</td>\n",
       "      <td>2021</td>\n",
       "      <td>12</td>\n",
       "      <td>31</td>\n",
       "      <td>22</td>\n",
       "      <td>6081.8</td>\n",
       "    </tr>\n",
       "    <tr>\n",
       "      <th>131519</th>\n",
       "      <td>2021-12-31 23:00:00</td>\n",
       "      <td>Eolic</td>\n",
       "      <td>2021</td>\n",
       "      <td>12</td>\n",
       "      <td>31</td>\n",
       "      <td>23</td>\n",
       "      <td>6255.3</td>\n",
       "    </tr>\n",
       "  </tbody>\n",
       "</table>\n",
       "<p>8760 rows × 7 columns</p>\n",
       "</div>"
      ],
      "text/plain": [
       "                   datetime technology  year  month  day  hour  generation_mwh\n",
       "122760  2021-01-01 00:00:00      Eolic  2021      1    1     0          8557.5\n",
       "122761  2021-01-01 01:00:00      Eolic  2021      1    1     1          8661.6\n",
       "...                     ...        ...   ...    ...  ...   ...             ...\n",
       "131518  2021-12-31 22:00:00      Eolic  2021     12   31    22          6081.8\n",
       "131519  2021-12-31 23:00:00      Eolic  2021     12   31    23          6255.3\n",
       "\n",
       "[8760 rows x 7 columns]"
      ]
     },
     "execution_count": 12,
     "metadata": {},
     "output_type": "execute_result"
    }
   ],
   "source": [
    "df_energy.query('year == 2021 & technology == \"Eolic\"')"
   ]
  }
 ],
 "metadata": {
  "kernelspec": {
   "display_name": "Python 3 (ipykernel)",
   "language": "python",
   "name": "python3"
  },
  "language_info": {
   "codemirror_mode": {
    "name": "ipython",
    "version": 3
   },
   "file_extension": ".py",
   "mimetype": "text/x-python",
   "name": "python",
   "nbconvert_exporter": "python",
   "pygments_lexer": "ipython3",
   "version": "3.12.3"
  },
  "papermill": {
   "default_parameters": {},
   "duration": 1.407127,
   "end_time": "2024-06-15T22:51:04.760858",
   "environment_variables": {},
   "exception": null,
   "input_path": "/Users/sota/Library/CloudStorage/Dropbox/2 Business/1 Datons/2 Areas/Courses/2 Catalogue/10 DF/1 Materials/DF/notebooks/40_Filter/1_Conditionals/B_Solution.ipynb",
   "output_path": "/Users/sota/Library/CloudStorage/Dropbox/2 Business/1 Datons/2 Areas/Courses/2 Catalogue/10 DF/1 Materials/DF/notebooks/40_Filter/1_Conditionals/B_Solution.ipynb",
   "parameters": {},
   "start_time": "2024-06-15T22:51:03.353731",
   "version": "2.5.0"
  }
 },
 "nbformat": 4,
 "nbformat_minor": 5
}