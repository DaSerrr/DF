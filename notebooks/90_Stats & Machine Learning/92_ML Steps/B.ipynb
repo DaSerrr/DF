{
 "cells": [
  {
   "attachments": {},
   "cell_type": "markdown",
   "id": "29778fd4-3b3c-485f-95a9-e7750bba38b0",
   "metadata": {
    "editable": true,
    "papermill": {
     "duration": 0.009526,
     "end_time": "2024-04-10T10:54:08.024542",
     "exception": false,
     "start_time": "2024-04-10T10:54:08.015016",
     "status": "completed"
    },
    "slideshow": {
     "slide_type": ""
    },
    "tags": []
   },
   "source": [
    "# Machine Learning framework on Scikit-Learn"
   ]
  },
  {
   "attachments": {},
   "cell_type": "markdown",
   "id": "577558df-87b9-4ac1-b715-ede9d46ea60f",
   "metadata": {
    "editable": true,
    "execution": {
     "iopub.execute_input": "2024-04-04T22:00:29.358576Z",
     "iopub.status.busy": "2024-04-04T22:00:29.357933Z",
     "iopub.status.idle": "2024-04-04T22:00:29.365231Z",
     "shell.execute_reply": "2024-04-04T22:00:29.364472Z"
    },
    "papermill": {
     "duration": 0.008172,
     "end_time": "2024-04-10T10:54:08.040946",
     "exception": false,
     "start_time": "2024-04-10T10:54:08.032774",
     "status": "completed"
    },
    "slideshow": {
     "slide_type": ""
    },
    "tags": []
   },
   "source": [
    "![](src/df.png)"
   ]
  },
  {
   "attachments": {},
   "cell_type": "markdown",
   "id": "bba7b3ce-014f-4be4-a18f-6c771784679e",
   "metadata": {
    "editable": true,
    "papermill": {
     "duration": 0.006481,
     "end_time": "2024-04-10T10:54:08.055230",
     "exception": false,
     "start_time": "2024-04-10T10:54:08.048749",
     "status": "completed"
    },
    "slideshow": {
     "slide_type": ""
    },
    "tags": []
   },
   "source": [
    "## Data"
   ]
  },
  {
   "cell_type": "code",
   "execution_count": 1,
   "id": "42ce8ec3-f408-4b5b-82a1-2737f000ebc4",
   "metadata": {
    "editable": true,
    "execution": {
     "iopub.execute_input": "2024-04-10T10:54:08.069314Z",
     "iopub.status.busy": "2024-04-10T10:54:08.068925Z",
     "iopub.status.idle": "2024-04-10T10:54:08.535918Z",
     "shell.execute_reply": "2024-04-10T10:54:08.534865Z"
    },
    "papermill": {
     "duration": 0.477282,
     "end_time": "2024-04-10T10:54:08.538433",
     "exception": false,
     "start_time": "2024-04-10T10:54:08.061151",
     "status": "completed"
    },
    "slideshow": {
     "slide_type": ""
    },
    "tags": [
     "change-false"
    ]
   },
   "outputs": [
    {
     "data": {
      "text/html": [
       "<div>\n",
       "<style scoped>\n",
       "    .dataframe tbody tr th:only-of-type {\n",
       "        vertical-align: middle;\n",
       "    }\n",
       "\n",
       "    .dataframe tbody tr th {\n",
       "        vertical-align: top;\n",
       "    }\n",
       "\n",
       "    .dataframe thead th {\n",
       "        text-align: right;\n",
       "    }\n",
       "</style>\n",
       "<table border=\"1\" class=\"dataframe\">\n",
       "  <thead>\n",
       "    <tr style=\"text-align: right;\">\n",
       "      <th></th>\n",
       "      <th>lifeExp</th>\n",
       "      <th>pop</th>\n",
       "      <th>gdpPercap</th>\n",
       "      <th>continent_Africa</th>\n",
       "      <th>continent_Americas</th>\n",
       "      <th>continent_Asia</th>\n",
       "      <th>continent_Europe</th>\n",
       "      <th>continent_Oceania</th>\n",
       "    </tr>\n",
       "    <tr>\n",
       "      <th>country</th>\n",
       "      <th></th>\n",
       "      <th></th>\n",
       "      <th></th>\n",
       "      <th></th>\n",
       "      <th></th>\n",
       "      <th></th>\n",
       "      <th></th>\n",
       "      <th></th>\n",
       "    </tr>\n",
       "  </thead>\n",
       "  <tbody>\n",
       "    <tr>\n",
       "      <th>Afghanistan</th>\n",
       "      <td>43.828</td>\n",
       "      <td>31889923</td>\n",
       "      <td>974.580338</td>\n",
       "      <td>False</td>\n",
       "      <td>False</td>\n",
       "      <td>True</td>\n",
       "      <td>False</td>\n",
       "      <td>False</td>\n",
       "    </tr>\n",
       "    <tr>\n",
       "      <th>Albania</th>\n",
       "      <td>76.423</td>\n",
       "      <td>3600523</td>\n",
       "      <td>5937.029526</td>\n",
       "      <td>False</td>\n",
       "      <td>False</td>\n",
       "      <td>False</td>\n",
       "      <td>True</td>\n",
       "      <td>False</td>\n",
       "    </tr>\n",
       "    <tr>\n",
       "      <th>...</th>\n",
       "      <td>...</td>\n",
       "      <td>...</td>\n",
       "      <td>...</td>\n",
       "      <td>...</td>\n",
       "      <td>...</td>\n",
       "      <td>...</td>\n",
       "      <td>...</td>\n",
       "      <td>...</td>\n",
       "    </tr>\n",
       "    <tr>\n",
       "      <th>Zambia</th>\n",
       "      <td>42.384</td>\n",
       "      <td>11746035</td>\n",
       "      <td>1271.211593</td>\n",
       "      <td>True</td>\n",
       "      <td>False</td>\n",
       "      <td>False</td>\n",
       "      <td>False</td>\n",
       "      <td>False</td>\n",
       "    </tr>\n",
       "    <tr>\n",
       "      <th>Zimbabwe</th>\n",
       "      <td>43.487</td>\n",
       "      <td>12311143</td>\n",
       "      <td>469.709298</td>\n",
       "      <td>True</td>\n",
       "      <td>False</td>\n",
       "      <td>False</td>\n",
       "      <td>False</td>\n",
       "      <td>False</td>\n",
       "    </tr>\n",
       "  </tbody>\n",
       "</table>\n",
       "<p>142 rows × 8 columns</p>\n",
       "</div>"
      ],
      "text/plain": [
       "             lifeExp       pop    gdpPercap  continent_Africa  \\\n",
       "country                                                         \n",
       "Afghanistan   43.828  31889923   974.580338             False   \n",
       "Albania       76.423   3600523  5937.029526             False   \n",
       "...              ...       ...          ...               ...   \n",
       "Zambia        42.384  11746035  1271.211593              True   \n",
       "Zimbabwe      43.487  12311143   469.709298              True   \n",
       "\n",
       "             continent_Americas  continent_Asia  continent_Europe  \\\n",
       "country                                                             \n",
       "Afghanistan               False            True             False   \n",
       "Albania                   False           False              True   \n",
       "...                         ...             ...               ...   \n",
       "Zambia                    False           False             False   \n",
       "Zimbabwe                  False           False             False   \n",
       "\n",
       "             continent_Oceania  \n",
       "country                         \n",
       "Afghanistan              False  \n",
       "Albania                  False  \n",
       "...                        ...  \n",
       "Zambia                   False  \n",
       "Zimbabwe                 False  \n",
       "\n",
       "[142 rows x 8 columns]"
      ]
     },
     "execution_count": 1,
     "metadata": {},
     "output_type": "execute_result"
    }
   ],
   "source": [
    "import pandas as pd\n",
    "\n",
    "df_gapminder = pd.read_csv('../../../data/raw/gapminder.csv').query('year == year.max()').drop(columns=['year','iso_num','iso_alpha']).set_index('country')\n",
    "df_gapminder = pd.get_dummies(df_gapminder)\n",
    "df_gapminder"
   ]
  },
  {
   "attachments": {},
   "cell_type": "markdown",
   "id": "33058cde-0f4b-4df5-8992-4f547e21f5f7",
   "metadata": {
    "editable": true,
    "papermill": {
     "duration": 0.007219,
     "end_time": "2024-04-10T10:54:08.553169",
     "exception": false,
     "start_time": "2024-04-10T10:54:08.545950",
     "status": "completed"
    },
    "slideshow": {
     "slide_type": ""
    },
    "tags": []
   },
   "source": [
    "$$\n",
    "Y = b_0 + b_1 \\cdot X_1 + b_2 \\cdot X_2 + ... \n",
    "$$\n",
    "$$\n",
    "lifeExp = b_0 + b_1 \\cdot pop + b_2 \\cdot gdpPercap + ... \n",
    "$$"
   ]
  },
  {
   "attachments": {},
   "cell_type": "markdown",
   "id": "1011f9c2-5051-43ce-bfee-81909bb31338",
   "metadata": {
    "editable": true,
    "papermill": {
     "duration": 0.006424,
     "end_time": "2024-04-10T10:54:08.566658",
     "exception": false,
     "start_time": "2024-04-10T10:54:08.560234",
     "status": "completed"
    },
    "slideshow": {
     "slide_type": ""
    },
    "tags": []
   },
   "source": [
    "## The Machine Learning System"
   ]
  },
  {
   "attachments": {},
   "cell_type": "markdown",
   "id": "06330a70-4865-4e94-84cd-931069013964",
   "metadata": {
    "editable": true,
    "papermill": {
     "duration": 0.006409,
     "end_time": "2024-04-10T10:54:08.580220",
     "exception": false,
     "start_time": "2024-04-10T10:54:08.573811",
     "status": "completed"
    },
    "slideshow": {
     "slide_type": ""
    },
    "tags": []
   },
   "source": [
    "- To create any ML model in Python, you always [follow the same system](https://datons.craft.me/h3f5pSQSE7l6RW)."
   ]
  },
  {
   "attachments": {},
   "cell_type": "markdown",
   "id": "2772e6c3-f12e-4c31-b409-ad654940f6a3",
   "metadata": {
    "editable": true,
    "papermill": {
     "duration": 0.006974,
     "end_time": "2024-04-10T10:54:08.593507",
     "exception": false,
     "start_time": "2024-04-10T10:54:08.586533",
     "status": "completed"
    },
    "slideshow": {
     "slide_type": ""
    },
    "tags": []
   },
   "source": [
    "## Select the variables for the model\n",
    "\n",
    "1. **`y` target**: output variable (to predict)\n",
    "2. **`X` explanatory**: input variables to calculate/explain the prediction"
   ]
  },
  {
   "cell_type": "code",
   "execution_count": 2,
   "id": "ca6e3ab8-b1b5-4b8d-ab27-4dbab94e3c47",
   "metadata": {
    "editable": true,
    "execution": {
     "iopub.execute_input": "2024-04-10T10:54:08.607427Z",
     "iopub.status.busy": "2024-04-10T10:54:08.607175Z",
     "iopub.status.idle": "2024-04-10T10:54:08.613659Z",
     "shell.execute_reply": "2024-04-10T10:54:08.612881Z"
    },
    "papermill": {
     "duration": 0.015222,
     "end_time": "2024-04-10T10:54:08.615247",
     "exception": false,
     "start_time": "2024-04-10T10:54:08.600025",
     "status": "completed"
    },
    "slideshow": {
     "slide_type": ""
    },
    "tags": []
   },
   "outputs": [
    {
     "data": {
      "text/plain": [
       "country\n",
       "Afghanistan    43.828\n",
       "Albania        76.423\n",
       "                ...  \n",
       "Zambia         42.384\n",
       "Zimbabwe       43.487\n",
       "Name: lifeExp, Length: 142, dtype: float64"
      ]
     },
     "execution_count": 2,
     "metadata": {},
     "output_type": "execute_result"
    }
   ],
   "source": [
    "y = df_gapminder['lifeExp']\n",
    "X = df_gapminder.drop(columns='lifeExp')\n",
    "y"
   ]
  },
  {
   "cell_type": "code",
   "execution_count": 3,
   "id": "3bb71aa0-be28-47e3-abca-7f7ed0aa298c",
   "metadata": {
    "editable": true,
    "execution": {
     "iopub.execute_input": "2024-04-10T10:54:08.628491Z",
     "iopub.status.busy": "2024-04-10T10:54:08.628217Z",
     "iopub.status.idle": "2024-04-10T10:54:08.637916Z",
     "shell.execute_reply": "2024-04-10T10:54:08.637055Z"
    },
    "papermill": {
     "duration": 0.018575,
     "end_time": "2024-04-10T10:54:08.639886",
     "exception": false,
     "start_time": "2024-04-10T10:54:08.621311",
     "status": "completed"
    },
    "slideshow": {
     "slide_type": ""
    },
    "tags": []
   },
   "outputs": [
    {
     "data": {
      "text/html": [
       "<div>\n",
       "<style scoped>\n",
       "    .dataframe tbody tr th:only-of-type {\n",
       "        vertical-align: middle;\n",
       "    }\n",
       "\n",
       "    .dataframe tbody tr th {\n",
       "        vertical-align: top;\n",
       "    }\n",
       "\n",
       "    .dataframe thead th {\n",
       "        text-align: right;\n",
       "    }\n",
       "</style>\n",
       "<table border=\"1\" class=\"dataframe\">\n",
       "  <thead>\n",
       "    <tr style=\"text-align: right;\">\n",
       "      <th></th>\n",
       "      <th>pop</th>\n",
       "      <th>gdpPercap</th>\n",
       "      <th>continent_Africa</th>\n",
       "      <th>continent_Americas</th>\n",
       "      <th>continent_Asia</th>\n",
       "      <th>continent_Europe</th>\n",
       "      <th>continent_Oceania</th>\n",
       "    </tr>\n",
       "    <tr>\n",
       "      <th>country</th>\n",
       "      <th></th>\n",
       "      <th></th>\n",
       "      <th></th>\n",
       "      <th></th>\n",
       "      <th></th>\n",
       "      <th></th>\n",
       "      <th></th>\n",
       "    </tr>\n",
       "  </thead>\n",
       "  <tbody>\n",
       "    <tr>\n",
       "      <th>Afghanistan</th>\n",
       "      <td>31889923</td>\n",
       "      <td>974.580338</td>\n",
       "      <td>False</td>\n",
       "      <td>False</td>\n",
       "      <td>True</td>\n",
       "      <td>False</td>\n",
       "      <td>False</td>\n",
       "    </tr>\n",
       "    <tr>\n",
       "      <th>Albania</th>\n",
       "      <td>3600523</td>\n",
       "      <td>5937.029526</td>\n",
       "      <td>False</td>\n",
       "      <td>False</td>\n",
       "      <td>False</td>\n",
       "      <td>True</td>\n",
       "      <td>False</td>\n",
       "    </tr>\n",
       "    <tr>\n",
       "      <th>...</th>\n",
       "      <td>...</td>\n",
       "      <td>...</td>\n",
       "      <td>...</td>\n",
       "      <td>...</td>\n",
       "      <td>...</td>\n",
       "      <td>...</td>\n",
       "      <td>...</td>\n",
       "    </tr>\n",
       "    <tr>\n",
       "      <th>Zambia</th>\n",
       "      <td>11746035</td>\n",
       "      <td>1271.211593</td>\n",
       "      <td>True</td>\n",
       "      <td>False</td>\n",
       "      <td>False</td>\n",
       "      <td>False</td>\n",
       "      <td>False</td>\n",
       "    </tr>\n",
       "    <tr>\n",
       "      <th>Zimbabwe</th>\n",
       "      <td>12311143</td>\n",
       "      <td>469.709298</td>\n",
       "      <td>True</td>\n",
       "      <td>False</td>\n",
       "      <td>False</td>\n",
       "      <td>False</td>\n",
       "      <td>False</td>\n",
       "    </tr>\n",
       "  </tbody>\n",
       "</table>\n",
       "<p>142 rows × 7 columns</p>\n",
       "</div>"
      ],
      "text/plain": [
       "                  pop    gdpPercap  continent_Africa  continent_Americas  \\\n",
       "country                                                                    \n",
       "Afghanistan  31889923   974.580338             False               False   \n",
       "Albania       3600523  5937.029526             False               False   \n",
       "...               ...          ...               ...                 ...   \n",
       "Zambia       11746035  1271.211593              True               False   \n",
       "Zimbabwe     12311143   469.709298              True               False   \n",
       "\n",
       "             continent_Asia  continent_Europe  continent_Oceania  \n",
       "country                                                           \n",
       "Afghanistan            True             False              False  \n",
       "Albania               False              True              False  \n",
       "...                     ...               ...                ...  \n",
       "Zambia                False             False              False  \n",
       "Zimbabwe              False             False              False  \n",
       "\n",
       "[142 rows x 7 columns]"
      ]
     },
     "execution_count": 3,
     "metadata": {},
     "output_type": "execute_result"
    }
   ],
   "source": [
    "X"
   ]
  },
  {
   "attachments": {},
   "cell_type": "markdown",
   "id": "a02dfd04-f2eb-4f15-a5dd-9ff50eec2419",
   "metadata": {
    "editable": true,
    "papermill": {
     "duration": 0.064162,
     "end_time": "2024-04-10T10:54:08.728342",
     "exception": false,
     "start_time": "2024-04-10T10:54:08.664180",
     "status": "completed"
    },
    "slideshow": {
     "slide_type": ""
    },
    "tags": []
   },
   "source": [
    "## Linear Regression"
   ]
  },
  {
   "cell_type": "code",
   "execution_count": 4,
   "id": "c5a40984-1bc8-4944-a3d0-da2570acb7ea",
   "metadata": {
    "editable": true,
    "execution": {
     "iopub.execute_input": "2024-04-10T10:54:08.764065Z",
     "iopub.status.busy": "2024-04-10T10:54:08.763657Z",
     "iopub.status.idle": "2024-04-10T10:54:09.569783Z",
     "shell.execute_reply": "2024-04-10T10:54:09.568932Z"
    },
    "papermill": {
     "duration": 0.835357,
     "end_time": "2024-04-10T10:54:09.571979",
     "exception": false,
     "start_time": "2024-04-10T10:54:08.736622",
     "status": "completed"
    },
    "slideshow": {
     "slide_type": ""
    },
    "tags": []
   },
   "outputs": [
    {
     "data": {
      "text/html": [
       "<style>#sk-container-id-1 {color: black;}#sk-container-id-1 pre{padding: 0;}#sk-container-id-1 div.sk-toggleable {background-color: white;}#sk-container-id-1 label.sk-toggleable__label {cursor: pointer;display: block;width: 100%;margin-bottom: 0;padding: 0.3em;box-sizing: border-box;text-align: center;}#sk-container-id-1 label.sk-toggleable__label-arrow:before {content: \"▸\";float: left;margin-right: 0.25em;color: #696969;}#sk-container-id-1 label.sk-toggleable__label-arrow:hover:before {color: black;}#sk-container-id-1 div.sk-estimator:hover label.sk-toggleable__label-arrow:before {color: black;}#sk-container-id-1 div.sk-toggleable__content {max-height: 0;max-width: 0;overflow: hidden;text-align: left;background-color: #f0f8ff;}#sk-container-id-1 div.sk-toggleable__content pre {margin: 0.2em;color: black;border-radius: 0.25em;background-color: #f0f8ff;}#sk-container-id-1 input.sk-toggleable__control:checked~div.sk-toggleable__content {max-height: 200px;max-width: 100%;overflow: auto;}#sk-container-id-1 input.sk-toggleable__control:checked~label.sk-toggleable__label-arrow:before {content: \"▾\";}#sk-container-id-1 div.sk-estimator input.sk-toggleable__control:checked~label.sk-toggleable__label {background-color: #d4ebff;}#sk-container-id-1 div.sk-label input.sk-toggleable__control:checked~label.sk-toggleable__label {background-color: #d4ebff;}#sk-container-id-1 input.sk-hidden--visually {border: 0;clip: rect(1px 1px 1px 1px);clip: rect(1px, 1px, 1px, 1px);height: 1px;margin: -1px;overflow: hidden;padding: 0;position: absolute;width: 1px;}#sk-container-id-1 div.sk-estimator {font-family: monospace;background-color: #f0f8ff;border: 1px dotted black;border-radius: 0.25em;box-sizing: border-box;margin-bottom: 0.5em;}#sk-container-id-1 div.sk-estimator:hover {background-color: #d4ebff;}#sk-container-id-1 div.sk-parallel-item::after {content: \"\";width: 100%;border-bottom: 1px solid gray;flex-grow: 1;}#sk-container-id-1 div.sk-label:hover label.sk-toggleable__label {background-color: #d4ebff;}#sk-container-id-1 div.sk-serial::before {content: \"\";position: absolute;border-left: 1px solid gray;box-sizing: border-box;top: 0;bottom: 0;left: 50%;z-index: 0;}#sk-container-id-1 div.sk-serial {display: flex;flex-direction: column;align-items: center;background-color: white;padding-right: 0.2em;padding-left: 0.2em;position: relative;}#sk-container-id-1 div.sk-item {position: relative;z-index: 1;}#sk-container-id-1 div.sk-parallel {display: flex;align-items: stretch;justify-content: center;background-color: white;position: relative;}#sk-container-id-1 div.sk-item::before, #sk-container-id-1 div.sk-parallel-item::before {content: \"\";position: absolute;border-left: 1px solid gray;box-sizing: border-box;top: 0;bottom: 0;left: 50%;z-index: -1;}#sk-container-id-1 div.sk-parallel-item {display: flex;flex-direction: column;z-index: 1;position: relative;background-color: white;}#sk-container-id-1 div.sk-parallel-item:first-child::after {align-self: flex-end;width: 50%;}#sk-container-id-1 div.sk-parallel-item:last-child::after {align-self: flex-start;width: 50%;}#sk-container-id-1 div.sk-parallel-item:only-child::after {width: 0;}#sk-container-id-1 div.sk-dashed-wrapped {border: 1px dashed gray;margin: 0 0.4em 0.5em 0.4em;box-sizing: border-box;padding-bottom: 0.4em;background-color: white;}#sk-container-id-1 div.sk-label label {font-family: monospace;font-weight: bold;display: inline-block;line-height: 1.2em;}#sk-container-id-1 div.sk-label-container {text-align: center;}#sk-container-id-1 div.sk-container {/* jupyter's `normalize.less` sets `[hidden] { display: none; }` but bootstrap.min.css set `[hidden] { display: none !important; }` so we also need the `!important` here to be able to override the default hidden behavior on the sphinx rendered scikit-learn.org. See: https://github.com/scikit-learn/scikit-learn/issues/21755 */display: inline-block !important;position: relative;}#sk-container-id-1 div.sk-text-repr-fallback {display: none;}</style><div id=\"sk-container-id-1\" class=\"sk-top-container\"><div class=\"sk-text-repr-fallback\"><pre>LinearRegression()</pre><b>In a Jupyter environment, please rerun this cell to show the HTML representation or trust the notebook. <br />On GitHub, the HTML representation is unable to render, please try loading this page with nbviewer.org.</b></div><div class=\"sk-container\" hidden><div class=\"sk-item\"><div class=\"sk-estimator sk-toggleable\"><input class=\"sk-toggleable__control sk-hidden--visually\" id=\"sk-estimator-id-1\" type=\"checkbox\" checked><label for=\"sk-estimator-id-1\" class=\"sk-toggleable__label sk-toggleable__label-arrow\">LinearRegression</label><div class=\"sk-toggleable__content\"><pre>LinearRegression()</pre></div></div></div></div></div>"
      ],
      "text/plain": [
       "LinearRegression()"
      ]
     },
     "execution_count": 4,
     "metadata": {},
     "output_type": "execute_result"
    }
   ],
   "source": [
    "from sklearn.linear_model import LinearRegression\n",
    "\n",
    "model_lr = LinearRegression()\n",
    "model_lr.fit(X, y)"
   ]
  },
  {
   "attachments": {},
   "cell_type": "markdown",
   "id": "a5c92cd8-63c4-4470-8cb4-2ac2678ebe3e",
   "metadata": {
    "editable": true,
    "papermill": {
     "duration": 0.007523,
     "end_time": "2024-04-10T10:54:09.586284",
     "exception": false,
     "start_time": "2024-04-10T10:54:09.578761",
     "status": "completed"
    },
    "slideshow": {
     "slide_type": ""
    },
    "tags": []
   },
   "source": [
    "## Prediction"
   ]
  },
  {
   "cell_type": "code",
   "execution_count": 5,
   "id": "2d357b5f-e3a6-44f0-8a66-7f0232389d8a",
   "metadata": {
    "editable": true,
    "execution": {
     "iopub.execute_input": "2024-04-10T10:54:09.604068Z",
     "iopub.status.busy": "2024-04-10T10:54:09.603337Z",
     "iopub.status.idle": "2024-04-10T10:54:09.614578Z",
     "shell.execute_reply": "2024-04-10T10:54:09.613940Z"
    },
    "papermill": {
     "duration": 0.022578,
     "end_time": "2024-04-10T10:54:09.616469",
     "exception": false,
     "start_time": "2024-04-10T10:54:09.593891",
     "status": "completed"
    },
    "slideshow": {
     "slide_type": ""
    },
    "tags": []
   },
   "outputs": [
    {
     "data": {
      "text/html": [
       "<div>\n",
       "<style scoped>\n",
       "    .dataframe tbody tr th:only-of-type {\n",
       "        vertical-align: middle;\n",
       "    }\n",
       "\n",
       "    .dataframe tbody tr th {\n",
       "        vertical-align: top;\n",
       "    }\n",
       "\n",
       "    .dataframe thead th {\n",
       "        text-align: right;\n",
       "    }\n",
       "</style>\n",
       "<table border=\"1\" class=\"dataframe\">\n",
       "  <thead>\n",
       "    <tr style=\"text-align: right;\">\n",
       "      <th></th>\n",
       "      <th>lifeExp</th>\n",
       "      <th>pred_lr</th>\n",
       "    </tr>\n",
       "    <tr>\n",
       "      <th>country</th>\n",
       "      <th></th>\n",
       "      <th></th>\n",
       "    </tr>\n",
       "  </thead>\n",
       "  <tbody>\n",
       "    <tr>\n",
       "      <th>Afghanistan</th>\n",
       "      <td>43.828</td>\n",
       "      <td>66.647871</td>\n",
       "    </tr>\n",
       "    <tr>\n",
       "      <th>Albania</th>\n",
       "      <td>76.423</td>\n",
       "      <td>70.982125</td>\n",
       "    </tr>\n",
       "    <tr>\n",
       "      <th>...</th>\n",
       "      <td>...</td>\n",
       "      <td>...</td>\n",
       "    </tr>\n",
       "    <tr>\n",
       "      <th>Zambia</th>\n",
       "      <td>42.384</td>\n",
       "      <td>54.167720</td>\n",
       "    </tr>\n",
       "    <tr>\n",
       "      <th>Zimbabwe</th>\n",
       "      <td>43.487</td>\n",
       "      <td>53.889409</td>\n",
       "    </tr>\n",
       "  </tbody>\n",
       "</table>\n",
       "<p>142 rows × 2 columns</p>\n",
       "</div>"
      ],
      "text/plain": [
       "             lifeExp    pred_lr\n",
       "country                        \n",
       "Afghanistan   43.828  66.647871\n",
       "Albania       76.423  70.982125\n",
       "...              ...        ...\n",
       "Zambia        42.384  54.167720\n",
       "Zimbabwe      43.487  53.889409\n",
       "\n",
       "[142 rows x 2 columns]"
      ]
     },
     "execution_count": 5,
     "metadata": {},
     "output_type": "execute_result"
    }
   ],
   "source": [
    "y_pred = model_lr.predict(X)\n",
    "\n",
    "df_pred = pd.DataFrame({'lifeExp': y, 'pred_lr': y_pred})\n",
    "df_pred"
   ]
  },
  {
   "attachments": {},
   "cell_type": "markdown",
   "id": "7f388949-b81f-4e8a-97da-d3229359526f",
   "metadata": {
    "editable": true,
    "papermill": {
     "duration": 0.028702,
     "end_time": "2024-04-10T10:54:09.657840",
     "exception": false,
     "start_time": "2024-04-10T10:54:09.629138",
     "status": "completed"
    },
    "slideshow": {
     "slide_type": ""
    },
    "tags": []
   },
   "source": [
    "## Model evaluation"
   ]
  },
  {
   "cell_type": "code",
   "execution_count": 6,
   "id": "3ff0fbf3-12b4-4928-9897-9159d259ee38",
   "metadata": {
    "editable": true,
    "execution": {
     "iopub.execute_input": "2024-04-10T10:54:09.696913Z",
     "iopub.status.busy": "2024-04-10T10:54:09.696247Z",
     "iopub.status.idle": "2024-04-10T10:54:09.703693Z",
     "shell.execute_reply": "2024-04-10T10:54:09.702909Z"
    },
    "papermill": {
     "duration": 0.03692,
     "end_time": "2024-04-10T10:54:09.705961",
     "exception": false,
     "start_time": "2024-04-10T10:54:09.669041",
     "status": "completed"
    },
    "slideshow": {
     "slide_type": ""
    },
    "tags": []
   },
   "outputs": [
    {
     "data": {
      "text/plain": [
       "0.7141199514291265"
      ]
     },
     "execution_count": 6,
     "metadata": {},
     "output_type": "execute_result"
    }
   ],
   "source": [
    "model_lr.score(X, y)"
   ]
  },
  {
   "attachments": {},
   "cell_type": "markdown",
   "id": "1cb3d7ff-7bcb-4cc8-a451-111e8076b0ec",
   "metadata": {
    "editable": true,
    "papermill": {
     "duration": 0.030603,
     "end_time": "2024-04-10T10:54:09.751669",
     "exception": false,
     "start_time": "2024-04-10T10:54:09.721066",
     "status": "completed"
    },
    "slideshow": {
     "slide_type": ""
    },
    "tags": []
   },
   "source": [
    "## The K Nearest Neighbours ML Model"
   ]
  },
  {
   "attachments": {},
   "cell_type": "markdown",
   "id": "fd69c0b3-406a-457a-87fa-8c5bfc7505a6",
   "metadata": {
    "editable": true,
    "papermill": {
     "duration": 0.027157,
     "end_time": "2024-04-10T10:54:09.807437",
     "exception": false,
     "start_time": "2024-04-10T10:54:09.780280",
     "status": "completed"
    },
    "slideshow": {
     "slide_type": ""
    },
    "tags": []
   },
   "source": [
    "### Fit the model with the data"
   ]
  },
  {
   "cell_type": "code",
   "execution_count": 7,
   "id": "209ca45c-9b8c-40ab-92d8-82ff93a9f50a",
   "metadata": {
    "editable": true,
    "execution": {
     "iopub.execute_input": "2024-04-10T10:54:09.824737Z",
     "iopub.status.busy": "2024-04-10T10:54:09.824486Z",
     "iopub.status.idle": "2024-04-10T10:54:09.895330Z",
     "shell.execute_reply": "2024-04-10T10:54:09.894501Z"
    },
    "papermill": {
     "duration": 0.081585,
     "end_time": "2024-04-10T10:54:09.897741",
     "exception": false,
     "start_time": "2024-04-10T10:54:09.816156",
     "status": "completed"
    },
    "slideshow": {
     "slide_type": ""
    },
    "tags": []
   },
   "outputs": [
    {
     "data": {
      "text/html": [
       "<style>#sk-container-id-2 {color: black;}#sk-container-id-2 pre{padding: 0;}#sk-container-id-2 div.sk-toggleable {background-color: white;}#sk-container-id-2 label.sk-toggleable__label {cursor: pointer;display: block;width: 100%;margin-bottom: 0;padding: 0.3em;box-sizing: border-box;text-align: center;}#sk-container-id-2 label.sk-toggleable__label-arrow:before {content: \"▸\";float: left;margin-right: 0.25em;color: #696969;}#sk-container-id-2 label.sk-toggleable__label-arrow:hover:before {color: black;}#sk-container-id-2 div.sk-estimator:hover label.sk-toggleable__label-arrow:before {color: black;}#sk-container-id-2 div.sk-toggleable__content {max-height: 0;max-width: 0;overflow: hidden;text-align: left;background-color: #f0f8ff;}#sk-container-id-2 div.sk-toggleable__content pre {margin: 0.2em;color: black;border-radius: 0.25em;background-color: #f0f8ff;}#sk-container-id-2 input.sk-toggleable__control:checked~div.sk-toggleable__content {max-height: 200px;max-width: 100%;overflow: auto;}#sk-container-id-2 input.sk-toggleable__control:checked~label.sk-toggleable__label-arrow:before {content: \"▾\";}#sk-container-id-2 div.sk-estimator input.sk-toggleable__control:checked~label.sk-toggleable__label {background-color: #d4ebff;}#sk-container-id-2 div.sk-label input.sk-toggleable__control:checked~label.sk-toggleable__label {background-color: #d4ebff;}#sk-container-id-2 input.sk-hidden--visually {border: 0;clip: rect(1px 1px 1px 1px);clip: rect(1px, 1px, 1px, 1px);height: 1px;margin: -1px;overflow: hidden;padding: 0;position: absolute;width: 1px;}#sk-container-id-2 div.sk-estimator {font-family: monospace;background-color: #f0f8ff;border: 1px dotted black;border-radius: 0.25em;box-sizing: border-box;margin-bottom: 0.5em;}#sk-container-id-2 div.sk-estimator:hover {background-color: #d4ebff;}#sk-container-id-2 div.sk-parallel-item::after {content: \"\";width: 100%;border-bottom: 1px solid gray;flex-grow: 1;}#sk-container-id-2 div.sk-label:hover label.sk-toggleable__label {background-color: #d4ebff;}#sk-container-id-2 div.sk-serial::before {content: \"\";position: absolute;border-left: 1px solid gray;box-sizing: border-box;top: 0;bottom: 0;left: 50%;z-index: 0;}#sk-container-id-2 div.sk-serial {display: flex;flex-direction: column;align-items: center;background-color: white;padding-right: 0.2em;padding-left: 0.2em;position: relative;}#sk-container-id-2 div.sk-item {position: relative;z-index: 1;}#sk-container-id-2 div.sk-parallel {display: flex;align-items: stretch;justify-content: center;background-color: white;position: relative;}#sk-container-id-2 div.sk-item::before, #sk-container-id-2 div.sk-parallel-item::before {content: \"\";position: absolute;border-left: 1px solid gray;box-sizing: border-box;top: 0;bottom: 0;left: 50%;z-index: -1;}#sk-container-id-2 div.sk-parallel-item {display: flex;flex-direction: column;z-index: 1;position: relative;background-color: white;}#sk-container-id-2 div.sk-parallel-item:first-child::after {align-self: flex-end;width: 50%;}#sk-container-id-2 div.sk-parallel-item:last-child::after {align-self: flex-start;width: 50%;}#sk-container-id-2 div.sk-parallel-item:only-child::after {width: 0;}#sk-container-id-2 div.sk-dashed-wrapped {border: 1px dashed gray;margin: 0 0.4em 0.5em 0.4em;box-sizing: border-box;padding-bottom: 0.4em;background-color: white;}#sk-container-id-2 div.sk-label label {font-family: monospace;font-weight: bold;display: inline-block;line-height: 1.2em;}#sk-container-id-2 div.sk-label-container {text-align: center;}#sk-container-id-2 div.sk-container {/* jupyter's `normalize.less` sets `[hidden] { display: none; }` but bootstrap.min.css set `[hidden] { display: none !important; }` so we also need the `!important` here to be able to override the default hidden behavior on the sphinx rendered scikit-learn.org. See: https://github.com/scikit-learn/scikit-learn/issues/21755 */display: inline-block !important;position: relative;}#sk-container-id-2 div.sk-text-repr-fallback {display: none;}</style><div id=\"sk-container-id-2\" class=\"sk-top-container\"><div class=\"sk-text-repr-fallback\"><pre>KNeighborsRegressor()</pre><b>In a Jupyter environment, please rerun this cell to show the HTML representation or trust the notebook. <br />On GitHub, the HTML representation is unable to render, please try loading this page with nbviewer.org.</b></div><div class=\"sk-container\" hidden><div class=\"sk-item\"><div class=\"sk-estimator sk-toggleable\"><input class=\"sk-toggleable__control sk-hidden--visually\" id=\"sk-estimator-id-2\" type=\"checkbox\" checked><label for=\"sk-estimator-id-2\" class=\"sk-toggleable__label sk-toggleable__label-arrow\">KNeighborsRegressor</label><div class=\"sk-toggleable__content\"><pre>KNeighborsRegressor()</pre></div></div></div></div></div>"
      ],
      "text/plain": [
       "KNeighborsRegressor()"
      ]
     },
     "execution_count": 7,
     "metadata": {},
     "output_type": "execute_result"
    }
   ],
   "source": [
    "from sklearn.neighbors import KNeighborsRegressor\n",
    "\n",
    "model_kn = KNeighborsRegressor()\n",
    "model_kn.fit(X, y)"
   ]
  },
  {
   "attachments": {},
   "cell_type": "markdown",
   "id": "4c5945d2-8142-4143-82b1-82e18e33dfca",
   "metadata": {
    "editable": true,
    "papermill": {
     "duration": 0.007943,
     "end_time": "2024-04-10T10:54:09.914221",
     "exception": false,
     "start_time": "2024-04-10T10:54:09.906278",
     "status": "completed"
    },
    "slideshow": {
     "slide_type": ""
    },
    "tags": []
   },
   "source": [
    "### Predictions"
   ]
  },
  {
   "cell_type": "code",
   "execution_count": 8,
   "id": "8ac6ebdb-9a0f-44ce-b412-8a3ea1814e47",
   "metadata": {
    "editable": true,
    "execution": {
     "iopub.execute_input": "2024-04-10T10:54:09.930871Z",
     "iopub.status.busy": "2024-04-10T10:54:09.930399Z",
     "iopub.status.idle": "2024-04-10T10:54:09.942187Z",
     "shell.execute_reply": "2024-04-10T10:54:09.941327Z"
    },
    "papermill": {
     "duration": 0.021838,
     "end_time": "2024-04-10T10:54:09.944305",
     "exception": false,
     "start_time": "2024-04-10T10:54:09.922467",
     "status": "completed"
    },
    "slideshow": {
     "slide_type": ""
    },
    "tags": []
   },
   "outputs": [
    {
     "data": {
      "text/html": [
       "<div>\n",
       "<style scoped>\n",
       "    .dataframe tbody tr th:only-of-type {\n",
       "        vertical-align: middle;\n",
       "    }\n",
       "\n",
       "    .dataframe tbody tr th {\n",
       "        vertical-align: top;\n",
       "    }\n",
       "\n",
       "    .dataframe thead th {\n",
       "        text-align: right;\n",
       "    }\n",
       "</style>\n",
       "<table border=\"1\" class=\"dataframe\">\n",
       "  <thead>\n",
       "    <tr style=\"text-align: right;\">\n",
       "      <th></th>\n",
       "      <th>lifeExp</th>\n",
       "      <th>pred_lr</th>\n",
       "      <th>pred_kn</th>\n",
       "    </tr>\n",
       "    <tr>\n",
       "      <th>country</th>\n",
       "      <th></th>\n",
       "      <th></th>\n",
       "      <th></th>\n",
       "    </tr>\n",
       "  </thead>\n",
       "  <tbody>\n",
       "    <tr>\n",
       "      <th>Afghanistan</th>\n",
       "      <td>43.828</td>\n",
       "      <td>66.647871</td>\n",
       "      <td>63.8976</td>\n",
       "    </tr>\n",
       "    <tr>\n",
       "      <th>Albania</th>\n",
       "      <td>76.423</td>\n",
       "      <td>70.982125</td>\n",
       "      <td>68.8572</td>\n",
       "    </tr>\n",
       "    <tr>\n",
       "      <th>...</th>\n",
       "      <td>...</td>\n",
       "      <td>...</td>\n",
       "      <td>...</td>\n",
       "    </tr>\n",
       "    <tr>\n",
       "      <th>Zambia</th>\n",
       "      <td>42.384</td>\n",
       "      <td>54.167720</td>\n",
       "      <td>56.3346</td>\n",
       "    </tr>\n",
       "    <tr>\n",
       "      <th>Zimbabwe</th>\n",
       "      <td>43.487</td>\n",
       "      <td>53.889409</td>\n",
       "      <td>54.8012</td>\n",
       "    </tr>\n",
       "  </tbody>\n",
       "</table>\n",
       "<p>142 rows × 3 columns</p>\n",
       "</div>"
      ],
      "text/plain": [
       "             lifeExp    pred_lr  pred_kn\n",
       "country                                 \n",
       "Afghanistan   43.828  66.647871  63.8976\n",
       "Albania       76.423  70.982125  68.8572\n",
       "...              ...        ...      ...\n",
       "Zambia        42.384  54.167720  56.3346\n",
       "Zimbabwe      43.487  53.889409  54.8012\n",
       "\n",
       "[142 rows x 3 columns]"
      ]
     },
     "execution_count": 8,
     "metadata": {},
     "output_type": "execute_result"
    }
   ],
   "source": [
    "y_pred = model_kn.predict(X)\n",
    "\n",
    "df_pred['pred_kn'] = y_pred\n",
    "df_pred"
   ]
  },
  {
   "attachments": {},
   "cell_type": "markdown",
   "id": "4175d3ab-3221-4149-8b2e-5b6dda4dd331",
   "metadata": {
    "editable": true,
    "papermill": {
     "duration": 0.025082,
     "end_time": "2024-04-10T10:54:09.990077",
     "exception": false,
     "start_time": "2024-04-10T10:54:09.964995",
     "status": "completed"
    },
    "slideshow": {
     "slide_type": ""
    },
    "tags": []
   },
   "source": [
    "### Model evaluation"
   ]
  },
  {
   "attachments": {},
   "cell_type": "markdown",
   "id": "36ef3018-be54-40c2-b18b-4dc1ba480e5b",
   "metadata": {
    "editable": true,
    "papermill": {
     "duration": 0.007767,
     "end_time": "2024-04-10T10:54:10.007676",
     "exception": false,
     "start_time": "2024-04-10T10:54:09.999909",
     "status": "completed"
    },
    "slideshow": {
     "slide_type": ""
    },
    "tags": []
   },
   "source": [
    "#### Calculate the model's score"
   ]
  },
  {
   "cell_type": "code",
   "execution_count": 9,
   "id": "e07da0dc-2ecf-4cdd-ac9b-4a5cd79d41de",
   "metadata": {
    "editable": true,
    "execution": {
     "iopub.execute_input": "2024-04-10T10:54:10.026746Z",
     "iopub.status.busy": "2024-04-10T10:54:10.026456Z",
     "iopub.status.idle": "2024-04-10T10:54:10.034373Z",
     "shell.execute_reply": "2024-04-10T10:54:10.033803Z"
    },
    "papermill": {
     "duration": 0.020395,
     "end_time": "2024-04-10T10:54:10.036189",
     "exception": false,
     "start_time": "2024-04-10T10:54:10.015794",
     "status": "completed"
    },
    "slideshow": {
     "slide_type": ""
    },
    "tags": []
   },
   "outputs": [
    {
     "data": {
      "text/plain": [
       "0.21327511911395203"
      ]
     },
     "execution_count": 9,
     "metadata": {},
     "output_type": "execute_result"
    }
   ],
   "source": [
    "model_kn.score(X, y)"
   ]
  },
  {
   "attachments": {},
   "cell_type": "markdown",
   "id": "37021e5d-c59a-4517-88a3-7de0c3994ab3",
   "metadata": {
    "editable": true,
    "papermill": {
     "duration": 0.025613,
     "end_time": "2024-04-10T10:54:10.088724",
     "exception": false,
     "start_time": "2024-04-10T10:54:10.063111",
     "status": "completed"
    },
    "slideshow": {
     "slide_type": ""
    },
    "tags": []
   },
   "source": [
    "## The Random Forest ML Model"
   ]
  },
  {
   "attachments": {},
   "cell_type": "markdown",
   "id": "ee31025e-2830-43dc-8082-f2de0473ec0a",
   "metadata": {
    "editable": true,
    "papermill": {
     "duration": 0.008203,
     "end_time": "2024-04-10T10:54:10.104539",
     "exception": false,
     "start_time": "2024-04-10T10:54:10.096336",
     "status": "completed"
    },
    "slideshow": {
     "slide_type": ""
    },
    "tags": []
   },
   "source": [
    "### Fit the model with the data"
   ]
  },
  {
   "cell_type": "code",
   "execution_count": 10,
   "id": "f3e2088d-261f-45ea-bcf4-b683e3711a57",
   "metadata": {
    "editable": true,
    "execution": {
     "iopub.execute_input": "2024-04-10T10:54:10.120653Z",
     "iopub.status.busy": "2024-04-10T10:54:10.120406Z",
     "iopub.status.idle": "2024-04-10T10:54:10.164060Z",
     "shell.execute_reply": "2024-04-10T10:54:10.162266Z"
    },
    "papermill": {
     "duration": 0.054481,
     "end_time": "2024-04-10T10:54:10.166472",
     "exception": false,
     "start_time": "2024-04-10T10:54:10.111991",
     "status": "completed"
    },
    "slideshow": {
     "slide_type": ""
    },
    "tags": []
   },
   "outputs": [
    {
     "data": {
      "text/html": [
       "<style>#sk-container-id-3 {color: black;}#sk-container-id-3 pre{padding: 0;}#sk-container-id-3 div.sk-toggleable {background-color: white;}#sk-container-id-3 label.sk-toggleable__label {cursor: pointer;display: block;width: 100%;margin-bottom: 0;padding: 0.3em;box-sizing: border-box;text-align: center;}#sk-container-id-3 label.sk-toggleable__label-arrow:before {content: \"▸\";float: left;margin-right: 0.25em;color: #696969;}#sk-container-id-3 label.sk-toggleable__label-arrow:hover:before {color: black;}#sk-container-id-3 div.sk-estimator:hover label.sk-toggleable__label-arrow:before {color: black;}#sk-container-id-3 div.sk-toggleable__content {max-height: 0;max-width: 0;overflow: hidden;text-align: left;background-color: #f0f8ff;}#sk-container-id-3 div.sk-toggleable__content pre {margin: 0.2em;color: black;border-radius: 0.25em;background-color: #f0f8ff;}#sk-container-id-3 input.sk-toggleable__control:checked~div.sk-toggleable__content {max-height: 200px;max-width: 100%;overflow: auto;}#sk-container-id-3 input.sk-toggleable__control:checked~label.sk-toggleable__label-arrow:before {content: \"▾\";}#sk-container-id-3 div.sk-estimator input.sk-toggleable__control:checked~label.sk-toggleable__label {background-color: #d4ebff;}#sk-container-id-3 div.sk-label input.sk-toggleable__control:checked~label.sk-toggleable__label {background-color: #d4ebff;}#sk-container-id-3 input.sk-hidden--visually {border: 0;clip: rect(1px 1px 1px 1px);clip: rect(1px, 1px, 1px, 1px);height: 1px;margin: -1px;overflow: hidden;padding: 0;position: absolute;width: 1px;}#sk-container-id-3 div.sk-estimator {font-family: monospace;background-color: #f0f8ff;border: 1px dotted black;border-radius: 0.25em;box-sizing: border-box;margin-bottom: 0.5em;}#sk-container-id-3 div.sk-estimator:hover {background-color: #d4ebff;}#sk-container-id-3 div.sk-parallel-item::after {content: \"\";width: 100%;border-bottom: 1px solid gray;flex-grow: 1;}#sk-container-id-3 div.sk-label:hover label.sk-toggleable__label {background-color: #d4ebff;}#sk-container-id-3 div.sk-serial::before {content: \"\";position: absolute;border-left: 1px solid gray;box-sizing: border-box;top: 0;bottom: 0;left: 50%;z-index: 0;}#sk-container-id-3 div.sk-serial {display: flex;flex-direction: column;align-items: center;background-color: white;padding-right: 0.2em;padding-left: 0.2em;position: relative;}#sk-container-id-3 div.sk-item {position: relative;z-index: 1;}#sk-container-id-3 div.sk-parallel {display: flex;align-items: stretch;justify-content: center;background-color: white;position: relative;}#sk-container-id-3 div.sk-item::before, #sk-container-id-3 div.sk-parallel-item::before {content: \"\";position: absolute;border-left: 1px solid gray;box-sizing: border-box;top: 0;bottom: 0;left: 50%;z-index: -1;}#sk-container-id-3 div.sk-parallel-item {display: flex;flex-direction: column;z-index: 1;position: relative;background-color: white;}#sk-container-id-3 div.sk-parallel-item:first-child::after {align-self: flex-end;width: 50%;}#sk-container-id-3 div.sk-parallel-item:last-child::after {align-self: flex-start;width: 50%;}#sk-container-id-3 div.sk-parallel-item:only-child::after {width: 0;}#sk-container-id-3 div.sk-dashed-wrapped {border: 1px dashed gray;margin: 0 0.4em 0.5em 0.4em;box-sizing: border-box;padding-bottom: 0.4em;background-color: white;}#sk-container-id-3 div.sk-label label {font-family: monospace;font-weight: bold;display: inline-block;line-height: 1.2em;}#sk-container-id-3 div.sk-label-container {text-align: center;}#sk-container-id-3 div.sk-container {/* jupyter's `normalize.less` sets `[hidden] { display: none; }` but bootstrap.min.css set `[hidden] { display: none !important; }` so we also need the `!important` here to be able to override the default hidden behavior on the sphinx rendered scikit-learn.org. See: https://github.com/scikit-learn/scikit-learn/issues/21755 */display: inline-block !important;position: relative;}#sk-container-id-3 div.sk-text-repr-fallback {display: none;}</style><div id=\"sk-container-id-3\" class=\"sk-top-container\"><div class=\"sk-text-repr-fallback\"><pre>DecisionTreeRegressor()</pre><b>In a Jupyter environment, please rerun this cell to show the HTML representation or trust the notebook. <br />On GitHub, the HTML representation is unable to render, please try loading this page with nbviewer.org.</b></div><div class=\"sk-container\" hidden><div class=\"sk-item\"><div class=\"sk-estimator sk-toggleable\"><input class=\"sk-toggleable__control sk-hidden--visually\" id=\"sk-estimator-id-3\" type=\"checkbox\" checked><label for=\"sk-estimator-id-3\" class=\"sk-toggleable__label sk-toggleable__label-arrow\">DecisionTreeRegressor</label><div class=\"sk-toggleable__content\"><pre>DecisionTreeRegressor()</pre></div></div></div></div></div>"
      ],
      "text/plain": [
       "DecisionTreeRegressor()"
      ]
     },
     "execution_count": 10,
     "metadata": {},
     "output_type": "execute_result"
    }
   ],
   "source": [
    "from sklearn.tree import DecisionTreeRegressor\n",
    "\n",
    "model = DecisionTreeRegressor()\n",
    "model.fit(X, y)"
   ]
  },
  {
   "attachments": {},
   "cell_type": "markdown",
   "id": "7665a639-5d5a-44c0-ad2a-42357117d473",
   "metadata": {
    "editable": true,
    "papermill": {
     "duration": 0.00864,
     "end_time": "2024-04-10T10:54:10.183592",
     "exception": false,
     "start_time": "2024-04-10T10:54:10.174952",
     "status": "completed"
    },
    "slideshow": {
     "slide_type": ""
    },
    "tags": []
   },
   "source": [
    "### Predictions"
   ]
  },
  {
   "cell_type": "code",
   "execution_count": 11,
   "id": "773ff518-bd26-4c1e-9476-f2d0d02e510a",
   "metadata": {
    "editable": true,
    "execution": {
     "iopub.execute_input": "2024-04-10T10:54:10.203116Z",
     "iopub.status.busy": "2024-04-10T10:54:10.202786Z",
     "iopub.status.idle": "2024-04-10T10:54:10.213581Z",
     "shell.execute_reply": "2024-04-10T10:54:10.213054Z"
    },
    "papermill": {
     "duration": 0.022316,
     "end_time": "2024-04-10T10:54:10.215302",
     "exception": false,
     "start_time": "2024-04-10T10:54:10.192986",
     "status": "completed"
    },
    "slideshow": {
     "slide_type": ""
    },
    "tags": []
   },
   "outputs": [
    {
     "data": {
      "text/html": [
       "<div>\n",
       "<style scoped>\n",
       "    .dataframe tbody tr th:only-of-type {\n",
       "        vertical-align: middle;\n",
       "    }\n",
       "\n",
       "    .dataframe tbody tr th {\n",
       "        vertical-align: top;\n",
       "    }\n",
       "\n",
       "    .dataframe thead th {\n",
       "        text-align: right;\n",
       "    }\n",
       "</style>\n",
       "<table border=\"1\" class=\"dataframe\">\n",
       "  <thead>\n",
       "    <tr style=\"text-align: right;\">\n",
       "      <th></th>\n",
       "      <th>lifeExp</th>\n",
       "      <th>pred_lr</th>\n",
       "      <th>pred_kn</th>\n",
       "      <th>pred_dt</th>\n",
       "    </tr>\n",
       "    <tr>\n",
       "      <th>country</th>\n",
       "      <th></th>\n",
       "      <th></th>\n",
       "      <th></th>\n",
       "      <th></th>\n",
       "    </tr>\n",
       "  </thead>\n",
       "  <tbody>\n",
       "    <tr>\n",
       "      <th>Afghanistan</th>\n",
       "      <td>43.828</td>\n",
       "      <td>66.647871</td>\n",
       "      <td>63.8976</td>\n",
       "      <td>43.828</td>\n",
       "    </tr>\n",
       "    <tr>\n",
       "      <th>Albania</th>\n",
       "      <td>76.423</td>\n",
       "      <td>70.982125</td>\n",
       "      <td>68.8572</td>\n",
       "      <td>76.423</td>\n",
       "    </tr>\n",
       "    <tr>\n",
       "      <th>...</th>\n",
       "      <td>...</td>\n",
       "      <td>...</td>\n",
       "      <td>...</td>\n",
       "      <td>...</td>\n",
       "    </tr>\n",
       "    <tr>\n",
       "      <th>Zambia</th>\n",
       "      <td>42.384</td>\n",
       "      <td>54.167720</td>\n",
       "      <td>56.3346</td>\n",
       "      <td>42.384</td>\n",
       "    </tr>\n",
       "    <tr>\n",
       "      <th>Zimbabwe</th>\n",
       "      <td>43.487</td>\n",
       "      <td>53.889409</td>\n",
       "      <td>54.8012</td>\n",
       "      <td>43.487</td>\n",
       "    </tr>\n",
       "  </tbody>\n",
       "</table>\n",
       "<p>142 rows × 4 columns</p>\n",
       "</div>"
      ],
      "text/plain": [
       "             lifeExp    pred_lr  pred_kn  pred_dt\n",
       "country                                          \n",
       "Afghanistan   43.828  66.647871  63.8976   43.828\n",
       "Albania       76.423  70.982125  68.8572   76.423\n",
       "...              ...        ...      ...      ...\n",
       "Zambia        42.384  54.167720  56.3346   42.384\n",
       "Zimbabwe      43.487  53.889409  54.8012   43.487\n",
       "\n",
       "[142 rows x 4 columns]"
      ]
     },
     "execution_count": 11,
     "metadata": {},
     "output_type": "execute_result"
    }
   ],
   "source": [
    "y_pred = model.predict(X)\n",
    "\n",
    "df_pred['pred_dt'] = y_pred\n",
    "df_pred"
   ]
  },
  {
   "attachments": {},
   "cell_type": "markdown",
   "id": "a4978b35-2190-4800-bba5-e424aa303af8",
   "metadata": {
    "editable": true,
    "papermill": {
     "duration": 0.008375,
     "end_time": "2024-04-10T10:54:10.231337",
     "exception": false,
     "start_time": "2024-04-10T10:54:10.222962",
     "status": "completed"
    },
    "slideshow": {
     "slide_type": ""
    },
    "tags": []
   },
   "source": [
    "### Model evaluation"
   ]
  },
  {
   "cell_type": "code",
   "execution_count": 12,
   "id": "9582b6aa-6b92-4da0-b9f0-ecbdb003208f",
   "metadata": {
    "editable": true,
    "execution": {
     "iopub.execute_input": "2024-04-10T10:54:10.267612Z",
     "iopub.status.busy": "2024-04-10T10:54:10.266943Z",
     "iopub.status.idle": "2024-04-10T10:54:10.274731Z",
     "shell.execute_reply": "2024-04-10T10:54:10.274141Z"
    },
    "papermill": {
     "duration": 0.03713,
     "end_time": "2024-04-10T10:54:10.276330",
     "exception": false,
     "start_time": "2024-04-10T10:54:10.239200",
     "status": "completed"
    },
    "slideshow": {
     "slide_type": ""
    },
    "tags": []
   },
   "outputs": [
    {
     "data": {
      "text/plain": [
       "1.0"
      ]
     },
     "execution_count": 12,
     "metadata": {},
     "output_type": "execute_result"
    }
   ],
   "source": [
    "model.score(X, y)"
   ]
  },
  {
   "attachments": {},
   "cell_type": "markdown",
   "id": "4c986e43-c862-4da9-b892-5dde9e82140a",
   "metadata": {
    "editable": true,
    "papermill": {
     "duration": 0.009659,
     "end_time": "2024-04-10T10:54:10.300925",
     "exception": false,
     "start_time": "2024-04-10T10:54:10.291266",
     "status": "completed"
    },
    "slideshow": {
     "slide_type": ""
    },
    "tags": []
   },
   "source": [
    "## Bonus: plot tree\n",
    "\n",
    "### Default"
   ]
  },
  {
   "cell_type": "code",
   "execution_count": 13,
   "id": "62ed1e5c-8359-4a5c-8ecb-d15d06729851",
   "metadata": {
    "editable": true,
    "execution": {
     "iopub.execute_input": "2024-04-10T10:54:10.321184Z",
     "iopub.status.busy": "2024-04-10T10:54:10.320827Z",
     "iopub.status.idle": "2024-04-10T10:54:19.429116Z",
     "shell.execute_reply": "2024-04-10T10:54:19.428539Z"
    },
    "papermill": {
     "duration": 9.121245,
     "end_time": "2024-04-10T10:54:19.431160",
     "exception": false,
     "start_time": "2024-04-10T10:54:10.309915",
     "status": "completed"
    },
    "slideshow": {
     "slide_type": ""
    },
    "tags": []
   },
   "outputs": [
    {
     "data": {
      "image/png": "[encoded data removed]",
      "text/plain": [
       "<Figure size 640x480 with 1 Axes>"
      ]
     },
     "metadata": {},
     "output_type": "display_data"
    }
   ],
   "source": [
    "from sklearn.tree import plot_tree\n",
    "plot_tree(model, feature_names=model.feature_names_in_, filled=True);"
   ]
  },
  {
   "cell_type": "code",
   "execution_count": 14,
   "id": "878354d4-d153-4069-8834-c42b786d6fe1",
   "metadata": {
    "editable": true,
    "execution": {
     "iopub.execute_input": "2024-04-10T10:54:19.448766Z",
     "iopub.status.busy": "2024-04-10T10:54:19.448152Z",
     "iopub.status.idle": "2024-04-10T10:54:19.961001Z",
     "shell.execute_reply": "2024-04-10T10:54:19.960153Z"
    },
    "papermill": {
     "duration": 0.523996,
     "end_time": "2024-04-10T10:54:19.963461",
     "exception": false,
     "start_time": "2024-04-10T10:54:19.439465",
     "status": "completed"
    },
    "slideshow": {
     "slide_type": ""
    },
    "tags": []
   },
   "outputs": [
    {
     "data": {
      "image/png": "[encoded data removed]",
      "text/plain": [
       "<Figure size 640x480 with 1 Axes>"
      ]
     },
     "metadata": {},
     "output_type": "display_data"
    }
   ],
   "source": [
    "plot_tree(model, feature_names=model.feature_names_in_, filled=True, max_depth=2, fontsize=7);"
   ]
  },
  {
   "attachments": {},
   "cell_type": "markdown",
   "id": "d87930f2-ada6-4a7d-846e-eda050f184af",
   "metadata": {
    "editable": true,
    "papermill": {
     "duration": 0.014176,
     "end_time": "2024-04-10T10:54:19.993200",
     "exception": false,
     "start_time": "2024-04-10T10:54:19.979024",
     "status": "completed"
    },
    "slideshow": {
     "slide_type": ""
    },
    "tags": []
   },
   "source": [
    "### Cut tree"
   ]
  },
  {
   "cell_type": "code",
   "execution_count": 15,
   "id": "a7ab320d-d6d3-4bef-be98-d4229d0de141",
   "metadata": {
    "editable": true,
    "execution": {
     "iopub.execute_input": "2024-04-10T10:54:20.022288Z",
     "iopub.status.busy": "2024-04-10T10:54:20.021762Z",
     "iopub.status.idle": "2024-04-10T10:54:20.277709Z",
     "shell.execute_reply": "2024-04-10T10:54:20.276803Z"
    },
    "papermill": {
     "duration": 0.270429,
     "end_time": "2024-04-10T10:54:20.280151",
     "exception": false,
     "start_time": "2024-04-10T10:54:20.009722",
     "status": "completed"
    },
    "slideshow": {
     "slide_type": ""
    },
    "tags": []
   },
   "outputs": [
    {
     "data": {
      "image/png": "[encoded data removed]",
      "text/plain": [
       "<Figure size 640x480 with 1 Axes>"
      ]
     },
     "metadata": {},
     "output_type": "display_data"
    }
   ],
   "source": [
    "model = DecisionTreeRegressor(min_samples_leaf=40)\n",
    "model.fit(X,y)\n",
    "plot_tree(model, feature_names=model.feature_names_in_, filled=True);"
   ]
  },
  {
   "cell_type": "code",
   "execution_count": 16,
   "id": "1e503496-9070-4907-b62e-22d886acb964",
   "metadata": {
    "editable": true,
    "execution": {
     "iopub.execute_input": "2024-04-10T10:54:20.315095Z",
     "iopub.status.busy": "2024-04-10T10:54:20.314774Z",
     "iopub.status.idle": "2024-04-10T10:54:20.330124Z",
     "shell.execute_reply": "2024-04-10T10:54:20.329063Z"
    },
    "papermill": {
     "duration": 0.037251,
     "end_time": "2024-04-10T10:54:20.332574",
     "exception": false,
     "start_time": "2024-04-10T10:54:20.295323",
     "status": "completed"
    },
    "slideshow": {
     "slide_type": ""
    },
    "tags": []
   },
   "outputs": [
    {
     "data": {
      "text/html": [
       "<div>\n",
       "<style scoped>\n",
       "    .dataframe tbody tr th:only-of-type {\n",
       "        vertical-align: middle;\n",
       "    }\n",
       "\n",
       "    .dataframe tbody tr th {\n",
       "        vertical-align: top;\n",
       "    }\n",
       "\n",
       "    .dataframe thead th {\n",
       "        text-align: right;\n",
       "    }\n",
       "</style>\n",
       "<table border=\"1\" class=\"dataframe\">\n",
       "  <thead>\n",
       "    <tr style=\"text-align: right;\">\n",
       "      <th></th>\n",
       "      <th>lifeExp</th>\n",
       "      <th>pred_lr</th>\n",
       "      <th>pred_kn</th>\n",
       "      <th>pred_dt</th>\n",
       "      <th>pred_dt_cut</th>\n",
       "    </tr>\n",
       "    <tr>\n",
       "      <th>country</th>\n",
       "      <th></th>\n",
       "      <th></th>\n",
       "      <th></th>\n",
       "      <th></th>\n",
       "      <th></th>\n",
       "    </tr>\n",
       "  </thead>\n",
       "  <tbody>\n",
       "    <tr>\n",
       "      <th>Afghanistan</th>\n",
       "      <td>43.828</td>\n",
       "      <td>66.647871</td>\n",
       "      <td>63.8976</td>\n",
       "      <td>43.828</td>\n",
       "      <td>70.114064</td>\n",
       "    </tr>\n",
       "    <tr>\n",
       "      <th>Albania</th>\n",
       "      <td>76.423</td>\n",
       "      <td>70.982125</td>\n",
       "      <td>68.8572</td>\n",
       "      <td>76.423</td>\n",
       "      <td>70.114064</td>\n",
       "    </tr>\n",
       "    <tr>\n",
       "      <th>...</th>\n",
       "      <td>...</td>\n",
       "      <td>...</td>\n",
       "      <td>...</td>\n",
       "      <td>...</td>\n",
       "      <td>...</td>\n",
       "    </tr>\n",
       "    <tr>\n",
       "      <th>Zambia</th>\n",
       "      <td>42.384</td>\n",
       "      <td>54.167720</td>\n",
       "      <td>56.3346</td>\n",
       "      <td>42.384</td>\n",
       "      <td>54.806038</td>\n",
       "    </tr>\n",
       "    <tr>\n",
       "      <th>Zimbabwe</th>\n",
       "      <td>43.487</td>\n",
       "      <td>53.889409</td>\n",
       "      <td>54.8012</td>\n",
       "      <td>43.487</td>\n",
       "      <td>54.806038</td>\n",
       "    </tr>\n",
       "  </tbody>\n",
       "</table>\n",
       "<p>142 rows × 5 columns</p>\n",
       "</div>"
      ],
      "text/plain": [
       "             lifeExp    pred_lr  pred_kn  pred_dt  pred_dt_cut\n",
       "country                                                       \n",
       "Afghanistan   43.828  66.647871  63.8976   43.828    70.114064\n",
       "Albania       76.423  70.982125  68.8572   76.423    70.114064\n",
       "...              ...        ...      ...      ...          ...\n",
       "Zambia        42.384  54.167720  56.3346   42.384    54.806038\n",
       "Zimbabwe      43.487  53.889409  54.8012   43.487    54.806038\n",
       "\n",
       "[142 rows x 5 columns]"
      ]
     },
     "execution_count": 16,
     "metadata": {},
     "output_type": "execute_result"
    }
   ],
   "source": [
    "df_pred['pred_dt_cut'] = model.predict(X)\n",
    "df_pred"
   ]
  },
  {
   "cell_type": "code",
   "execution_count": 17,
   "id": "2edf151e-2d1a-4ce6-bbd8-467bcbf3b41a",
   "metadata": {
    "editable": true,
    "execution": {
     "iopub.execute_input": "2024-04-10T10:54:20.366325Z",
     "iopub.status.busy": "2024-04-10T10:54:20.366003Z",
     "iopub.status.idle": "2024-04-10T10:54:20.375120Z",
     "shell.execute_reply": "2024-04-10T10:54:20.374212Z"
    },
    "papermill": {
     "duration": 0.027912,
     "end_time": "2024-04-10T10:54:20.377753",
     "exception": false,
     "start_time": "2024-04-10T10:54:20.349841",
     "status": "completed"
    },
    "slideshow": {
     "slide_type": ""
    },
    "tags": []
   },
   "outputs": [
    {
     "data": {
      "text/plain": [
       "0.6687337633505184"
      ]
     },
     "execution_count": 17,
     "metadata": {},
     "output_type": "execute_result"
    }
   ],
   "source": [
    "model.score(X,y)"
   ]
  }
 ],
 "metadata": {
  "kernelspec": {
   "display_name": "Python (work)",
   "language": "python",
   "name": "work"
  },
  "language_info": {
   "codemirror_mode": {
    "name": "ipython",
    "version": 3
   },
   "file_extension": ".py",
   "mimetype": "text/x-python",
   "name": "python",
   "nbconvert_exporter": "python",
   "pygments_lexer": "ipython3",
   "version": "3.12.0"
  },
  "papermill": {
   "default_parameters": {},
   "duration": 14.114599,
   "end_time": "2024-04-10T10:54:20.930475",
   "environment_variables": {},
   "exception": null,
   "input_path": "/Users/sota/Dropbox/2 Business/2 Areas/datons.academy/2 Areas/Products/Digital Courses/DAV/course-maven/solutions/notebooks/50_Stats & Machine Learning/52_ML Steps/B.ipynb",
   "output_path": "/Users/sota/Dropbox/2 Business/2 Areas/datons.academy/2 Areas/Products/Digital Courses/DAV/course-maven/solutions/notebooks/50_Stats & Machine Learning/52_ML Steps/B.ipynb",
   "parameters": {},
   "start_time": "2024-04-10T10:54:06.815876",
   "version": "2.5.0"
  }
 },
 "nbformat": 4,
 "nbformat_minor": 5
}