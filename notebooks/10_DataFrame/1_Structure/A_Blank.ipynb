{
 "cells": [
  {
   "cell_type": "markdown",
   "id": "51fc0327",
   "metadata": {
    "papermill": {
     "duration": 0.002782,
     "end_time": "2024-06-15T22:45:50.884154",
     "exception": false,
     "start_time": "2024-06-15T22:45:50.881372",
     "status": "completed"
    },
    "tags": []
   },
   "source": [
    "# Pandas objects"
   ]
  },
  {
   "cell_type": "markdown",
   "id": "4bbed0e2",
   "metadata": {
    "papermill": {
     "duration": 0.002132,
     "end_time": "2024-06-15T22:45:50.888782",
     "exception": false,
     "start_time": "2024-06-15T22:45:50.886650",
     "status": "completed"
    },
    "tags": []
   },
   "source": [
    "<div>\n",
    "<img src=\"src/DataFrame.jpg\" width=\"45%\"/>\n",
    "<img src=\"src/Series.jpg\" width=\"45%\"/>\n",
    "</div>"
   ]
  },
  {
   "cell_type": "markdown",
   "id": "f36e9c1e",
   "metadata": {
    "papermill": {
     "duration": 0.001549,
     "end_time": "2024-06-15T22:45:50.892163",
     "exception": false,
     "start_time": "2024-06-15T22:45:50.890614",
     "status": "completed"
    },
    "tags": []
   },
   "source": [
    "## Load dataset"
   ]
  },
  {
   "cell_type": "code",
   "execution_count": null,
   "id": "c058ada7",
   "metadata": {
    "execution": {
     "iopub.execute_input": "2024-06-15T22:45:50.896239Z",
     "iopub.status.busy": "2024-06-15T22:45:50.896055Z",
     "iopub.status.idle": "2024-06-15T22:45:50.971417Z",
     "shell.execute_reply": "2024-06-15T22:45:50.971139Z"
    },
    "papermill": {
     "duration": 0.078908,
     "end_time": "2024-06-15T22:45:50.972580",
     "exception": false,
     "start_time": "2024-06-15T22:45:50.893672",
     "status": "completed"
    },
    "tags": []
   },
   "outputs": [],
   "source": []
  },
  {
   "cell_type": "code",
   "execution_count": null,
   "id": "fe57cc91",
   "metadata": {
    "execution": {
     "iopub.execute_input": "2024-06-15T22:45:50.975804Z",
     "iopub.status.busy": "2024-06-15T22:45:50.975643Z",
     "iopub.status.idle": "2024-06-15T22:45:50.981191Z",
     "shell.execute_reply": "2024-06-15T22:45:50.980981Z"
    },
    "papermill": {
     "duration": 0.008045,
     "end_time": "2024-06-15T22:45:50.981976",
     "exception": false,
     "start_time": "2024-06-15T22:45:50.973931",
     "status": "completed"
    },
    "tags": []
   },
   "outputs": [
    {
     "data": {
      "text/html": [
       "<div>\n",
       "<style scoped>\n",
       "    .dataframe tbody tr th:only-of-type {\n",
       "        vertical-align: middle;\n",
       "    }\n",
       "\n",
       "    .dataframe tbody tr th {\n",
       "        vertical-align: top;\n",
       "    }\n",
       "\n",
       "    .dataframe thead th {\n",
       "        text-align: right;\n",
       "    }\n",
       "</style>\n",
       "<table border=\"1\" class=\"dataframe\">\n",
       "  <thead>\n",
       "    <tr style=\"text-align: right;\">\n",
       "      <th></th>\n",
       "      <th>Matches</th>\n",
       "      <th>Goals</th>\n",
       "      <th>Assists</th>\n",
       "      <th>Birthday</th>\n",
       "    </tr>\n",
       "    <tr>\n",
       "      <th>Player</th>\n",
       "      <th></th>\n",
       "      <th></th>\n",
       "      <th></th>\n",
       "      <th></th>\n",
       "    </tr>\n",
       "  </thead>\n",
       "  <tbody>\n",
       "    <tr>\n",
       "      <th>CR7</th>\n",
       "      <td>923</td>\n",
       "      <td>689</td>\n",
       "      <td>231</td>\n",
       "      <td>1985-02-05</td>\n",
       "    </tr>\n",
       "    <tr>\n",
       "      <th>Messi</th>\n",
       "      <td>800</td>\n",
       "      <td>679</td>\n",
       "      <td>312</td>\n",
       "      <td>1987-06-24</td>\n",
       "    </tr>\n",
       "    <tr>\n",
       "      <th>Lewandowski</th>\n",
       "      <td>662</td>\n",
       "      <td>498</td>\n",
       "      <td>131</td>\n",
       "      <td>1988-08-21</td>\n",
       "    </tr>\n",
       "    <tr>\n",
       "      <th>Benzema</th>\n",
       "      <td>737</td>\n",
       "      <td>370</td>\n",
       "      <td>182</td>\n",
       "      <td>1987-12-19</td>\n",
       "    </tr>\n",
       "  </tbody>\n",
       "</table>\n",
       "</div>"
      ],
      "text/plain": [
       "             Matches  Goals  Assists   Birthday\n",
       "Player                                         \n",
       "CR7              923    689      231 1985-02-05\n",
       "Messi            800    679      312 1987-06-24\n",
       "Lewandowski      662    498      131 1988-08-21\n",
       "Benzema          737    370      182 1987-12-19"
      ]
     },
     "execution_count": null,
     "metadata": {},
     "output_type": "execute_result"
    }
   ],
   "source": []
  },
  {
   "cell_type": "markdown",
   "id": "1226cf98",
   "metadata": {
    "papermill": {
     "duration": 0.001529,
     "end_time": "2024-06-15T22:45:50.985071",
     "exception": false,
     "start_time": "2024-06-15T22:45:50.983542",
     "status": "completed"
    },
    "tags": []
   },
   "source": [
    "## Pandas Objects"
   ]
  },
  {
   "cell_type": "markdown",
   "id": "90dbee11",
   "metadata": {
    "papermill": {
     "duration": 0.001892,
     "end_time": "2024-06-15T22:45:50.988746",
     "exception": false,
     "start_time": "2024-06-15T22:45:50.986854",
     "status": "completed"
    },
    "tags": []
   },
   "source": [
    "### DataFrame"
   ]
  },
  {
   "cell_type": "code",
   "execution_count": null,
   "id": "1e01847b",
   "metadata": {
    "execution": {
     "iopub.execute_input": "2024-06-15T22:45:50.992362Z",
     "iopub.status.busy": "2024-06-15T22:45:50.992205Z",
     "iopub.status.idle": "2024-06-15T22:45:50.994443Z",
     "shell.execute_reply": "2024-06-15T22:45:50.994200Z"
    },
    "papermill": {
     "duration": 0.005475,
     "end_time": "2024-06-15T22:45:50.995639",
     "exception": false,
     "start_time": "2024-06-15T22:45:50.990164",
     "status": "completed"
    },
    "tags": []
   },
   "outputs": [
    {
     "data": {
      "text/plain": [
       "pandas.core.frame.DataFrame"
      ]
     },
     "execution_count": null,
     "metadata": {},
     "output_type": "execute_result"
    }
   ],
   "source": []
  },
  {
   "cell_type": "code",
   "execution_count": null,
   "id": "c893be51",
   "metadata": {
    "execution": {
     "iopub.execute_input": "2024-06-15T22:45:50.998925Z",
     "iopub.status.busy": "2024-06-15T22:45:50.998815Z",
     "iopub.status.idle": "2024-06-15T22:45:51.001993Z",
     "shell.execute_reply": "2024-06-15T22:45:51.001672Z"
    },
    "papermill": {
     "duration": 0.005867,
     "end_time": "2024-06-15T22:45:51.002871",
     "exception": false,
     "start_time": "2024-06-15T22:45:50.997004",
     "status": "completed"
    },
    "tags": []
   },
   "outputs": [
    {
     "data": {
      "text/html": [
       "<div>\n",
       "<style scoped>\n",
       "    .dataframe tbody tr th:only-of-type {\n",
       "        vertical-align: middle;\n",
       "    }\n",
       "\n",
       "    .dataframe tbody tr th {\n",
       "        vertical-align: top;\n",
       "    }\n",
       "\n",
       "    .dataframe thead th {\n",
       "        text-align: right;\n",
       "    }\n",
       "</style>\n",
       "<table border=\"1\" class=\"dataframe\">\n",
       "  <thead>\n",
       "    <tr style=\"text-align: right;\">\n",
       "      <th></th>\n",
       "      <th>Matches</th>\n",
       "      <th>Goals</th>\n",
       "      <th>Assists</th>\n",
       "      <th>Birthday</th>\n",
       "    </tr>\n",
       "    <tr>\n",
       "      <th>Player</th>\n",
       "      <th></th>\n",
       "      <th></th>\n",
       "      <th></th>\n",
       "      <th></th>\n",
       "    </tr>\n",
       "  </thead>\n",
       "  <tbody>\n",
       "    <tr>\n",
       "      <th>CR7</th>\n",
       "      <td>923</td>\n",
       "      <td>689</td>\n",
       "      <td>231</td>\n",
       "      <td>1985-02-05</td>\n",
       "    </tr>\n",
       "    <tr>\n",
       "      <th>Messi</th>\n",
       "      <td>800</td>\n",
       "      <td>679</td>\n",
       "      <td>312</td>\n",
       "      <td>1987-06-24</td>\n",
       "    </tr>\n",
       "    <tr>\n",
       "      <th>Lewandowski</th>\n",
       "      <td>662</td>\n",
       "      <td>498</td>\n",
       "      <td>131</td>\n",
       "      <td>1988-08-21</td>\n",
       "    </tr>\n",
       "    <tr>\n",
       "      <th>Benzema</th>\n",
       "      <td>737</td>\n",
       "      <td>370</td>\n",
       "      <td>182</td>\n",
       "      <td>1987-12-19</td>\n",
       "    </tr>\n",
       "  </tbody>\n",
       "</table>\n",
       "</div>"
      ],
      "text/plain": [
       "             Matches  Goals  Assists   Birthday\n",
       "Player                                         \n",
       "CR7              923    689      231 1985-02-05\n",
       "Messi            800    679      312 1987-06-24\n",
       "Lewandowski      662    498      131 1988-08-21\n",
       "Benzema          737    370      182 1987-12-19"
      ]
     },
     "execution_count": null,
     "metadata": {},
     "output_type": "execute_result"
    }
   ],
   "source": []
  },
  {
   "cell_type": "markdown",
   "id": "40423c92",
   "metadata": {
    "papermill": {
     "duration": 0.001619,
     "end_time": "2024-06-15T22:45:51.006042",
     "exception": false,
     "start_time": "2024-06-15T22:45:51.004423",
     "status": "completed"
    },
    "tags": []
   },
   "source": [
    "### Series"
   ]
  },
  {
   "cell_type": "code",
   "execution_count": null,
   "id": "72a6eaac",
   "metadata": {
    "execution": {
     "iopub.execute_input": "2024-06-15T22:45:51.009488Z",
     "iopub.status.busy": "2024-06-15T22:45:51.009375Z",
     "iopub.status.idle": "2024-06-15T22:45:51.011435Z",
     "shell.execute_reply": "2024-06-15T22:45:51.011236Z"
    },
    "papermill": {
     "duration": 0.004638,
     "end_time": "2024-06-15T22:45:51.012152",
     "exception": false,
     "start_time": "2024-06-15T22:45:51.007514",
     "status": "completed"
    },
    "tags": []
   },
   "outputs": [
    {
     "data": {
      "text/plain": [
       "pandas.core.series.Series"
      ]
     },
     "execution_count": null,
     "metadata": {},
     "output_type": "execute_result"
    }
   ],
   "source": []
  },
  {
   "cell_type": "code",
   "execution_count": null,
   "id": "91eadbd1",
   "metadata": {
    "execution": {
     "iopub.execute_input": "2024-06-15T22:45:51.015023Z",
     "iopub.status.busy": "2024-06-15T22:45:51.014938Z",
     "iopub.status.idle": "2024-06-15T22:45:51.017027Z",
     "shell.execute_reply": "2024-06-15T22:45:51.016819Z"
    },
    "papermill": {
     "duration": 0.004362,
     "end_time": "2024-06-15T22:45:51.017699",
     "exception": false,
     "start_time": "2024-06-15T22:45:51.013337",
     "status": "completed"
    },
    "tags": []
   },
   "outputs": [
    {
     "data": {
      "text/plain": [
       "Player\n",
       "CR7           1985-02-05\n",
       "Messi         1987-06-24\n",
       "Lewandowski   1988-08-21\n",
       "Benzema       1987-12-19\n",
       "Name: Birthday, dtype: datetime64[ns]"
      ]
     },
     "execution_count": null,
     "metadata": {},
     "output_type": "execute_result"
    }
   ],
   "source": []
  },
  {
   "cell_type": "markdown",
   "id": "ee56cebb",
   "metadata": {
    "papermill": {
     "duration": 0.001486,
     "end_time": "2024-06-15T22:45:51.020734",
     "exception": false,
     "start_time": "2024-06-15T22:45:51.019248",
     "status": "completed"
    },
    "tags": []
   },
   "source": [
    "## Properties"
   ]
  },
  {
   "cell_type": "code",
   "execution_count": null,
   "id": "bde3803a",
   "metadata": {
    "execution": {
     "iopub.execute_input": "2024-06-15T22:45:51.023867Z",
     "iopub.status.busy": "2024-06-15T22:45:51.023766Z",
     "iopub.status.idle": "2024-06-15T22:45:51.026012Z",
     "shell.execute_reply": "2024-06-15T22:45:51.025773Z"
    },
    "papermill": {
     "duration": 0.004907,
     "end_time": "2024-06-15T22:45:51.026931",
     "exception": false,
     "start_time": "2024-06-15T22:45:51.022024",
     "status": "completed"
    },
    "tags": []
   },
   "outputs": [
    {
     "data": {
      "text/plain": [
       "Player\n",
       "CR7           1985-02-05\n",
       "Messi         1987-06-24\n",
       "Lewandowski   1988-08-21\n",
       "Benzema       1987-12-19\n",
       "Name: Birthday, dtype: datetime64[ns]"
      ]
     },
     "execution_count": null,
     "metadata": {},
     "output_type": "execute_result"
    }
   ],
   "source": []
  },
  {
   "cell_type": "markdown",
   "id": "95dc0d46",
   "metadata": {
    "papermill": {
     "duration": 0.001435,
     "end_time": "2024-06-15T22:45:51.029853",
     "exception": false,
     "start_time": "2024-06-15T22:45:51.028418",
     "status": "completed"
    },
    "tags": []
   },
   "source": [
    "### Index"
   ]
  },
  {
   "cell_type": "code",
   "execution_count": null,
   "id": "410ae286",
   "metadata": {
    "execution": {
     "iopub.execute_input": "2024-06-15T22:45:51.033600Z",
     "iopub.status.busy": "2024-06-15T22:45:51.033488Z",
     "iopub.status.idle": "2024-06-15T22:45:51.035679Z",
     "shell.execute_reply": "2024-06-15T22:45:51.035450Z"
    },
    "papermill": {
     "duration": 0.005036,
     "end_time": "2024-06-15T22:45:51.036665",
     "exception": false,
     "start_time": "2024-06-15T22:45:51.031629",
     "status": "completed"
    },
    "tags": []
   },
   "outputs": [
    {
     "data": {
      "text/plain": [
       "Index(['CR7', 'Messi', 'Lewandowski', 'Benzema'], dtype='object', name='Player')"
      ]
     },
     "execution_count": null,
     "metadata": {},
     "output_type": "execute_result"
    }
   ],
   "source": []
  },
  {
   "cell_type": "code",
   "execution_count": null,
   "id": "58a7d913",
   "metadata": {
    "execution": {
     "iopub.execute_input": "2024-06-15T22:45:51.040483Z",
     "iopub.status.busy": "2024-06-15T22:45:51.040356Z",
     "iopub.status.idle": "2024-06-15T22:45:51.043399Z",
     "shell.execute_reply": "2024-06-15T22:45:51.043195Z"
    },
    "papermill": {
     "duration": 0.005727,
     "end_time": "2024-06-15T22:45:51.044121",
     "exception": false,
     "start_time": "2024-06-15T22:45:51.038394",
     "status": "completed"
    },
    "tags": []
   },
   "outputs": [
    {
     "data": {
      "text/html": [
       "<div>\n",
       "<style scoped>\n",
       "    .dataframe tbody tr th:only-of-type {\n",
       "        vertical-align: middle;\n",
       "    }\n",
       "\n",
       "    .dataframe tbody tr th {\n",
       "        vertical-align: top;\n",
       "    }\n",
       "\n",
       "    .dataframe thead th {\n",
       "        text-align: right;\n",
       "    }\n",
       "</style>\n",
       "<table border=\"1\" class=\"dataframe\">\n",
       "  <thead>\n",
       "    <tr style=\"text-align: right;\">\n",
       "      <th></th>\n",
       "      <th>Matches</th>\n",
       "      <th>Goals</th>\n",
       "      <th>Assists</th>\n",
       "      <th>Birthday</th>\n",
       "    </tr>\n",
       "    <tr>\n",
       "      <th>Player</th>\n",
       "      <th></th>\n",
       "      <th></th>\n",
       "      <th></th>\n",
       "      <th></th>\n",
       "    </tr>\n",
       "  </thead>\n",
       "  <tbody>\n",
       "    <tr>\n",
       "      <th>CR7</th>\n",
       "      <td>923</td>\n",
       "      <td>689</td>\n",
       "      <td>231</td>\n",
       "      <td>1985-02-05</td>\n",
       "    </tr>\n",
       "    <tr>\n",
       "      <th>Messi</th>\n",
       "      <td>800</td>\n",
       "      <td>679</td>\n",
       "      <td>312</td>\n",
       "      <td>1987-06-24</td>\n",
       "    </tr>\n",
       "    <tr>\n",
       "      <th>Lewandowski</th>\n",
       "      <td>662</td>\n",
       "      <td>498</td>\n",
       "      <td>131</td>\n",
       "      <td>1988-08-21</td>\n",
       "    </tr>\n",
       "    <tr>\n",
       "      <th>Benzema</th>\n",
       "      <td>737</td>\n",
       "      <td>370</td>\n",
       "      <td>182</td>\n",
       "      <td>1987-12-19</td>\n",
       "    </tr>\n",
       "  </tbody>\n",
       "</table>\n",
       "</div>"
      ],
      "text/plain": [
       "             Matches  Goals  Assists   Birthday\n",
       "Player                                         \n",
       "CR7              923    689      231 1985-02-05\n",
       "Messi            800    679      312 1987-06-24\n",
       "Lewandowski      662    498      131 1988-08-21\n",
       "Benzema          737    370      182 1987-12-19"
      ]
     },
     "execution_count": null,
     "metadata": {},
     "output_type": "execute_result"
    }
   ],
   "source": []
  },
  {
   "cell_type": "code",
   "execution_count": null,
   "id": "8f337e18",
   "metadata": {
    "execution": {
     "iopub.execute_input": "2024-06-15T22:45:51.047924Z",
     "iopub.status.busy": "2024-06-15T22:45:51.047837Z",
     "iopub.status.idle": "2024-06-15T22:45:51.049670Z",
     "shell.execute_reply": "2024-06-15T22:45:51.049445Z"
    },
    "papermill": {
     "duration": 0.004482,
     "end_time": "2024-06-15T22:45:51.050555",
     "exception": false,
     "start_time": "2024-06-15T22:45:51.046073",
     "status": "completed"
    },
    "tags": []
   },
   "outputs": [
    {
     "data": {
      "text/plain": [
       "Index(['CR7', 'Messi', 'Lewandowski', 'Benzema'], dtype='object', name='Player')"
      ]
     },
     "execution_count": null,
     "metadata": {},
     "output_type": "execute_result"
    }
   ],
   "source": []
  },
  {
   "cell_type": "markdown",
   "id": "3d387362",
   "metadata": {
    "papermill": {
     "duration": 0.001764,
     "end_time": "2024-06-15T22:45:51.056027",
     "exception": false,
     "start_time": "2024-06-15T22:45:51.054263",
     "status": "completed"
    },
    "tags": []
   },
   "source": [
    "### Data Types"
   ]
  },
  {
   "cell_type": "code",
   "execution_count": null,
   "id": "60c85315",
   "metadata": {
    "execution": {
     "iopub.execute_input": "2024-06-15T22:45:51.059858Z",
     "iopub.status.busy": "2024-06-15T22:45:51.059728Z",
     "iopub.status.idle": "2024-06-15T22:45:51.061987Z",
     "shell.execute_reply": "2024-06-15T22:45:51.061805Z"
    },
    "papermill": {
     "duration": 0.005029,
     "end_time": "2024-06-15T22:45:51.062677",
     "exception": false,
     "start_time": "2024-06-15T22:45:51.057648",
     "status": "completed"
    },
    "tags": []
   },
   "outputs": [
    {
     "data": {
      "text/plain": [
       "Player\n",
       "CR7           1985-02-05\n",
       "Messi         1987-06-24\n",
       "Lewandowski   1988-08-21\n",
       "Benzema       1987-12-19\n",
       "Name: Birthday, dtype: datetime64[ns]"
      ]
     },
     "execution_count": null,
     "metadata": {},
     "output_type": "execute_result"
    }
   ],
   "source": []
  },
  {
   "cell_type": "code",
   "execution_count": null,
   "id": "cfcf9356",
   "metadata": {
    "execution": {
     "iopub.execute_input": "2024-06-15T22:45:51.066025Z",
     "iopub.status.busy": "2024-06-15T22:45:51.065935Z",
     "iopub.status.idle": "2024-06-15T22:45:51.068102Z",
     "shell.execute_reply": "2024-06-15T22:45:51.067844Z"
    },
    "papermill": {
     "duration": 0.004818,
     "end_time": "2024-06-15T22:45:51.068944",
     "exception": false,
     "start_time": "2024-06-15T22:45:51.064126",
     "status": "completed"
    },
    "tags": []
   },
   "outputs": [
    {
     "data": {
      "text/plain": [
       "Player\n",
       "CR7            689\n",
       "Messi          679\n",
       "Lewandowski    498\n",
       "Benzema        370\n",
       "Name: Goals, dtype: int64"
      ]
     },
     "execution_count": null,
     "metadata": {},
     "output_type": "execute_result"
    }
   ],
   "source": []
  }
 ],
 "metadata": {
  "kernelspec": {
   "display_name": "Python 3",
   "language": "python",
   "name": "python3"
  },
  "language_info": {
   "codemirror_mode": {
    "name": "ipython",
    "version": 3
   },
   "file_extension": ".py",
   "mimetype": "text/x-python",
   "name": "python",
   "nbconvert_exporter": "python",
   "pygments_lexer": "ipython3",
   "version": "3.12.3"
  },
  "papermill": {
   "default_parameters": {},
   "duration": 1.189482,
   "end_time": "2024-06-15T22:45:51.286996",
   "environment_variables": {},
   "exception": null,
   "input_path": "/Users/sota/Library/CloudStorage/Dropbox/2 Business/1 Datons/2 Areas/Courses/2 Catalogue/10 DF/1 Materials/DF/notebooks/10_DataFrame/1_Structure/B_Solution.ipynb",
   "output_path": "/Users/sota/Library/CloudStorage/Dropbox/2 Business/1 Datons/2 Areas/Courses/2 Catalogue/10 DF/1 Materials/DF/notebooks/10_DataFrame/1_Structure/B_Solution.ipynb",
   "parameters": {},
   "start_time": "2024-06-15T22:45:50.097514",
   "version": "2.6.0"
  }
 },
 "nbformat": 4,
 "nbformat_minor": 5
}
