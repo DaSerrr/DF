{
 "cells": [
  {
   "cell_type": "markdown",
   "metadata": {},
   "source": [
    "# Creating new columns in DataFrame"
   ]
  },
  {
   "cell_type": "code",
   "execution_count": 1,
   "metadata": {},
   "outputs": [],
   "source": [
    "import os\n",
    "\n",
    "os.environ['ESIOS_API_KEY'] = '273695bb4f30b8ab8de054a0410ee2a9d09c97a5006e3a07c27615e6c60888a7'"
   ]
  },
  {
   "cell_type": "code",
   "execution_count": 2,
   "metadata": {},
   "outputs": [],
   "source": [
    "from esios import ESIOSClient\n",
    "\n",
    "client = ESIOSClient()\n",
    "endpoint = client.endpoint(name='indicators')"
   ]
  },
  {
   "cell_type": "code",
   "execution_count": 3,
   "metadata": {},
   "outputs": [
    {
     "data": {
      "text/html": [
       "<div>\n",
       "<style scoped>\n",
       "    .dataframe tbody tr th:only-of-type {\n",
       "        vertical-align: middle;\n",
       "    }\n",
       "\n",
       "    .dataframe tbody tr th {\n",
       "        vertical-align: top;\n",
       "    }\n",
       "\n",
       "    .dataframe thead th {\n",
       "        text-align: right;\n",
       "    }\n",
       "</style>\n",
       "<table border=\"1\" class=\"dataframe\">\n",
       "  <thead>\n",
       "    <tr style=\"text-align: right;\">\n",
       "      <th></th>\n",
       "      <th>name</th>\n",
       "      <th>description</th>\n",
       "      <th>short_name</th>\n",
       "      <th>id</th>\n",
       "    </tr>\n",
       "  </thead>\n",
       "  <tbody>\n",
       "    <tr>\n",
       "      <th>0</th>\n",
       "      <td>Generación programada PBF Hidráulica UGH</td>\n",
       "      <td>Es el programa de energía diario, con desglose...</td>\n",
       "      <td>Hidráulica UGH</td>\n",
       "      <td>1</td>\n",
       "    </tr>\n",
       "    <tr>\n",
       "      <th>1</th>\n",
       "      <td>Generación programada PBF Hidráulica no UGH</td>\n",
       "      <td>Es el programa de energía diario, con desglose...</td>\n",
       "      <td>Hidráulica no UGH</td>\n",
       "      <td>2</td>\n",
       "    </tr>\n",
       "    <tr>\n",
       "      <th>...</th>\n",
       "      <td>...</td>\n",
       "      <td>...</td>\n",
       "      <td>...</td>\n",
       "      <td>...</td>\n",
       "    </tr>\n",
       "    <tr>\n",
       "      <th>1943</th>\n",
       "      <td>RD-L 10/2022 restricciones técnicas y mercados...</td>\n",
       "      <td>RD-L 10/2022 restricciones técnicas y mercados...</td>\n",
       "      <td>Mercado diario e intradiario</td>\n",
       "      <td>10411</td>\n",
       "    </tr>\n",
       "    <tr>\n",
       "      <th>1944</th>\n",
       "      <td>Precio medio ponderado de activación del servi...</td>\n",
       "      <td>Es un servicio específico de balance del sist...</td>\n",
       "      <td>Precio medio ponderado de activación del servi...</td>\n",
       "      <td>10412</td>\n",
       "    </tr>\n",
       "  </tbody>\n",
       "</table>\n",
       "<p>1945 rows × 4 columns</p>\n",
       "</div>"
      ],
      "text/plain": [
       "                                                   name  \\\n",
       "0              Generación programada PBF Hidráulica UGH   \n",
       "1           Generación programada PBF Hidráulica no UGH   \n",
       "...                                                 ...   \n",
       "1943  RD-L 10/2022 restricciones técnicas y mercados...   \n",
       "1944  Precio medio ponderado de activación del servi...   \n",
       "\n",
       "                                            description  \\\n",
       "0     Es el programa de energía diario, con desglose...   \n",
       "1     Es el programa de energía diario, con desglose...   \n",
       "...                                                 ...   \n",
       "1943  RD-L 10/2022 restricciones técnicas y mercados...   \n",
       "1944   Es un servicio específico de balance del sist...   \n",
       "\n",
       "                                             short_name     id  \n",
       "0                                        Hidráulica UGH      1  \n",
       "1                                     Hidráulica no UGH      2  \n",
       "...                                                 ...    ...  \n",
       "1943                       Mercado diario e intradiario  10411  \n",
       "1944  Precio medio ponderado de activación del servi...  10412  \n",
       "\n",
       "[1945 rows x 4 columns]"
      ]
     },
     "execution_count": 3,
     "metadata": {},
     "output_type": "execute_result"
    }
   ],
   "source": [
    "df = endpoint.list()\n",
    "df"
   ]
  },
  {
   "cell_type": "markdown",
   "metadata": {},
   "source": [
    "- spot:\n",
    "    - precio: 600\n",
    "    - energia: 602"
   ]
  },
  {
   "cell_type": "code",
   "execution_count": 14,
   "metadata": {},
   "outputs": [
    {
     "data": {
      "text/html": [
       "<div>\n",
       "<style scoped>\n",
       "    .dataframe tbody tr th:only-of-type {\n",
       "        vertical-align: middle;\n",
       "    }\n",
       "\n",
       "    .dataframe tbody tr th {\n",
       "        vertical-align: top;\n",
       "    }\n",
       "\n",
       "    .dataframe thead th {\n",
       "        text-align: right;\n",
       "    }\n",
       "</style>\n",
       "<table border=\"1\" class=\"dataframe\">\n",
       "  <thead>\n",
       "    <tr style=\"text-align: right;\">\n",
       "      <th></th>\n",
       "      <th>602</th>\n",
       "      <th>geo_id</th>\n",
       "      <th>geo_name</th>\n",
       "    </tr>\n",
       "    <tr>\n",
       "      <th>datetime</th>\n",
       "      <th></th>\n",
       "      <th></th>\n",
       "      <th></th>\n",
       "    </tr>\n",
       "  </thead>\n",
       "  <tbody>\n",
       "    <tr>\n",
       "      <th>2022-01-01 00:00:00+01:00</th>\n",
       "      <td>14963.8</td>\n",
       "      <td>8741</td>\n",
       "      <td>Península</td>\n",
       "    </tr>\n",
       "    <tr>\n",
       "      <th>2022-01-01 01:00:00+01:00</th>\n",
       "      <td>14967.8</td>\n",
       "      <td>8741</td>\n",
       "      <td>Península</td>\n",
       "    </tr>\n",
       "    <tr>\n",
       "      <th>...</th>\n",
       "      <td>...</td>\n",
       "      <td>...</td>\n",
       "      <td>...</td>\n",
       "    </tr>\n",
       "    <tr>\n",
       "      <th>2022-12-31 22:00:00+01:00</th>\n",
       "      <td>14964.2</td>\n",
       "      <td>8741</td>\n",
       "      <td>Península</td>\n",
       "    </tr>\n",
       "    <tr>\n",
       "      <th>2022-12-31 23:00:00+01:00</th>\n",
       "      <td>14875.1</td>\n",
       "      <td>8741</td>\n",
       "      <td>Península</td>\n",
       "    </tr>\n",
       "  </tbody>\n",
       "</table>\n",
       "<p>8760 rows × 3 columns</p>\n",
       "</div>"
      ],
      "text/plain": [
       "                               602  geo_id   geo_name\n",
       "datetime                                             \n",
       "2022-01-01 00:00:00+01:00  14963.8    8741  Península\n",
       "2022-01-01 01:00:00+01:00  14967.8    8741  Península\n",
       "...                            ...     ...        ...\n",
       "2022-12-31 22:00:00+01:00  14964.2    8741  Península\n",
       "2022-12-31 23:00:00+01:00  14875.1    8741  Península\n",
       "\n",
       "[8760 rows x 3 columns]"
      ]
     },
     "execution_count": 14,
     "metadata": {},
     "output_type": "execute_result"
    }
   ],
   "source": [
    "indicator_id = 602\n",
    "indicator = endpoint.select(indicator_id)\n",
    "df = indicator.historical(start='2022-01-01', end='2022-12-31')\n",
    "df"
   ]
  },
  {
   "cell_type": "code",
   "execution_count": 15,
   "metadata": {},
   "outputs": [
    {
     "data": {
      "text/plain": [
       "datetime\n",
       "2022-01-01 00:00:00+01:00    14963.8\n",
       "2022-01-01 01:00:00+01:00    14967.8\n",
       "                              ...   \n",
       "2022-12-31 22:00:00+01:00    14964.2\n",
       "2022-12-31 23:00:00+01:00    14875.1\n",
       "Name: energy, Length: 8760, dtype: float64"
      ]
     },
     "execution_count": 15,
     "metadata": {},
     "output_type": "execute_result"
    }
   ],
   "source": [
    "s = df[indicator_id]\n",
    "s.name = 'energy'\n",
    "s"
   ]
  },
  {
   "cell_type": "code",
   "execution_count": 16,
   "metadata": {},
   "outputs": [],
   "source": [
    "s.to_frame().to_parquet(f'../files/{indicator_id}.parquet')"
   ]
  },
  {
   "cell_type": "code",
   "execution_count": 18,
   "metadata": {},
   "outputs": [
    {
     "data": {
      "text/html": [
       "<div>\n",
       "<style scoped>\n",
       "    .dataframe tbody tr th:only-of-type {\n",
       "        vertical-align: middle;\n",
       "    }\n",
       "\n",
       "    .dataframe tbody tr th {\n",
       "        vertical-align: top;\n",
       "    }\n",
       "\n",
       "    .dataframe thead th {\n",
       "        text-align: right;\n",
       "    }\n",
       "</style>\n",
       "<table border=\"1\" class=\"dataframe\">\n",
       "  <thead>\n",
       "    <tr style=\"text-align: right;\">\n",
       "      <th></th>\n",
       "      <th>600</th>\n",
       "      <th>geo_id</th>\n",
       "      <th>geo_name</th>\n",
       "    </tr>\n",
       "    <tr>\n",
       "      <th>datetime</th>\n",
       "      <th></th>\n",
       "      <th></th>\n",
       "      <th></th>\n",
       "    </tr>\n",
       "  </thead>\n",
       "  <tbody>\n",
       "    <tr>\n",
       "      <th>2022-01-01 00:00:00+01:00</th>\n",
       "      <td>145.86</td>\n",
       "      <td>3</td>\n",
       "      <td>España</td>\n",
       "    </tr>\n",
       "    <tr>\n",
       "      <th>2022-01-01 01:00:00+01:00</th>\n",
       "      <td>114.90</td>\n",
       "      <td>3</td>\n",
       "      <td>España</td>\n",
       "    </tr>\n",
       "    <tr>\n",
       "      <th>...</th>\n",
       "      <td>...</td>\n",
       "      <td>...</td>\n",
       "      <td>...</td>\n",
       "    </tr>\n",
       "    <tr>\n",
       "      <th>2022-12-31 22:00:00+01:00</th>\n",
       "      <td>1.88</td>\n",
       "      <td>3</td>\n",
       "      <td>España</td>\n",
       "    </tr>\n",
       "    <tr>\n",
       "      <th>2022-12-31 23:00:00+01:00</th>\n",
       "      <td>0.10</td>\n",
       "      <td>3</td>\n",
       "      <td>España</td>\n",
       "    </tr>\n",
       "  </tbody>\n",
       "</table>\n",
       "<p>8760 rows × 3 columns</p>\n",
       "</div>"
      ],
      "text/plain": [
       "                              600  geo_id geo_name\n",
       "datetime                                          \n",
       "2022-01-01 00:00:00+01:00  145.86       3   España\n",
       "2022-01-01 01:00:00+01:00  114.90       3   España\n",
       "...                           ...     ...      ...\n",
       "2022-12-31 22:00:00+01:00    1.88       3   España\n",
       "2022-12-31 23:00:00+01:00    0.10       3   España\n",
       "\n",
       "[8760 rows x 3 columns]"
      ]
     },
     "execution_count": 18,
     "metadata": {},
     "output_type": "execute_result"
    }
   ],
   "source": [
    "indicator_id = 600\n",
    "indicator = endpoint.select(indicator_id)\n",
    "df = indicator.historical(start='2022-01-01', end='2022-12-31', geo_ids=[3])\n",
    "df"
   ]
  },
  {
   "cell_type": "code",
   "execution_count": 19,
   "metadata": {},
   "outputs": [
    {
     "data": {
      "text/plain": [
       "datetime\n",
       "2022-01-01 00:00:00+01:00    145.86\n",
       "2022-01-01 01:00:00+01:00    114.90\n",
       "                              ...  \n",
       "2022-12-31 22:00:00+01:00      1.88\n",
       "2022-12-31 23:00:00+01:00      0.10\n",
       "Name: price, Length: 8760, dtype: float64"
      ]
     },
     "execution_count": 19,
     "metadata": {},
     "output_type": "execute_result"
    }
   ],
   "source": [
    "s = df[indicator_id]\n",
    "s.name = 'price'\n",
    "s"
   ]
  },
  {
   "cell_type": "code",
   "execution_count": 21,
   "metadata": {},
   "outputs": [],
   "source": [
    "s.to_frame().to_parquet(f'../files/{indicator_id}.parquet')"
   ]
  },
  {
   "cell_type": "code",
   "execution_count": null,
   "metadata": {},
   "outputs": [],
   "source": []
  },
  {
   "cell_type": "code",
   "execution_count": null,
   "metadata": {},
   "outputs": [],
   "source": []
  }
 ],
 "metadata": {
  "kernelspec": {
   "display_name": "Python 3",
   "language": "python",
   "name": "python3"
  },
  "language_info": {
   "codemirror_mode": {
    "name": "ipython",
    "version": 3
   },
   "file_extension": ".py",
   "mimetype": "text/x-python",
   "name": "python",
   "nbconvert_exporter": "python",
   "pygments_lexer": "ipython3",
   "version": "3.12.3"
  }
 },
 "nbformat": 4,
 "nbformat_minor": 2
}
